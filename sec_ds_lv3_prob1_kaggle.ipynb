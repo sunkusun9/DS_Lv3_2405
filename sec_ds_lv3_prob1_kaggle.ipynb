{
 "cells": [
  {
   "cell_type": "markdown",
   "id": "765c0422",
   "metadata": {},
   "source": [
    "# 문제 6\n",
    "\n",
    "[Kaggle 형] train_prob.csv로 문제 failure 예측하는 모델을 만들고, \n",
    "\n",
    "test_prob.csv에 대한 failure가 1일 확률 예측하여 다음과 같은 형식의 answer6.csv를 만들어라. \n",
    "\n",
    "측정 지표는 AUC(area under of ROC curve)이다. id 는 테스트 케이스의 id 이고, failure에는 failure가 1이 될 확률이다.\n",
    "\n",
    "id,failure\n",
    "\n",
    "16115, 0.1\n",
    "\n",
    "16116, 0.2\n",
    "\n",
    "\n",
    "**강사: 멀티캠퍼스 강선구(sunku0316.kang@multicampus.com, sun9sun9@gmail.com)**"
   ]
  },
  {
   "cell_type": "code",
   "execution_count": 1,
   "id": "42ff1fa9",
   "metadata": {},
   "outputs": [
    {
     "name": "stdout",
     "output_type": "stream",
     "text": [
      "3.7.4 (tags/v3.7.4:e09359112e, Jul  8 2019, 20:34:20) [MSC v.1916 64 bit (AMD64)]\n",
      "pandas 0.25.1\n",
      "numpy 1.18.5\n",
      "sklearn 0.21.3\n",
      "scipy 1.5.2\n",
      "mlxtend 0.15.0.0\n",
      "statsmodels 0.11.1\n",
      "xgboost 0.80\n"
     ]
    }
   ],
   "source": [
    "# 실행 환경 확인\n",
    "\n",
    "import pandas as pd\n",
    "import numpy as np\n",
    "import sklearn\n",
    "import scipy\n",
    "import statsmodels\n",
    "import mlxtend\n",
    "import sys\n",
    "import xgboost as xgb\n",
    "\n",
    "print(sys.version)\n",
    "for i in [pd, np, sklearn, scipy, mlxtend, statsmodels, xgb]:\n",
    "    print(i.__name__, i.__version__)"
   ]
  },
  {
   "cell_type": "code",
   "execution_count": 2,
   "id": "f8ce9fa8",
   "metadata": {},
   "outputs": [],
   "source": [
    "df_train = pd.read_csv('train_prob.csv', index_col='id')\n",
    "df_test = pd.read_csv('test_prob.csv', index_col='id')\n",
    "df_ans = pd.read_csv('test_prob_ans.csv', index_col='id')"
   ]
  },
  {
   "cell_type": "code",
   "execution_count": 3,
   "id": "e8240f23",
   "metadata": {},
   "outputs": [],
   "source": [
    "df_train[['na_1', 'na_2']] = df_train[['measurement_{}'.format(i) for i in [3, 5]]].isna()\n",
    "df_test[['na_1', 'na_2']] = df_test[['measurement_{}'.format(i) for i in [3, 5]]].isna()"
   ]
  },
  {
   "cell_type": "code",
   "execution_count": 4,
   "id": "38d4ed56",
   "metadata": {},
   "outputs": [],
   "source": [
    "from sklearn.experimental import enable_iterative_imputer\n",
    "from sklearn.impute import IterativeImputer\n",
    "from sklearn.linear_model import LinearRegression\n",
    "\n",
    "imp = IterativeImputer(\n",
    "    estimator=LinearRegression(fit_intercept=True),\n",
    "    random_state=123\n",
    ")\n",
    "X_imp = ['measurement_{}'.format(i) for i in range(3, 10)] + ['measurement_17']\n",
    "df_train[X_imp] = df_train.groupby('product_code')[X_imp].apply(\n",
    "    lambda x: pd.DataFrame(imp.fit_transform(x), index=x.index, columns=x.columns)\n",
    ")\n",
    "\n",
    "df_test[X_imp] = df_test.groupby('product_code')[X_imp].apply(\n",
    "    lambda x: pd.DataFrame(imp.fit_transform(x), index=x.index, columns=x.columns)\n",
    ")"
   ]
  },
  {
   "cell_type": "code",
   "execution_count": 5,
   "id": "7bc2395e",
   "metadata": {},
   "outputs": [],
   "source": [
    "X_mean = ['measurement_{}'.format(i) for i in range(10, 17)]\n",
    "df_train[X_mean] = df_train.groupby('product_code')[X_mean].transform(\n",
    "    lambda x: x.fillna(x.mean())\n",
    ")\n",
    "df_test[X_mean] = df_test.groupby('product_code')[X_mean].transform(\n",
    "    lambda x: x.fillna(x.mean())\n",
    ")"
   ]
  },
  {
   "cell_type": "code",
   "execution_count": 6,
   "id": "be659238",
   "metadata": {},
   "outputs": [],
   "source": [
    "df_train['loading'] = df_train['loading'].fillna(df_train['loading'].mean())\n",
    "df_test['loading'] = df_test['loading'].fillna(df_train['loading'].mean())"
   ]
  },
  {
   "cell_type": "code",
   "execution_count": 7,
   "id": "d812e4f2",
   "metadata": {},
   "outputs": [],
   "source": [
    "# log 자연 로그 함수를 적용하여 파생 변수 loading_log\n",
    "# LogisticRegression X_sfs_best = ['loading', 'measurement_1', 'measurement_4', 'measurement_14', 'measurement_17', 'na_1'] 0.5838326230092876\n",
    "# LinearDiscriminantAnalysis() measurement_0 ~ 17 ?\n",
    "# PCA() measurement_0 ~ 17 , n_components=7 0.581757510516433\n",
    "# RandomForestClassifier(random_state=123) 'n_estimators': 15, 'max_depth': 7, 'min_samples_split': 512} 0.5745226991354744"
   ]
  },
  {
   "cell_type": "code",
   "execution_count": 8,
   "id": "9961a179",
   "metadata": {},
   "outputs": [
    {
     "data": {
      "text/plain": [
       "C    5765\n",
       "E    5343\n",
       "B    5250\n",
       "A    5100\n",
       "Name: product_code, dtype: int64"
      ]
     },
     "execution_count": 8,
     "metadata": {},
     "output_type": "execute_result"
    }
   ],
   "source": [
    "df_train['product_code'].value_counts()"
   ]
  },
  {
   "cell_type": "code",
   "execution_count": 9,
   "id": "3c3adece",
   "metadata": {},
   "outputs": [
    {
     "data": {
      "text/plain": [
       "D    5112\n",
       "Name: product_code, dtype: int64"
      ]
     },
     "execution_count": 9,
     "metadata": {},
     "output_type": "execute_result"
    }
   ],
   "source": [
    "df_test['product_code'].value_counts()"
   ]
  },
  {
   "cell_type": "code",
   "execution_count": 10,
   "id": "9e59e2c5",
   "metadata": {},
   "outputs": [
    {
     "name": "stdout",
     "output_type": "stream",
     "text": [
      "['A' 'B' 'E'] ['C']\n",
      "['A' 'B' 'C'] ['E']\n",
      "['A' 'C' 'E'] ['B']\n",
      "['B' 'C' 'E'] ['A']\n"
     ]
    }
   ],
   "source": [
    "from sklearn.model_selection import GroupKFold\n",
    "\n",
    "gcv = GroupKFold(4)\n",
    "\n",
    "for train_idx, valid_idx in gcv.split(df_train, groups=df_train['product_code']):\n",
    "    print(\n",
    "        df_train.iloc[train_idx]['product_code'].unique(), \n",
    "        df_train.iloc[valid_idx]['product_code'].unique()\n",
    "    )"
   ]
  },
  {
   "cell_type": "markdown",
   "id": "ede1433f",
   "metadata": {},
   "source": [
    "# Kaggle형 풀이 단계\n",
    "\n",
    "Step 1: 검증 방법을 정하고, 검증 루틴을 만듭니다.\n",
    "\n",
    "Step 2: Baseline 모델을 만듭니다\n",
    "\n",
    "Step 3: 모델 선택 루틴을 만듭니다.\n",
    "\n",
    "Step 4: 모델 개선 작업을 합니다."
   ]
  },
  {
   "cell_type": "markdown",
   "id": "8abff1d8",
   "metadata": {},
   "source": [
    "# Step1"
   ]
  },
  {
   "cell_type": "code",
   "execution_count": 26,
   "id": "739875bc",
   "metadata": {},
   "outputs": [],
   "source": [
    "s_hist = list()\n",
    "\n",
    "from sklearn.model_selection import GroupKFold\n",
    "from sklearn.model_selection import cross_validate\n",
    "from sklearn.compose import ColumnTransformer\n",
    "from sklearn.pipeline import make_pipeline\n",
    "from sklearn.preprocessing import StandardScaler\n",
    "from sklearn.metrics import roc_auc_score\n",
    "\n",
    "gcv = GroupKFold(4)\n",
    "X_all = df_test.columns.tolist()\n",
    "\n",
    "def eval_model(model_name, clf):\n",
    "    result = cross_validate(\n",
    "        clf, df_train[X_all], df_train['failure'], groups=df_train['product_code'], cv=gcv, return_train_score=True, \n",
    "        scoring='roc_auc'\n",
    "    )\n",
    "    \n",
    "    s = 'Valid: {:.5f}±{:.5f},  V.Train: {:.5f}±{:.5f}'.format( \n",
    "            np.mean(result['test_score']), np.std(result['test_score']),\n",
    "            np.mean(result['train_score']), np.std(result['train_score']),\n",
    "        )\n",
    "    print(s)\n",
    "    s_hist.append(pd.Series({'model': model_name, 'result': s}))\n",
    "    display(pd.DataFrame(s_hist).groupby('model').last())\n",
    "    \n",
    "def select_model(clf):\n",
    "    clf.fit(df_train[X_all], df_train['failure'])\n",
    "    prd = clf.predict_proba(df_test[X_all])[:, 1]\n",
    "    pd.DataFrame({\n",
    "        'id': df_test.index,\n",
    "        'failure': prd\n",
    "    }).to_csv('answer6.csv', index=None)\n",
    "    return prd"
   ]
  },
  {
   "cell_type": "markdown",
   "id": "45cc42b8",
   "metadata": {},
   "source": [
    "# Step2"
   ]
  },
  {
   "cell_type": "code",
   "execution_count": 21,
   "id": "13ddc3f6",
   "metadata": {},
   "outputs": [
    {
     "name": "stdout",
     "output_type": "stream",
     "text": [
      "Valid: 0.58937±0.00379,  V.Train: 0.59191±0.00146\n"
     ]
    },
    {
     "data": {
      "text/html": [
       "<div>\n",
       "<style scoped>\n",
       "    .dataframe tbody tr th:only-of-type {\n",
       "        vertical-align: middle;\n",
       "    }\n",
       "\n",
       "    .dataframe tbody tr th {\n",
       "        vertical-align: top;\n",
       "    }\n",
       "\n",
       "    .dataframe thead th {\n",
       "        text-align: right;\n",
       "    }\n",
       "</style>\n",
       "<table border=\"1\" class=\"dataframe\">\n",
       "  <thead>\n",
       "    <tr style=\"text-align: right;\">\n",
       "      <th></th>\n",
       "      <th>result</th>\n",
       "    </tr>\n",
       "    <tr>\n",
       "      <th>model</th>\n",
       "      <th></th>\n",
       "    </tr>\n",
       "  </thead>\n",
       "  <tbody>\n",
       "    <tr>\n",
       "      <td>baseline</td>\n",
       "      <td>Valid: 0.58937±0.00379,  V.Train: 0.59191±0.00146</td>\n",
       "    </tr>\n",
       "  </tbody>\n",
       "</table>\n",
       "</div>"
      ],
      "text/plain": [
       "                                                     result\n",
       "model                                                      \n",
       "baseline  Valid: 0.58937±0.00379,  V.Train: 0.59191±0.00146"
      ]
     },
     "metadata": {},
     "output_type": "display_data"
    }
   ],
   "source": [
    "from sklearn.linear_model import LogisticRegression\n",
    "ct = ColumnTransformer([\n",
    "    ('std', StandardScaler(), ['loading', 'measurement_1', 'measurement_4', 'measurement_14', 'measurement_17']),\n",
    "    ('pt', 'passthrough', ['na_1'])\n",
    "])\n",
    "reg_lr = make_pipeline(ct, LogisticRegression(solver='lbfgs'))\n",
    "eval_model('baseline', reg_lr)"
   ]
  },
  {
   "cell_type": "markdown",
   "id": "6ce0f22b",
   "metadata": {},
   "source": [
    "# Step3"
   ]
  },
  {
   "cell_type": "code",
   "execution_count": 27,
   "id": "7420d4db",
   "metadata": {},
   "outputs": [
    {
     "name": "stdout",
     "output_type": "stream",
     "text": [
      "자가채점: 0.5883988309352517\n"
     ]
    }
   ],
   "source": [
    "prd = select_model(reg_lr)\n",
    "print(\"자가채점: {}\".format(roc_auc_score(df_ans['failure'], prd)))"
   ]
  },
  {
   "cell_type": "markdown",
   "id": "bf046f65",
   "metadata": {},
   "source": [
    "# Step4"
   ]
  },
  {
   "cell_type": "code",
   "execution_count": null,
   "id": "86b6e92d",
   "metadata": {},
   "outputs": [],
   "source": []
  }
 ],
 "metadata": {
  "kernelspec": {
   "display_name": "Python 3 (ipykernel)",
   "language": "python",
   "name": "python3"
  },
  "language_info": {
   "codemirror_mode": {
    "name": "ipython",
    "version": 3
   },
   "file_extension": ".py",
   "mimetype": "text/x-python",
   "name": "python",
   "nbconvert_exporter": "python",
   "pygments_lexer": "ipython3",
   "version": "3.7.4"
  }
 },
 "nbformat": 4,
 "nbformat_minor": 5
}
