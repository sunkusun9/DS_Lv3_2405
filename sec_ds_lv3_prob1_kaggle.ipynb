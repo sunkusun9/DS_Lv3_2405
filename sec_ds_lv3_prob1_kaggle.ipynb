{
 "cells": [
  {
   "cell_type": "markdown",
   "id": "765c0422",
   "metadata": {},
   "source": [
    "# 문제 6\n",
    "\n",
    "[Kaggle 형] train_prob.csv로 문제 failure 예측하는 모델을 만들고, \n",
    "\n",
    "test_prob.csv에 대한 failure가 1일 확률 예측하여 다음과 같은 형식의 answer6.csv를 만들어라. \n",
    "\n",
    "측정 지표는 AUC(area under of ROC curve)이다. id 는 테스트 케이스의 id 이고, failure에는 failure가 1이 될 확률이다.\n",
    "\n",
    "id,failure\n",
    "\n",
    "16115, 0.1\n",
    "\n",
    "16116, 0.2\n",
    "\n",
    "\n",
    "**강사: 멀티캠퍼스 강선구(sunku0316.kang@multicampus.com, sun9sun9@gmail.com)**"
   ]
  },
  {
   "cell_type": "code",
   "execution_count": 1,
   "id": "42ff1fa9",
   "metadata": {},
   "outputs": [
    {
     "name": "stdout",
     "output_type": "stream",
     "text": [
      "3.7.4 (tags/v3.7.4:e09359112e, Jul  8 2019, 20:34:20) [MSC v.1916 64 bit (AMD64)]\n",
      "pandas 0.25.1\n",
      "numpy 1.18.5\n",
      "sklearn 0.21.3\n",
      "scipy 1.5.2\n",
      "mlxtend 0.15.0.0\n",
      "statsmodels 0.11.1\n",
      "xgboost 0.80\n"
     ]
    }
   ],
   "source": [
    "# 실행 환경 확인\n",
    "\n",
    "import pandas as pd\n",
    "import numpy as np\n",
    "import sklearn\n",
    "import scipy\n",
    "import statsmodels\n",
    "import mlxtend\n",
    "import sys\n",
    "import xgboost as xgb\n",
    "\n",
    "print(sys.version)\n",
    "for i in [pd, np, sklearn, scipy, mlxtend, statsmodels, xgb]:\n",
    "    print(i.__name__, i.__version__)"
   ]
  },
  {
   "cell_type": "code",
   "execution_count": 2,
   "id": "96339a3c",
   "metadata": {},
   "outputs": [],
   "source": [
    "df_train = pd.read_csv('train_prob.csv', index_col='id')\n",
    "df_test = pd.read_csv('test_prob.csv', index_col='id')\n",
    "df_ans = pd.read_csv('test_prob_ans.csv', index_col='id')"
   ]
  },
  {
   "cell_type": "code",
   "execution_count": 3,
   "id": "51312002",
   "metadata": {},
   "outputs": [],
   "source": [
    "df_train[['na_1', 'na_2']] = df_train[['measurement_{}'.format(i) for i in [3, 5]]].isna()\n",
    "df_test[['na_1', 'na_2']] = df_test[['measurement_{}'.format(i) for i in [3, 5]]].isna()"
   ]
  },
  {
   "cell_type": "code",
   "execution_count": 4,
   "id": "20835e86",
   "metadata": {},
   "outputs": [],
   "source": [
    "# 방법 1: product_code 별로 IterativeImputer를 통한 결측처리를 하고 바로 적용합니다.\n",
    "\n",
    "from sklearn.experimental import enable_iterative_imputer\n",
    "from sklearn.impute import IterativeImputer\n",
    "from sklearn.linear_model import LinearRegression\n",
    "\n",
    "imp = IterativeImputer(\n",
    "    estimator=LinearRegression(fit_intercept=True),\n",
    "    random_state=123\n",
    ")\n",
    "X_imp = ['measurement_{}'.format(i) for i in range(3, 10)] + ['measurement_17']\n",
    "df_train[X_imp] = df_train.groupby('product_code')[X_imp].apply(\n",
    "    lambda x: pd.DataFrame(imp.fit_transform(x), index=x.index, columns=x.columns)\n",
    ")\n",
    "\n",
    "df_test[X_imp] = df_test.groupby('product_code')[X_imp].apply(\n",
    "    lambda x: pd.DataFrame(imp.fit_transform(x), index=x.index, columns=x.columns)\n",
    ")\n",
    "\n",
    "X_mean = ['measurement_{}'.format(i) for i in range(10, 17)]\n",
    "df_train[X_mean] = df_train.groupby('product_code')[X_mean].transform(\n",
    "    lambda x: x.fillna(x.mean())\n",
    ")\n",
    "df_test[X_mean] = df_test.groupby('product_code')[X_mean].transform(\n",
    "    lambda x: x.fillna(x.mean())\n",
    ")"
   ]
  },
  {
   "cell_type": "code",
   "execution_count": 5,
   "id": "6587aa2a",
   "metadata": {},
   "outputs": [],
   "source": [
    "# 방법 2 : train / test를 통합하여 처리해봅니다.\n",
    "\n",
    "from sklearn.experimental import enable_iterative_imputer# 구문을 사용하여 실험 단계인 모듈을 활성화하고, \n",
    "from sklearn.impute import IterativeImputer\n",
    "from sklearn.linear_model import LinearRegression\n",
    "from sklearn.metrics import r2_score\n",
    "\n",
    "X_imp = ['measurement_{}'.format(i) for i in range(3, 10)] + ['measurement_17']\n",
    "# train에 등장하지 않은 수준이 있습니다, test를 포함하여 결측처리 모델을 만듭니다.\n",
    "s_imp = pd.concat([\n",
    "        df_train[X_imp + ['product_code']],\n",
    "        df_test[X_imp + ['product_code']]\n",
    "], axis=0).groupby('product_code')\\\n",
    ".apply(\n",
    "    lambda x: IterativeImputer(estimator=LinearRegression(),random_state=123).fit(x[X_imp])\n",
    ")\n",
    "# train에 적용합니다.\n",
    "df_train[X_imp] = df_train[X_imp + ['product_code']]\\\n",
    "            .groupby('product_code')\\\n",
    "            .apply(\n",
    "                lambda x: pd.DataFrame(s_imp.loc[x.name].transform(x[X_imp]), index=x.index, columns=X_imp)\n",
    "            )\n",
    "# test에 적용합니다.\n",
    "df_test[X_imp] = df_test[X_imp + ['product_code']]\\\n",
    "            .groupby('product_code')\\\n",
    "            .apply(\n",
    "                lambda x: pd.DataFrame(s_imp.loc[x.name].transform(x[X_imp]), index=x.index, columns=X_imp)\n",
    "            )\n",
    "X_mean = ['measurement_{}'.format(i) for i in range(10, 17)]\n",
    "# 역시 train에 등장하지 않은 수준을 처리하기 위해 합치니다.\n",
    "df_mean = pd.concat([\n",
    "            df_train[['product_code'] + X_mean],\n",
    "            df_test[['product_code'] + X_mean]\n",
    "        ]).groupby('product_code')[X_mean].agg('mean')\n",
    "\n",
    "df_train[X_mean] = df_train.groupby('product_code')[X_mean]\\\n",
    "            .apply(lambda x: pd.DataFrame(x.fillna(df_mean.loc[x.name]), index=x.index, columns=x.columns))\n",
    "df_test[X_mean] = df_test.groupby('product_code')[X_mean]\\\n",
    "            .apply(lambda x: pd.DataFrame(x.fillna(df_mean.loc[x.name]), index=x.index, columns=x.columns))"
   ]
  },
  {
   "cell_type": "code",
   "execution_count": 6,
   "id": "dcc3e809",
   "metadata": {},
   "outputs": [],
   "source": [
    "df_train['loading'] = df_train['loading'].fillna(df_train['loading'].mean())\n",
    "df_test['loading'] = df_test['loading'].fillna(df_train['loading'].mean())"
   ]
  },
  {
   "cell_type": "code",
   "execution_count": 7,
   "id": "16328a6b",
   "metadata": {},
   "outputs": [
    {
     "data": {
      "text/plain": [
       "C    5765\n",
       "E    5343\n",
       "B    5250\n",
       "A    5100\n",
       "Name: product_code, dtype: int64"
      ]
     },
     "execution_count": 7,
     "metadata": {},
     "output_type": "execute_result"
    }
   ],
   "source": [
    "df_train['product_code'].value_counts()"
   ]
  },
  {
   "cell_type": "code",
   "execution_count": 8,
   "id": "5ce4c389",
   "metadata": {},
   "outputs": [
    {
     "data": {
      "text/plain": [
       "D    5112\n",
       "Name: product_code, dtype: int64"
      ]
     },
     "execution_count": 8,
     "metadata": {},
     "output_type": "execute_result"
    }
   ],
   "source": [
    "df_test['product_code'].value_counts()"
   ]
  },
  {
   "cell_type": "code",
   "execution_count": 9,
   "id": "6bed4957",
   "metadata": {},
   "outputs": [
    {
     "name": "stdout",
     "output_type": "stream",
     "text": [
      "['A' 'B' 'E'] ['C']\n",
      "['A' 'B' 'C'] ['E']\n",
      "['A' 'C' 'E'] ['B']\n",
      "['B' 'C' 'E'] ['A']\n"
     ]
    }
   ],
   "source": [
    "# Test에서는 Train에 등장하지 않은 product_code가 등장합니다. 이러한 특성을 반영하는 검증법입니다.\n",
    "from sklearn.model_selection import GroupKFold\n",
    "\n",
    "# 만일 이러한 기준이 되는 범주에 범주수가 충분하여, \n",
    "# n_splits = 5, 10개 등으로 지정해도 불균형하지 않다면 임의성을 가지고 n_splits를 지정할 수 있습니다.\n",
    "gcv = GroupKFold(4) # n_splits 4를 설정한 건 train의 케이스가 4개라서 입니다. \n",
    "\n",
    "for train_idx, valid_idx in gcv.split(df_train, groups=df_train['product_code']):\n",
    "    print(\n",
    "        df_train.iloc[train_idx]['product_code'].unique(), \n",
    "        df_train.iloc[valid_idx]['product_code'].unique()\n",
    "    )"
   ]
  },
  {
   "cell_type": "markdown",
   "id": "9c5e07de",
   "metadata": {},
   "source": [
    "**일반 문제에서 얻은 힌트를 정리해봅니다.**\n",
    "\n",
    "- log 자연 로그 함수를 적용하여 파생 변수 loading_log\n",
    "- LogisticRegression X_sfs_best = ['loading', 'measurement_1', 'measurement_4', 'measurement_14', 'measurement_17', 'na_1'] 0.5838326230092876\n",
    "- LinearDiscriminantAnalysis() measurement_0 ~ 17 ?\n",
    "- PCA() measurement_0 ~ 17 , n_components=7 0.581757510516433\n",
    "- RandomForestClassifier(random_state=123) 'n_estimators': 15, 'max_depth': 7, 'min_samples_split': 512} 0.5745226991354744"
   ]
  },
  {
   "cell_type": "markdown",
   "id": "19cdcdb6",
   "metadata": {},
   "source": [
    "# Kaggle형 풀이 단계\n",
    "\n",
    "Step 1: 검증 방법을 정하고, 검증 루틴을 만듭니다.\n",
    "\n",
    "Step 2: Baseline 모델을 만듭니다.\n",
    "\n",
    "Step 3: 모델 선택 루틴을 만듭니다.\n",
    "\n",
    "Step 4: 모델 개선 작업을 합니다."
   ]
  },
  {
   "cell_type": "markdown",
   "id": "b71df0fb",
   "metadata": {},
   "source": [
    "## Step1: 검증 방법을 정하고, 검증 루틴을 만듭니다."
   ]
  },
  {
   "cell_type": "code",
   "execution_count": 10,
   "id": "74de2dc1",
   "metadata": {},
   "outputs": [],
   "source": [
    "s_hist = list()\n",
    "\n",
    "from sklearn.model_selection import GroupKFold\n",
    "from sklearn.model_selection import cross_validate\n",
    "from sklearn.compose import ColumnTransformer\n",
    "from sklearn.pipeline import make_pipeline\n",
    "from sklearn.preprocessing import StandardScaler\n",
    "from sklearn.metrics import roc_auc_score\n",
    "\n",
    "gcv = GroupKFold(4)\n",
    "X_all = df_test.columns.tolist()\n",
    "\n",
    "def eval_model(model_name, clf):\n",
    "    result = cross_validate(\n",
    "        clf, df_train[X_all], df_train['failure'], groups=df_train['product_code'], cv=gcv, return_train_score=True, \n",
    "        scoring='roc_auc'\n",
    "    )\n",
    "    \n",
    "    s = 'Valid: {:.5f}±{:.5f},  V.Train: {:.5f}±{:.5f}'.format( \n",
    "            np.mean(result['test_score']), np.std(result['test_score']),\n",
    "            np.mean(result['train_score']), np.std(result['train_score']),\n",
    "        )\n",
    "    print(s)\n",
    "    s_hist.append(pd.Series({'model': model_name, 'result': s}))\n",
    "    display(pd.DataFrame(s_hist).groupby('model').last())\n",
    "    \n",
    "def select_model(clf):\n",
    "    clf.fit(df_train[X_all], df_train['failure'])\n",
    "    prd = clf.predict_proba(df_test[X_all])[:, 1]\n",
    "    pd.DataFrame({\n",
    "        'id': df_test.index,\n",
    "        'failure': prd\n",
    "    }).to_csv('answer6.csv', index=None)\n",
    "    return prd"
   ]
  },
  {
   "cell_type": "markdown",
   "id": "dd6ea321",
   "metadata": {},
   "source": [
    "## Step2: Baseline 모델을 만듭니다"
   ]
  },
  {
   "cell_type": "code",
   "execution_count": 11,
   "id": "5a7db90c",
   "metadata": {},
   "outputs": [
    {
     "name": "stdout",
     "output_type": "stream",
     "text": [
      "Valid: 0.58937±0.00379,  V.Train: 0.59191±0.00146\n"
     ]
    },
    {
     "data": {
      "text/html": [
       "<div>\n",
       "<style scoped>\n",
       "    .dataframe tbody tr th:only-of-type {\n",
       "        vertical-align: middle;\n",
       "    }\n",
       "\n",
       "    .dataframe tbody tr th {\n",
       "        vertical-align: top;\n",
       "    }\n",
       "\n",
       "    .dataframe thead th {\n",
       "        text-align: right;\n",
       "    }\n",
       "</style>\n",
       "<table border=\"1\" class=\"dataframe\">\n",
       "  <thead>\n",
       "    <tr style=\"text-align: right;\">\n",
       "      <th></th>\n",
       "      <th>result</th>\n",
       "    </tr>\n",
       "    <tr>\n",
       "      <th>model</th>\n",
       "      <th></th>\n",
       "    </tr>\n",
       "  </thead>\n",
       "  <tbody>\n",
       "    <tr>\n",
       "      <td>baseline</td>\n",
       "      <td>Valid: 0.58937±0.00379,  V.Train: 0.59191±0.00146</td>\n",
       "    </tr>\n",
       "  </tbody>\n",
       "</table>\n",
       "</div>"
      ],
      "text/plain": [
       "                                                     result\n",
       "model                                                      \n",
       "baseline  Valid: 0.58937±0.00379,  V.Train: 0.59191±0.00146"
      ]
     },
     "metadata": {},
     "output_type": "display_data"
    }
   ],
   "source": [
    "from sklearn.linear_model import LogisticRegression\n",
    "\n",
    "# Baseline: LR - SFS - ['loading', 'measurement_1', 'measurement_4', 'measurement_14', 'measurement_17', 'na_1']\n",
    "ct = ColumnTransformer([\n",
    "    ('std', StandardScaler(), ['loading', 'measurement_1', 'measurement_4', 'measurement_14', 'measurement_17']),\n",
    "    ('pt', 'passthrough', ['na_1'])\n",
    "])\n",
    "reg_lr = make_pipeline(ct, LogisticRegression(solver='lbfgs'))\n",
    "eval_model('baseline', reg_lr)"
   ]
  },
  {
   "cell_type": "markdown",
   "id": "70329365",
   "metadata": {},
   "source": [
    "## Step3: 모델 선택 루틴을 만듭니다."
   ]
  },
  {
   "cell_type": "code",
   "execution_count": 12,
   "id": "5eb0720f",
   "metadata": {},
   "outputs": [
    {
     "name": "stdout",
     "output_type": "stream",
     "text": [
      "자가 채점: 0.5883988309352517\n"
     ]
    }
   ],
   "source": [
    "prd = select_model(reg_lr)\n",
    "print(\"자가 채점: {}\".format(roc_auc_score(df_ans['failure'], prd)))"
   ]
  },
  {
   "cell_type": "markdown",
   "id": "1e9dfb0f",
   "metadata": {},
   "source": [
    "## Step4: 모델 개선 작업을 합니다."
   ]
  },
  {
   "cell_type": "code",
   "execution_count": 13,
   "id": "b0c3fadb",
   "metadata": {},
   "outputs": [
    {
     "name": "stdout",
     "output_type": "stream",
     "text": [
      "Valid: 0.58857±0.00294,  V.Train: 0.59163±0.00103\n"
     ]
    },
    {
     "data": {
      "text/html": [
       "<div>\n",
       "<style scoped>\n",
       "    .dataframe tbody tr th:only-of-type {\n",
       "        vertical-align: middle;\n",
       "    }\n",
       "\n",
       "    .dataframe tbody tr th {\n",
       "        vertical-align: top;\n",
       "    }\n",
       "\n",
       "    .dataframe thead th {\n",
       "        text-align: right;\n",
       "    }\n",
       "</style>\n",
       "<table border=\"1\" class=\"dataframe\">\n",
       "  <thead>\n",
       "    <tr style=\"text-align: right;\">\n",
       "      <th></th>\n",
       "      <th>result</th>\n",
       "    </tr>\n",
       "    <tr>\n",
       "      <th>model</th>\n",
       "      <th></th>\n",
       "    </tr>\n",
       "  </thead>\n",
       "  <tbody>\n",
       "    <tr>\n",
       "      <td>baseline</td>\n",
       "      <td>Valid: 0.58937±0.00379,  V.Train: 0.59191±0.00146</td>\n",
       "    </tr>\n",
       "    <tr>\n",
       "      <td>lr2</td>\n",
       "      <td>Valid: 0.58857±0.00294,  V.Train: 0.59163±0.00103</td>\n",
       "    </tr>\n",
       "  </tbody>\n",
       "</table>\n",
       "</div>"
      ],
      "text/plain": [
       "                                                     result\n",
       "model                                                      \n",
       "baseline  Valid: 0.58937±0.00379,  V.Train: 0.59191±0.00146\n",
       "lr2       Valid: 0.58857±0.00294,  V.Train: 0.59163±0.00103"
      ]
     },
     "metadata": {},
     "output_type": "display_data"
    }
   ],
   "source": [
    "# lr2: LR + feature PCA(n_components = 7)\n",
    "from sklearn.decomposition import PCA\n",
    "\n",
    "ct = ColumnTransformer([\n",
    "    ('std_pca', make_pipeline(StandardScaler(), PCA(n_components=7)), ['measurement_{}'.format(i) for i in range(18)]),\n",
    "    ('std', StandardScaler(), ['loading']),\n",
    "    ('pt', 'passthrough', ['na_1'])\n",
    "])\n",
    "clf_lr2 = make_pipeline(ct, LogisticRegression(solver='lbfgs'))\n",
    "eval_model('lr2', clf_lr2)"
   ]
  },
  {
   "cell_type": "code",
   "execution_count": 14,
   "id": "a09094a8",
   "metadata": {},
   "outputs": [
    {
     "name": "stdout",
     "output_type": "stream",
     "text": [
      "Valid: 0.58935±0.00389,  V.Train: 0.59181±0.00145\n"
     ]
    },
    {
     "data": {
      "text/html": [
       "<div>\n",
       "<style scoped>\n",
       "    .dataframe tbody tr th:only-of-type {\n",
       "        vertical-align: middle;\n",
       "    }\n",
       "\n",
       "    .dataframe tbody tr th {\n",
       "        vertical-align: top;\n",
       "    }\n",
       "\n",
       "    .dataframe thead th {\n",
       "        text-align: right;\n",
       "    }\n",
       "</style>\n",
       "<table border=\"1\" class=\"dataframe\">\n",
       "  <thead>\n",
       "    <tr style=\"text-align: right;\">\n",
       "      <th></th>\n",
       "      <th>result</th>\n",
       "    </tr>\n",
       "    <tr>\n",
       "      <th>model</th>\n",
       "      <th></th>\n",
       "    </tr>\n",
       "  </thead>\n",
       "  <tbody>\n",
       "    <tr>\n",
       "      <td>baseline</td>\n",
       "      <td>Valid: 0.58937±0.00379,  V.Train: 0.59191±0.00146</td>\n",
       "    </tr>\n",
       "    <tr>\n",
       "      <td>lr2</td>\n",
       "      <td>Valid: 0.58857±0.00294,  V.Train: 0.59163±0.00103</td>\n",
       "    </tr>\n",
       "    <tr>\n",
       "      <td>lr3</td>\n",
       "      <td>Valid: 0.58935±0.00389,  V.Train: 0.59181±0.00145</td>\n",
       "    </tr>\n",
       "  </tbody>\n",
       "</table>\n",
       "</div>"
      ],
      "text/plain": [
       "                                                     result\n",
       "model                                                      \n",
       "baseline  Valid: 0.58937±0.00379,  V.Train: 0.59191±0.00146\n",
       "lr2       Valid: 0.58857±0.00294,  V.Train: 0.59163±0.00103\n",
       "lr3       Valid: 0.58935±0.00389,  V.Train: 0.59181±0.00145"
      ]
     },
     "metadata": {},
     "output_type": "display_data"
    }
   ],
   "source": [
    "# lr3: Basline + np.log (loading)\n",
    "from sklearn.preprocessing import FunctionTransformer\n",
    "\n",
    "ct = ColumnTransformer([\n",
    "    ('std', StandardScaler(), ['measurement_1', 'measurement_4', 'measurement_14', 'measurement_17']),\n",
    "    ('log_std', make_pipeline(FunctionTransformer(func=np.log, validate=False), StandardScaler()), ['loading']),\n",
    "    ('pt', 'passthrough', ['na_1'])\n",
    "])\n",
    "clf_lr3 = make_pipeline(ct, LogisticRegression(solver='lbfgs'))\n",
    "eval_model('lr3', clf_lr3)"
   ]
  },
  {
   "cell_type": "code",
   "execution_count": 15,
   "id": "97f2b7c5",
   "metadata": {},
   "outputs": [
    {
     "name": "stdout",
     "output_type": "stream",
     "text": [
      "Valid: 0.58963±0.00396,  V.Train: 0.59196±0.00148\n"
     ]
    },
    {
     "data": {
      "text/html": [
       "<div>\n",
       "<style scoped>\n",
       "    .dataframe tbody tr th:only-of-type {\n",
       "        vertical-align: middle;\n",
       "    }\n",
       "\n",
       "    .dataframe tbody tr th {\n",
       "        vertical-align: top;\n",
       "    }\n",
       "\n",
       "    .dataframe thead th {\n",
       "        text-align: right;\n",
       "    }\n",
       "</style>\n",
       "<table border=\"1\" class=\"dataframe\">\n",
       "  <thead>\n",
       "    <tr style=\"text-align: right;\">\n",
       "      <th></th>\n",
       "      <th>result</th>\n",
       "    </tr>\n",
       "    <tr>\n",
       "      <th>model</th>\n",
       "      <th></th>\n",
       "    </tr>\n",
       "  </thead>\n",
       "  <tbody>\n",
       "    <tr>\n",
       "      <td>baseline</td>\n",
       "      <td>Valid: 0.58937±0.00379,  V.Train: 0.59191±0.00146</td>\n",
       "    </tr>\n",
       "    <tr>\n",
       "      <td>lda</td>\n",
       "      <td>Valid: 0.58963±0.00396,  V.Train: 0.59196±0.00148</td>\n",
       "    </tr>\n",
       "    <tr>\n",
       "      <td>lr2</td>\n",
       "      <td>Valid: 0.58857±0.00294,  V.Train: 0.59163±0.00103</td>\n",
       "    </tr>\n",
       "    <tr>\n",
       "      <td>lr3</td>\n",
       "      <td>Valid: 0.58935±0.00389,  V.Train: 0.59181±0.00145</td>\n",
       "    </tr>\n",
       "  </tbody>\n",
       "</table>\n",
       "</div>"
      ],
      "text/plain": [
       "                                                     result\n",
       "model                                                      \n",
       "baseline  Valid: 0.58937±0.00379,  V.Train: 0.59191±0.00146\n",
       "lda       Valid: 0.58963±0.00396,  V.Train: 0.59196±0.00148\n",
       "lr2       Valid: 0.58857±0.00294,  V.Train: 0.59163±0.00103\n",
       "lr3       Valid: 0.58935±0.00389,  V.Train: 0.59181±0.00145"
      ]
     },
     "metadata": {},
     "output_type": "display_data"
    }
   ],
   "source": [
    "from sklearn.discriminant_analysis import LinearDiscriminantAnalysis\n",
    "# LDA\n",
    "# 속성선택도 적용해봅니다: \n",
    "clf_lda = make_pipeline(\n",
    "    ColumnTransformer([\n",
    "        ('std', StandardScaler(), ['measurement_{}'.format(i) for i in range(18)] + ['loading']),\n",
    "        #('std', StandardScaler(), ['loading', 'measurement_1', 'measurement_4', 'measurement_14', 'measurement_17']),\n",
    "        ('pt', 'passthrough', ['na_1'])\n",
    "    ]), \n",
    "    LinearDiscriminantAnalysis()\n",
    ")\n",
    "eval_model('lda', clf_lda)"
   ]
  },
  {
   "cell_type": "code",
   "execution_count": 16,
   "id": "3e2e959a",
   "metadata": {},
   "outputs": [
    {
     "name": "stdout",
     "output_type": "stream",
     "text": [
      "Valid: 0.57162±0.00305,  V.Train: 0.63545±0.00143\n"
     ]
    },
    {
     "data": {
      "text/html": [
       "<div>\n",
       "<style scoped>\n",
       "    .dataframe tbody tr th:only-of-type {\n",
       "        vertical-align: middle;\n",
       "    }\n",
       "\n",
       "    .dataframe tbody tr th {\n",
       "        vertical-align: top;\n",
       "    }\n",
       "\n",
       "    .dataframe thead th {\n",
       "        text-align: right;\n",
       "    }\n",
       "</style>\n",
       "<table border=\"1\" class=\"dataframe\">\n",
       "  <thead>\n",
       "    <tr style=\"text-align: right;\">\n",
       "      <th></th>\n",
       "      <th>result</th>\n",
       "    </tr>\n",
       "    <tr>\n",
       "      <th>model</th>\n",
       "      <th></th>\n",
       "    </tr>\n",
       "  </thead>\n",
       "  <tbody>\n",
       "    <tr>\n",
       "      <td>baseline</td>\n",
       "      <td>Valid: 0.58937±0.00379,  V.Train: 0.59191±0.00146</td>\n",
       "    </tr>\n",
       "    <tr>\n",
       "      <td>lda</td>\n",
       "      <td>Valid: 0.58963±0.00396,  V.Train: 0.59196±0.00148</td>\n",
       "    </tr>\n",
       "    <tr>\n",
       "      <td>lr2</td>\n",
       "      <td>Valid: 0.58857±0.00294,  V.Train: 0.59163±0.00103</td>\n",
       "    </tr>\n",
       "    <tr>\n",
       "      <td>lr3</td>\n",
       "      <td>Valid: 0.58935±0.00389,  V.Train: 0.59181±0.00145</td>\n",
       "    </tr>\n",
       "    <tr>\n",
       "      <td>rf</td>\n",
       "      <td>Valid: 0.57162±0.00305,  V.Train: 0.63545±0.00143</td>\n",
       "    </tr>\n",
       "  </tbody>\n",
       "</table>\n",
       "</div>"
      ],
      "text/plain": [
       "                                                     result\n",
       "model                                                      \n",
       "baseline  Valid: 0.58937±0.00379,  V.Train: 0.59191±0.00146\n",
       "lda       Valid: 0.58963±0.00396,  V.Train: 0.59196±0.00148\n",
       "lr2       Valid: 0.58857±0.00294,  V.Train: 0.59163±0.00103\n",
       "lr3       Valid: 0.58935±0.00389,  V.Train: 0.59181±0.00145\n",
       "rf        Valid: 0.57162±0.00305,  V.Train: 0.63545±0.00143"
      ]
     },
     "metadata": {},
     "output_type": "display_data"
    }
   ],
   "source": [
    "# RF: RandomForestClassifier: {'max_depth': 7, 'min_samples_split': 512, 'n_estimators': 15} 튜닝\n",
    "# TODO: 수업시간에 튜닝을 해봅니다.\n",
    "\n",
    "from sklearn.ensemble import RandomForestClassifier\n",
    "ct = ColumnTransformer([\n",
    "    ('pt', 'passthrough', ['loading', 'na_1', 'na_2'] + ['measurement_{}'.format(i) for i in range(18)])\n",
    "])\n",
    "clf_rf = make_pipeline(ct, RandomForestClassifier(\n",
    "    n_estimators=15, max_depth=7, min_samples_split=512, random_state=123\n",
    "))\n",
    "eval_model('rf', clf_rf)"
   ]
  },
  {
   "cell_type": "code",
   "execution_count": 17,
   "id": "8fa5f368",
   "metadata": {},
   "outputs": [
    {
     "name": "stdout",
     "output_type": "stream",
     "text": [
      "Valid: 0.58291±0.00550,  V.Train: 0.60869±0.00074\n"
     ]
    },
    {
     "data": {
      "text/html": [
       "<div>\n",
       "<style scoped>\n",
       "    .dataframe tbody tr th:only-of-type {\n",
       "        vertical-align: middle;\n",
       "    }\n",
       "\n",
       "    .dataframe tbody tr th {\n",
       "        vertical-align: top;\n",
       "    }\n",
       "\n",
       "    .dataframe thead th {\n",
       "        text-align: right;\n",
       "    }\n",
       "</style>\n",
       "<table border=\"1\" class=\"dataframe\">\n",
       "  <thead>\n",
       "    <tr style=\"text-align: right;\">\n",
       "      <th></th>\n",
       "      <th>result</th>\n",
       "    </tr>\n",
       "    <tr>\n",
       "      <th>model</th>\n",
       "      <th></th>\n",
       "    </tr>\n",
       "  </thead>\n",
       "  <tbody>\n",
       "    <tr>\n",
       "      <td>baseline</td>\n",
       "      <td>Valid: 0.58937±0.00379,  V.Train: 0.59191±0.00146</td>\n",
       "    </tr>\n",
       "    <tr>\n",
       "      <td>lda</td>\n",
       "      <td>Valid: 0.58963±0.00396,  V.Train: 0.59196±0.00148</td>\n",
       "    </tr>\n",
       "    <tr>\n",
       "      <td>lr2</td>\n",
       "      <td>Valid: 0.58857±0.00294,  V.Train: 0.59163±0.00103</td>\n",
       "    </tr>\n",
       "    <tr>\n",
       "      <td>lr3</td>\n",
       "      <td>Valid: 0.58935±0.00389,  V.Train: 0.59181±0.00145</td>\n",
       "    </tr>\n",
       "    <tr>\n",
       "      <td>rf</td>\n",
       "      <td>Valid: 0.57162±0.00305,  V.Train: 0.63545±0.00143</td>\n",
       "    </tr>\n",
       "    <tr>\n",
       "      <td>rf2</td>\n",
       "      <td>Valid: 0.58291±0.00550,  V.Train: 0.60869±0.00074</td>\n",
       "    </tr>\n",
       "  </tbody>\n",
       "</table>\n",
       "</div>"
      ],
      "text/plain": [
       "                                                     result\n",
       "model                                                      \n",
       "baseline  Valid: 0.58937±0.00379,  V.Train: 0.59191±0.00146\n",
       "lda       Valid: 0.58963±0.00396,  V.Train: 0.59196±0.00148\n",
       "lr2       Valid: 0.58857±0.00294,  V.Train: 0.59163±0.00103\n",
       "lr3       Valid: 0.58935±0.00389,  V.Train: 0.59181±0.00145\n",
       "rf        Valid: 0.57162±0.00305,  V.Train: 0.63545±0.00143\n",
       "rf2       Valid: 0.58291±0.00550,  V.Train: 0.60869±0.00074"
      ]
     },
     "metadata": {},
     "output_type": "display_data"
    }
   ],
   "source": [
    "# RF: RandomForestClassifier + LinearDiscriminantAnalysis\n",
    "# TODO: LDA를 결합시키는 루틴을 만들어 보겠습니다.\n",
    "\n",
    "from sklearn.discriminant_analysis import LinearDiscriminantAnalysis\n",
    "from sklearn.ensemble import RandomForestClassifier\n",
    "\n",
    "ct = ColumnTransformer([\n",
    "    # TODO\n",
    "    ('pt', 'passthrough', ['loading', 'na_1', 'na_2'])# + ['measurement_{}'.format(i) for i in range(18)])\n",
    "])\n",
    "clf_rf2 = make_pipeline(ct, RandomForestClassifier(\n",
    "    n_estimators=100, max_depth=6, min_samples_split=512, random_state=123, max_features=0.75\n",
    "))\n",
    "eval_model('rf2', clf_rf2)"
   ]
  },
  {
   "cell_type": "code",
   "execution_count": 18,
   "id": "ebbcbf13",
   "metadata": {},
   "outputs": [
    {
     "name": "stdout",
     "output_type": "stream",
     "text": [
      "Valid: 0.57835±0.00367,  V.Train: 0.68063±0.00387\n"
     ]
    },
    {
     "data": {
      "text/html": [
       "<div>\n",
       "<style scoped>\n",
       "    .dataframe tbody tr th:only-of-type {\n",
       "        vertical-align: middle;\n",
       "    }\n",
       "\n",
       "    .dataframe tbody tr th {\n",
       "        vertical-align: top;\n",
       "    }\n",
       "\n",
       "    .dataframe thead th {\n",
       "        text-align: right;\n",
       "    }\n",
       "</style>\n",
       "<table border=\"1\" class=\"dataframe\">\n",
       "  <thead>\n",
       "    <tr style=\"text-align: right;\">\n",
       "      <th></th>\n",
       "      <th>result</th>\n",
       "    </tr>\n",
       "    <tr>\n",
       "      <th>model</th>\n",
       "      <th></th>\n",
       "    </tr>\n",
       "  </thead>\n",
       "  <tbody>\n",
       "    <tr>\n",
       "      <td>baseline</td>\n",
       "      <td>Valid: 0.58937±0.00379,  V.Train: 0.59191±0.00146</td>\n",
       "    </tr>\n",
       "    <tr>\n",
       "      <td>lda</td>\n",
       "      <td>Valid: 0.58963±0.00396,  V.Train: 0.59196±0.00148</td>\n",
       "    </tr>\n",
       "    <tr>\n",
       "      <td>lr2</td>\n",
       "      <td>Valid: 0.58857±0.00294,  V.Train: 0.59163±0.00103</td>\n",
       "    </tr>\n",
       "    <tr>\n",
       "      <td>lr3</td>\n",
       "      <td>Valid: 0.58935±0.00389,  V.Train: 0.59181±0.00145</td>\n",
       "    </tr>\n",
       "    <tr>\n",
       "      <td>rf</td>\n",
       "      <td>Valid: 0.57162±0.00305,  V.Train: 0.63545±0.00143</td>\n",
       "    </tr>\n",
       "    <tr>\n",
       "      <td>rf2</td>\n",
       "      <td>Valid: 0.58291±0.00550,  V.Train: 0.60869±0.00074</td>\n",
       "    </tr>\n",
       "    <tr>\n",
       "      <td>xgb</td>\n",
       "      <td>Valid: 0.57835±0.00367,  V.Train: 0.68063±0.00387</td>\n",
       "    </tr>\n",
       "  </tbody>\n",
       "</table>\n",
       "</div>"
      ],
      "text/plain": [
       "                                                     result\n",
       "model                                                      \n",
       "baseline  Valid: 0.58937±0.00379,  V.Train: 0.59191±0.00146\n",
       "lda       Valid: 0.58963±0.00396,  V.Train: 0.59196±0.00148\n",
       "lr2       Valid: 0.58857±0.00294,  V.Train: 0.59163±0.00103\n",
       "lr3       Valid: 0.58935±0.00389,  V.Train: 0.59181±0.00145\n",
       "rf        Valid: 0.57162±0.00305,  V.Train: 0.63545±0.00143\n",
       "rf2       Valid: 0.58291±0.00550,  V.Train: 0.60869±0.00074\n",
       "xgb       Valid: 0.57835±0.00367,  V.Train: 0.68063±0.00387"
      ]
     },
     "metadata": {},
     "output_type": "display_data"
    }
   ],
   "source": [
    "# XGB: XGBoost\n",
    "# TODO: 튜닝을 같이 해봅니다.\n",
    "\n",
    "import xgboost as xgb\n",
    "ct = ColumnTransformer([\n",
    "    ('pt', 'passthrough', ['loading', 'na_1', 'na_2'] + ['measurement_{}'.format(i) for i in range(18)])\n",
    "])\n",
    "clf_xgb = xgb.XGBClassifier()\n",
    "clf_xgb = make_pipeline(ct, clf_xgb)\n",
    "eval_model('xgb', clf_xgb)"
   ]
  },
  {
   "cell_type": "code",
   "execution_count": 19,
   "id": "90daf3ed",
   "metadata": {},
   "outputs": [],
   "source": [
    "# Voting을 합니다.\n",
    "from sklearn.ensemble import VotingClassifier\n",
    "# TODO \n",
    "# clf_vt = VotingClassifier\n",
    "# eval_model('vt', clf_vt)"
   ]
  },
  {
   "cell_type": "code",
   "execution_count": null,
   "id": "f647e76c",
   "metadata": {},
   "outputs": [],
   "source": []
  }
 ],
 "metadata": {
  "kernelspec": {
   "display_name": "Python 3 (ipykernel)",
   "language": "python",
   "name": "python3"
  },
  "language_info": {
   "codemirror_mode": {
    "name": "ipython",
    "version": 3
   },
   "file_extension": ".py",
   "mimetype": "text/x-python",
   "name": "python",
   "nbconvert_exporter": "python",
   "pygments_lexer": "ipython3",
   "version": "3.7.4"
  }
 },
 "nbformat": 4,
 "nbformat_minor": 5
}
