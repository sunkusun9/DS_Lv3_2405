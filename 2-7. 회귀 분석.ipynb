{
 "cells": [
  {
   "cell_type": "code",
   "execution_count": 1,
   "id": "2a5513e6",
   "metadata": {},
   "outputs": [
    {
     "name": "stdout",
     "output_type": "stream",
     "text": [
      "pandas 0.25.1\n",
      "numpy 1.18.5\n",
      "scipy 1.5.2\n",
      "statsmodels 0.11.1\n",
      "matplotlib 3.5.3\n",
      "seaborn 0.12.2\n"
     ]
    }
   ],
   "source": [
    "import numpy as np\n",
    "import pandas as pd\n",
    "import scipy\n",
    "\n",
    "import statsmodels\n",
    "import matplotlib as mpl\n",
    "import matplotlib.pyplot as plt\n",
    "import seaborn as sns\n",
    "\n",
    "for i in [pd, np, scipy, statsmodels, mpl, sns]:\n",
    "    print(i.__name__, i.__version__)"
   ]
  },
  {
   "cell_type": "markdown",
   "id": "6d6651f5",
   "metadata": {},
   "source": [
    "# 2-7 회귀 분석"
   ]
  },
  {
   "cell_type": "markdown",
   "id": "8d1cbe73",
   "metadata": {},
   "source": [
    "## 0. 데이터셋 소개\n",
    "\n",
    "### Wild blueberry\n",
    "\n",
    "[Wild blueberry](https://data.mendeley.com/datasets/p5hvjzsvn8/1) 야생 블루베리의 수확량을 시뮬레이션한 데이터셋입니다.\n",
    "\n",
    "\n",
    "|Features|Unit|Description|\n",
    "|:--------|:----|:-----------|\n",
    "|Row#||Index|\n",
    "|clonesize|m2|The average blueberry clone size in the field|\n",
    "|honeybee|bees/m2/min|Honeybee density in the field|\n",
    "|bumbles|bees/m2/min|Bumblebee density in the field|\n",
    "|andrena|bees/m2/min|Andrena bee density in the field|\n",
    "|osmia|bees/m2/min|Osmia bee density in the field|\n",
    "|MaxOfUpperTRange|℃|The highest record of the upper band daily air temperature during the bloom season|\n",
    "|MinOfUpperTRange|℃|The lowest record of the upper band daily air temperature|\n",
    "|AverageOfUpperTRange|℃|The average of the upper band daily air temperature|\n",
    "|MaxOfLowerTRange|℃|The highest record of the lower band daily air temperature|\n",
    "|MinOfLowerTRange|℃|The lowest record of the lower band daily air temperature|\n",
    "|AverageOfLowerTRange|℃|The average of the lower band daily air temperature|\n",
    "|RainingDays|Day|The total number of days during the bloom season, each of which has precipitation larger than zero|\n",
    "|AverageRainingDays|Day|The average of raining days of the entire bloom season|\n",
    "|fruitset||The amount of fruit per tree|\n",
    "|fruitmass||The mass of a fruit|\n",
    "|seeds||The mass of a seed|\n",
    "|yield||The amount of yield|\n"
   ]
  },
  {
   "cell_type": "code",
   "execution_count": 2,
   "id": "f21f0cc3",
   "metadata": {},
   "outputs": [
    {
     "data": {
      "text/html": [
       "<div>\n",
       "<style scoped>\n",
       "    .dataframe tbody tr th:only-of-type {\n",
       "        vertical-align: middle;\n",
       "    }\n",
       "\n",
       "    .dataframe tbody tr th {\n",
       "        vertical-align: top;\n",
       "    }\n",
       "\n",
       "    .dataframe thead th {\n",
       "        text-align: right;\n",
       "    }\n",
       "</style>\n",
       "<table border=\"1\" class=\"dataframe\">\n",
       "  <thead>\n",
       "    <tr style=\"text-align: right;\">\n",
       "      <th></th>\n",
       "      <th>Row#</th>\n",
       "      <th>clonesize</th>\n",
       "      <th>honeybee</th>\n",
       "      <th>bumbles</th>\n",
       "      <th>andrena</th>\n",
       "      <th>osmia</th>\n",
       "      <th>MaxOfUpperTRange</th>\n",
       "      <th>MinOfUpperTRange</th>\n",
       "      <th>AverageOfUpperTRange</th>\n",
       "      <th>MaxOfLowerTRange</th>\n",
       "      <th>MinOfLowerTRange</th>\n",
       "      <th>AverageOfLowerTRange</th>\n",
       "      <th>RainingDays</th>\n",
       "      <th>AverageRainingDays</th>\n",
       "      <th>fruitset</th>\n",
       "      <th>fruitmass</th>\n",
       "      <th>seeds</th>\n",
       "      <th>yield</th>\n",
       "    </tr>\n",
       "  </thead>\n",
       "  <tbody>\n",
       "    <tr>\n",
       "      <td>0</td>\n",
       "      <td>0</td>\n",
       "      <td>37.5</td>\n",
       "      <td>0.75</td>\n",
       "      <td>0.25</td>\n",
       "      <td>0.25</td>\n",
       "      <td>0.25</td>\n",
       "      <td>86.0</td>\n",
       "      <td>52.0</td>\n",
       "      <td>71.9</td>\n",
       "      <td>62.0</td>\n",
       "      <td>30.0</td>\n",
       "      <td>50.8</td>\n",
       "      <td>16.0</td>\n",
       "      <td>0.26</td>\n",
       "      <td>0.410652</td>\n",
       "      <td>0.408159</td>\n",
       "      <td>31.678898</td>\n",
       "      <td>3813.165795</td>\n",
       "    </tr>\n",
       "    <tr>\n",
       "      <td>1</td>\n",
       "      <td>1</td>\n",
       "      <td>37.5</td>\n",
       "      <td>0.75</td>\n",
       "      <td>0.25</td>\n",
       "      <td>0.25</td>\n",
       "      <td>0.25</td>\n",
       "      <td>86.0</td>\n",
       "      <td>52.0</td>\n",
       "      <td>71.9</td>\n",
       "      <td>62.0</td>\n",
       "      <td>30.0</td>\n",
       "      <td>50.8</td>\n",
       "      <td>1.0</td>\n",
       "      <td>0.10</td>\n",
       "      <td>0.444254</td>\n",
       "      <td>0.425458</td>\n",
       "      <td>33.449385</td>\n",
       "      <td>4947.605663</td>\n",
       "    </tr>\n",
       "    <tr>\n",
       "      <td>2</td>\n",
       "      <td>2</td>\n",
       "      <td>37.5</td>\n",
       "      <td>0.75</td>\n",
       "      <td>0.25</td>\n",
       "      <td>0.25</td>\n",
       "      <td>0.25</td>\n",
       "      <td>94.6</td>\n",
       "      <td>57.2</td>\n",
       "      <td>79.0</td>\n",
       "      <td>68.2</td>\n",
       "      <td>33.0</td>\n",
       "      <td>55.9</td>\n",
       "      <td>16.0</td>\n",
       "      <td>0.26</td>\n",
       "      <td>0.383787</td>\n",
       "      <td>0.399172</td>\n",
       "      <td>30.546306</td>\n",
       "      <td>3866.798965</td>\n",
       "    </tr>\n",
       "    <tr>\n",
       "      <td>3</td>\n",
       "      <td>3</td>\n",
       "      <td>37.5</td>\n",
       "      <td>0.75</td>\n",
       "      <td>0.25</td>\n",
       "      <td>0.25</td>\n",
       "      <td>0.25</td>\n",
       "      <td>94.6</td>\n",
       "      <td>57.2</td>\n",
       "      <td>79.0</td>\n",
       "      <td>68.2</td>\n",
       "      <td>33.0</td>\n",
       "      <td>55.9</td>\n",
       "      <td>1.0</td>\n",
       "      <td>0.10</td>\n",
       "      <td>0.407564</td>\n",
       "      <td>0.408789</td>\n",
       "      <td>31.562586</td>\n",
       "      <td>4303.943030</td>\n",
       "    </tr>\n",
       "    <tr>\n",
       "      <td>4</td>\n",
       "      <td>4</td>\n",
       "      <td>37.5</td>\n",
       "      <td>0.75</td>\n",
       "      <td>0.25</td>\n",
       "      <td>0.25</td>\n",
       "      <td>0.25</td>\n",
       "      <td>86.0</td>\n",
       "      <td>52.0</td>\n",
       "      <td>71.9</td>\n",
       "      <td>62.0</td>\n",
       "      <td>30.0</td>\n",
       "      <td>50.8</td>\n",
       "      <td>24.0</td>\n",
       "      <td>0.39</td>\n",
       "      <td>0.354413</td>\n",
       "      <td>0.382703</td>\n",
       "      <td>28.873714</td>\n",
       "      <td>3436.493543</td>\n",
       "    </tr>\n",
       "  </tbody>\n",
       "</table>\n",
       "</div>"
      ],
      "text/plain": [
       "   Row#  clonesize  honeybee  bumbles  andrena  osmia  MaxOfUpperTRange  \\\n",
       "0     0       37.5      0.75     0.25     0.25   0.25              86.0   \n",
       "1     1       37.5      0.75     0.25     0.25   0.25              86.0   \n",
       "2     2       37.5      0.75     0.25     0.25   0.25              94.6   \n",
       "3     3       37.5      0.75     0.25     0.25   0.25              94.6   \n",
       "4     4       37.5      0.75     0.25     0.25   0.25              86.0   \n",
       "\n",
       "   MinOfUpperTRange  AverageOfUpperTRange  MaxOfLowerTRange  MinOfLowerTRange  \\\n",
       "0              52.0                  71.9              62.0              30.0   \n",
       "1              52.0                  71.9              62.0              30.0   \n",
       "2              57.2                  79.0              68.2              33.0   \n",
       "3              57.2                  79.0              68.2              33.0   \n",
       "4              52.0                  71.9              62.0              30.0   \n",
       "\n",
       "   AverageOfLowerTRange  RainingDays  AverageRainingDays  fruitset  fruitmass  \\\n",
       "0                  50.8         16.0                0.26  0.410652   0.408159   \n",
       "1                  50.8          1.0                0.10  0.444254   0.425458   \n",
       "2                  55.9         16.0                0.26  0.383787   0.399172   \n",
       "3                  55.9          1.0                0.10  0.407564   0.408789   \n",
       "4                  50.8         24.0                0.39  0.354413   0.382703   \n",
       "\n",
       "       seeds        yield  \n",
       "0  31.678898  3813.165795  \n",
       "1  33.449385  4947.605663  \n",
       "2  30.546306  3866.798965  \n",
       "3  31.562586  4303.943030  \n",
       "4  28.873714  3436.493543  "
      ]
     },
     "execution_count": 2,
     "metadata": {},
     "output_type": "execute_result"
    }
   ],
   "source": [
    "df_berry = pd.read_csv('data/wild_blueberry.csv')\n",
    "df_berry.head()"
   ]
  },
  {
   "cell_type": "markdown",
   "id": "55beb7e3",
   "metadata": {},
   "source": [
    "## 1. 선형 회귀(Linear Regression)\n",
    "\n",
    "### 구성 요소\n",
    "\n",
    "- 표현법 1: 수열 형태\n",
    "\n",
    "$\\{y_i, x_{i1}, ... , x_{ip}\\}_{i=1}^n$\n",
    "\n",
    "$y_i = \\beta_0 + \\beta_1x_{i1} + \\beta_2x_{i2} + ...  + \\beta_px_{ip} + \\epsilon_i = x_i^T\\beta + \\epsilon_i$\n",
    "\n",
    "---------------------\n",
    "- 표현법 2: 벡터 형태\n",
    "\n",
    "$\\mathbf{y} = \\begin{bmatrix} y_1 \\\\ y_2 \\\\ \\vdots \\\\ y_n \\end{bmatrix}$, \n",
    "$\\mathbf{\\epsilon} = \\begin{bmatrix} \\epsilon_1 \\\\ \\epsilon_1 \\\\ \\vdots \\\\ \\epsilon_n \\end{bmatrix}$,\n",
    "$\\mathbf{x_i} = \\begin{bmatrix} 1 \\\\ x_{i1} \\\\ \\vdots \\\\ x_{ip} \\end{bmatrix}$,\n",
    "$\\mathbf{\\beta} = \\begin{bmatrix} \\beta_0 \\\\ \\beta_1 \\\\ \\vdots \\\\ \\beta_p \\end{bmatrix}$\n",
    "\n",
    "$\\mathbf{X} = \\begin{bmatrix} x_0^T \\\\ x_1^T \\\\ \\vdots \\\\ x_n^T \\end{bmatrix}$ = \n",
    "$\\begin{bmatrix} 1 & x_{11} & x_{12} & \\ldots & x_{1p} \\\\ 1 & x_{21} & x_{22} & \\ldots & x_{2p} \\\\ \\vdots & \\vdots & \\ddots & \\vdots \\\\ 1 & x_{n1} & x_{n2} & \\ldots & x_{np} \\end{bmatrix}$\n",
    "\n",
    "$y=X\\beta + \\epsilon$\n",
    "\n",
    "\n",
    "$y$: 종속 변수(dependent variable), 내생 변수(endogenous variable, 모델 내에서 다른 변수의 영향을 받는 변수), 대상 변수(target variable), 반응 변수\n",
    "\n",
    "$X$: 독립 변수(independent variable), 외생 변수(exogenous variable, 모델 내에서 설명되지 않는 변수), 예측 변수(predictor variable), 입력 변수(input variable)\n",
    "\n",
    "$\\beta$: 회귀 계수(regression coefficeints) \n",
    "\n",
    "$\\epsilon$: 오차\n"
   ]
  },
  {
   "cell_type": "markdown",
   "id": "318cae68",
   "metadata": {},
   "source": [
    "### 선형 회귀 모델의 주요 가정\n",
    "\n",
    "선형성 (Linearity): 종속 변수와 독립 변수 간의 관계가 선형이어야 합니다. \n",
    "\n",
    "독립성(independence): 각각의 관측은 서로 독립입니다. 어떤 관측치의 오차가 다른 관측치의 오차에 영향을 미치지 않아야 합니다.\n",
    "\n",
    "등분산(Homoscedasticity): 오차의 분산은 독립 변수와 상관없이 일정해야 합니다.\n",
    "\n",
    "정규성 (Normality of Residuals): 오차는 정규분포를 따라야 합니다. \n",
    "\n",
    "완전한 다중공선성 부재 (Lack of perfect multicollinearity): 독립 변수 각각을 종속변수로 했을 때 예측 오차가 없이 완전히 설명이 가능한 변수가 존재하지 않아야 합니다."
   ]
  },
  {
   "cell_type": "code",
   "execution_count": null,
   "id": "073cb8fc",
   "metadata": {},
   "outputs": [],
   "source": []
  },
  {
   "cell_type": "markdown",
   "id": "feb4b947",
   "metadata": {},
   "source": [
    "### 회귀 계수의 추정\n",
    "\n",
    "**최소 제곱법 (Least Square Method, Ordinary Least Square)**\n",
    "\n",
    "$S(\\beta) = \\sum_{i=1}^n\\left(y_i - x_i^T\\beta\\right)^2 = ||y - X\\beta||^2$\n",
    "\n",
    "$\\hat{\\beta}= argmin_{\\beta}S(\\beta)$\n",
    "\n",
    "$||y - X\\beta||^2 = (y - X\\beta)^T(y - X\\beta)$\n",
    "\n",
    "$\\beta$ 의 추정치를 $\\hat{\\beta}$이라고 합니다.\n",
    "\n",
    "$\\frac{dS(\\hat{\\beta})}{d\\hat{\\beta}} = 0$\n",
    "\n",
    "$\\frac{dS(\\hat{\\beta})}{d\\hat{\\beta}} = \\frac{d(y^Ty - y^TX\\hat{\\beta} - \\hat{\\beta}^TX^Ty + \\hat{\\beta}^TX^TX\\hat{\\beta})}{d\\hat{\\beta}}$\n",
    "\n",
    "> $\\hat{\\beta}^TX^Ty$는 1×1 행렬이므로 $\\hat{\\beta}^TX^Ty = (\\hat{\\beta}^TX^Ty)^T$\n",
    ">\n",
    "> $\\hat{\\beta}^TX^Ty = y^TX\\hat{\\beta}$\n",
    "\n",
    "$\\frac{dS(\\hat{\\beta})}{d\\hat{\\beta}} = \\frac{d(y^Ty - 2y^TX\\hat{\\beta} + \\hat{\\beta}^TX^TX\\hat{\\beta})}{d\\hat{\\beta}}$\n",
    "\n",
    "> $\\frac{dy^TX\\hat{\\beta}}{d\\hat{\\beta}} = (y^TX)^T=X^Ty$\n",
    ">\n",
    "> $\\frac{d\\hat{\\beta}^TX^TX\\hat{\\beta}}{d\\hat{\\beta}} = 2X^TX\\hat{\\beta}$\n",
    "\n",
    "$\\frac{dS(\\hat{\\beta})}{d\\hat{\\beta}} = -2X^Ty + 2X^TX\\hat{\\beta}$\n",
    "\n",
    "$-2X^Ty + 2X^TX\\hat{\\beta} = 0$\n",
    "\n",
    "$\\hat{\\beta}=(X^TX)^{-1}X^Ty$\n",
    "\n",
    "**회귀 계수의 의미**\n",
    "\n",
    "회귀 계수($\\beta_i, i > 0$): 독립 변수 $X_i$가 1 증가 할 때, 종속 변수의 변화량\n",
    "\n",
    "상수항(intercept, $\\beta_0$): 모든 독립 변수가 0일 때 종속 변수의 평균 ← 모든 독립 변수가 0인 상황에 의미를 부여 할 수 있다면 분석의 대상이 되겠지만, 보통 독립 변수가 0 인 상황이 특별한 의미를 가지지 못한 경우가 많으므로 분석에 대상이 되지는 못합니다."
   ]
  },
  {
   "cell_type": "markdown",
   "id": "caf271f2",
   "metadata": {},
   "source": [
    "**[Ex.1]**\n",
    "\n",
    "<div style=\"border: 1px solid #ddd; padding: 12px; margin-top: 10px\">\n",
    "\n",
    "단순 선형 회귀(Simple Linear Regression) - 독립 변수의 수가 하나인 선형 회귀 모델\n",
    "\n",
    "df_berry에서 \n",
    "\n",
    "clonesize == 12.5 and honeybee == 0.25 and bumbles == 0.25 and AverageOfUpperTRange == 71.9 and AverageLowerTRange == 50.8 \n",
    "\n",
    "인 관측 데이터만 선택하여 df_berry2를 만듭니다.\n",
    "\n",
    "df_berry2에서 yield 는 종속 변수 fruitset은 독립 변수로 회귀 모델을 만들어 봅니다.\n",
    "    \n",
    "</div>"
   ]
  },
  {
   "cell_type": "code",
   "execution_count": 3,
   "id": "a384ce8b",
   "metadata": {},
   "outputs": [
    {
     "data": {
      "text/html": [
       "<div>\n",
       "<style scoped>\n",
       "    .dataframe tbody tr th:only-of-type {\n",
       "        vertical-align: middle;\n",
       "    }\n",
       "\n",
       "    .dataframe tbody tr th {\n",
       "        vertical-align: top;\n",
       "    }\n",
       "\n",
       "    .dataframe thead th {\n",
       "        text-align: right;\n",
       "    }\n",
       "</style>\n",
       "<table border=\"1\" class=\"dataframe\">\n",
       "  <thead>\n",
       "    <tr style=\"text-align: right;\">\n",
       "      <th></th>\n",
       "      <th>Row#</th>\n",
       "      <th>clonesize</th>\n",
       "      <th>honeybee</th>\n",
       "      <th>bumbles</th>\n",
       "      <th>andrena</th>\n",
       "      <th>osmia</th>\n",
       "      <th>MaxOfUpperTRange</th>\n",
       "      <th>MinOfUpperTRange</th>\n",
       "      <th>AverageOfUpperTRange</th>\n",
       "      <th>MaxOfLowerTRange</th>\n",
       "      <th>MinOfLowerTRange</th>\n",
       "      <th>AverageOfLowerTRange</th>\n",
       "      <th>RainingDays</th>\n",
       "      <th>AverageRainingDays</th>\n",
       "      <th>fruitset</th>\n",
       "      <th>fruitmass</th>\n",
       "      <th>seeds</th>\n",
       "      <th>yield</th>\n",
       "    </tr>\n",
       "  </thead>\n",
       "  <tbody>\n",
       "    <tr>\n",
       "      <td>51</td>\n",
       "      <td>51</td>\n",
       "      <td>12.5</td>\n",
       "      <td>0.25</td>\n",
       "      <td>0.25</td>\n",
       "      <td>0.25</td>\n",
       "      <td>0.25</td>\n",
       "      <td>86.0</td>\n",
       "      <td>52.0</td>\n",
       "      <td>71.9</td>\n",
       "      <td>62.0</td>\n",
       "      <td>30.0</td>\n",
       "      <td>50.8</td>\n",
       "      <td>16.0</td>\n",
       "      <td>0.26</td>\n",
       "      <td>0.521950</td>\n",
       "      <td>0.456937</td>\n",
       "      <td>36.852363</td>\n",
       "      <td>5996.078548</td>\n",
       "    </tr>\n",
       "    <tr>\n",
       "      <td>52</td>\n",
       "      <td>52</td>\n",
       "      <td>12.5</td>\n",
       "      <td>0.25</td>\n",
       "      <td>0.25</td>\n",
       "      <td>0.25</td>\n",
       "      <td>0.25</td>\n",
       "      <td>86.0</td>\n",
       "      <td>52.0</td>\n",
       "      <td>71.9</td>\n",
       "      <td>62.0</td>\n",
       "      <td>30.0</td>\n",
       "      <td>50.8</td>\n",
       "      <td>1.0</td>\n",
       "      <td>0.10</td>\n",
       "      <td>0.561962</td>\n",
       "      <td>0.476308</td>\n",
       "      <td>39.096884</td>\n",
       "      <td>6691.043218</td>\n",
       "    </tr>\n",
       "    <tr>\n",
       "      <td>55</td>\n",
       "      <td>55</td>\n",
       "      <td>12.5</td>\n",
       "      <td>0.25</td>\n",
       "      <td>0.25</td>\n",
       "      <td>0.25</td>\n",
       "      <td>0.25</td>\n",
       "      <td>86.0</td>\n",
       "      <td>52.0</td>\n",
       "      <td>71.9</td>\n",
       "      <td>62.0</td>\n",
       "      <td>30.0</td>\n",
       "      <td>50.8</td>\n",
       "      <td>24.0</td>\n",
       "      <td>0.39</td>\n",
       "      <td>0.466974</td>\n",
       "      <td>0.429452</td>\n",
       "      <td>33.669875</td>\n",
       "      <td>4999.156215</td>\n",
       "    </tr>\n",
       "    <tr>\n",
       "      <td>56</td>\n",
       "      <td>56</td>\n",
       "      <td>12.5</td>\n",
       "      <td>0.25</td>\n",
       "      <td>0.25</td>\n",
       "      <td>0.25</td>\n",
       "      <td>0.25</td>\n",
       "      <td>86.0</td>\n",
       "      <td>52.0</td>\n",
       "      <td>71.9</td>\n",
       "      <td>62.0</td>\n",
       "      <td>30.0</td>\n",
       "      <td>50.8</td>\n",
       "      <td>34.0</td>\n",
       "      <td>0.56</td>\n",
       "      <td>0.391598</td>\n",
       "      <td>0.400083</td>\n",
       "      <td>30.662187</td>\n",
       "      <td>3968.330182</td>\n",
       "    </tr>\n",
       "    <tr>\n",
       "      <td>67</td>\n",
       "      <td>67</td>\n",
       "      <td>12.5</td>\n",
       "      <td>0.25</td>\n",
       "      <td>0.25</td>\n",
       "      <td>0.25</td>\n",
       "      <td>0.38</td>\n",
       "      <td>86.0</td>\n",
       "      <td>52.0</td>\n",
       "      <td>71.9</td>\n",
       "      <td>62.0</td>\n",
       "      <td>30.0</td>\n",
       "      <td>50.8</td>\n",
       "      <td>16.0</td>\n",
       "      <td>0.26</td>\n",
       "      <td>0.552129</td>\n",
       "      <td>0.471650</td>\n",
       "      <td>38.577167</td>\n",
       "      <td>6578.235221</td>\n",
       "    </tr>\n",
       "    <tr>\n",
       "      <td>...</td>\n",
       "      <td>...</td>\n",
       "      <td>...</td>\n",
       "      <td>...</td>\n",
       "      <td>...</td>\n",
       "      <td>...</td>\n",
       "      <td>...</td>\n",
       "      <td>...</td>\n",
       "      <td>...</td>\n",
       "      <td>...</td>\n",
       "      <td>...</td>\n",
       "      <td>...</td>\n",
       "      <td>...</td>\n",
       "      <td>...</td>\n",
       "      <td>...</td>\n",
       "      <td>...</td>\n",
       "      <td>...</td>\n",
       "      <td>...</td>\n",
       "      <td>...</td>\n",
       "    </tr>\n",
       "    <tr>\n",
       "      <td>328</td>\n",
       "      <td>328</td>\n",
       "      <td>12.5</td>\n",
       "      <td>0.25</td>\n",
       "      <td>0.25</td>\n",
       "      <td>0.75</td>\n",
       "      <td>0.63</td>\n",
       "      <td>86.0</td>\n",
       "      <td>52.0</td>\n",
       "      <td>71.9</td>\n",
       "      <td>62.0</td>\n",
       "      <td>30.0</td>\n",
       "      <td>50.8</td>\n",
       "      <td>34.0</td>\n",
       "      <td>0.56</td>\n",
       "      <td>0.494585</td>\n",
       "      <td>0.442529</td>\n",
       "      <td>35.285926</td>\n",
       "      <td>5729.715055</td>\n",
       "    </tr>\n",
       "    <tr>\n",
       "      <td>339</td>\n",
       "      <td>339</td>\n",
       "      <td>12.5</td>\n",
       "      <td>0.25</td>\n",
       "      <td>0.25</td>\n",
       "      <td>0.75</td>\n",
       "      <td>0.75</td>\n",
       "      <td>86.0</td>\n",
       "      <td>52.0</td>\n",
       "      <td>71.9</td>\n",
       "      <td>62.0</td>\n",
       "      <td>30.0</td>\n",
       "      <td>50.8</td>\n",
       "      <td>16.0</td>\n",
       "      <td>0.26</td>\n",
       "      <td>0.612633</td>\n",
       "      <td>0.502787</td>\n",
       "      <td>42.171765</td>\n",
       "      <td>7914.171177</td>\n",
       "    </tr>\n",
       "    <tr>\n",
       "      <td>340</td>\n",
       "      <td>340</td>\n",
       "      <td>12.5</td>\n",
       "      <td>0.25</td>\n",
       "      <td>0.25</td>\n",
       "      <td>0.75</td>\n",
       "      <td>0.75</td>\n",
       "      <td>86.0</td>\n",
       "      <td>52.0</td>\n",
       "      <td>71.9</td>\n",
       "      <td>62.0</td>\n",
       "      <td>30.0</td>\n",
       "      <td>50.8</td>\n",
       "      <td>1.0</td>\n",
       "      <td>0.10</td>\n",
       "      <td>0.620392</td>\n",
       "      <td>0.511834</td>\n",
       "      <td>43.372043</td>\n",
       "      <td>8254.057310</td>\n",
       "    </tr>\n",
       "    <tr>\n",
       "      <td>343</td>\n",
       "      <td>343</td>\n",
       "      <td>12.5</td>\n",
       "      <td>0.25</td>\n",
       "      <td>0.25</td>\n",
       "      <td>0.75</td>\n",
       "      <td>0.75</td>\n",
       "      <td>86.0</td>\n",
       "      <td>52.0</td>\n",
       "      <td>71.9</td>\n",
       "      <td>62.0</td>\n",
       "      <td>30.0</td>\n",
       "      <td>50.8</td>\n",
       "      <td>24.0</td>\n",
       "      <td>0.39</td>\n",
       "      <td>0.566350</td>\n",
       "      <td>0.477439</td>\n",
       "      <td>39.228489</td>\n",
       "      <td>6799.729175</td>\n",
       "    </tr>\n",
       "    <tr>\n",
       "      <td>344</td>\n",
       "      <td>344</td>\n",
       "      <td>12.5</td>\n",
       "      <td>0.25</td>\n",
       "      <td>0.25</td>\n",
       "      <td>0.75</td>\n",
       "      <td>0.75</td>\n",
       "      <td>86.0</td>\n",
       "      <td>52.0</td>\n",
       "      <td>71.9</td>\n",
       "      <td>62.0</td>\n",
       "      <td>30.0</td>\n",
       "      <td>50.8</td>\n",
       "      <td>34.0</td>\n",
       "      <td>0.56</td>\n",
       "      <td>0.500190</td>\n",
       "      <td>0.444659</td>\n",
       "      <td>35.517539</td>\n",
       "      <td>5729.569636</td>\n",
       "    </tr>\n",
       "  </tbody>\n",
       "</table>\n",
       "<p>76 rows × 18 columns</p>\n",
       "</div>"
      ],
      "text/plain": [
       "     Row#  clonesize  honeybee  bumbles  andrena  osmia  MaxOfUpperTRange  \\\n",
       "51     51       12.5      0.25     0.25     0.25   0.25              86.0   \n",
       "52     52       12.5      0.25     0.25     0.25   0.25              86.0   \n",
       "55     55       12.5      0.25     0.25     0.25   0.25              86.0   \n",
       "56     56       12.5      0.25     0.25     0.25   0.25              86.0   \n",
       "67     67       12.5      0.25     0.25     0.25   0.38              86.0   \n",
       "..    ...        ...       ...      ...      ...    ...               ...   \n",
       "328   328       12.5      0.25     0.25     0.75   0.63              86.0   \n",
       "339   339       12.5      0.25     0.25     0.75   0.75              86.0   \n",
       "340   340       12.5      0.25     0.25     0.75   0.75              86.0   \n",
       "343   343       12.5      0.25     0.25     0.75   0.75              86.0   \n",
       "344   344       12.5      0.25     0.25     0.75   0.75              86.0   \n",
       "\n",
       "     MinOfUpperTRange  AverageOfUpperTRange  MaxOfLowerTRange  \\\n",
       "51               52.0                  71.9              62.0   \n",
       "52               52.0                  71.9              62.0   \n",
       "55               52.0                  71.9              62.0   \n",
       "56               52.0                  71.9              62.0   \n",
       "67               52.0                  71.9              62.0   \n",
       "..                ...                   ...               ...   \n",
       "328              52.0                  71.9              62.0   \n",
       "339              52.0                  71.9              62.0   \n",
       "340              52.0                  71.9              62.0   \n",
       "343              52.0                  71.9              62.0   \n",
       "344              52.0                  71.9              62.0   \n",
       "\n",
       "     MinOfLowerTRange  AverageOfLowerTRange  RainingDays  AverageRainingDays  \\\n",
       "51               30.0                  50.8         16.0                0.26   \n",
       "52               30.0                  50.8          1.0                0.10   \n",
       "55               30.0                  50.8         24.0                0.39   \n",
       "56               30.0                  50.8         34.0                0.56   \n",
       "67               30.0                  50.8         16.0                0.26   \n",
       "..                ...                   ...          ...                 ...   \n",
       "328              30.0                  50.8         34.0                0.56   \n",
       "339              30.0                  50.8         16.0                0.26   \n",
       "340              30.0                  50.8          1.0                0.10   \n",
       "343              30.0                  50.8         24.0                0.39   \n",
       "344              30.0                  50.8         34.0                0.56   \n",
       "\n",
       "     fruitset  fruitmass      seeds        yield  \n",
       "51   0.521950   0.456937  36.852363  5996.078548  \n",
       "52   0.561962   0.476308  39.096884  6691.043218  \n",
       "55   0.466974   0.429452  33.669875  4999.156215  \n",
       "56   0.391598   0.400083  30.662187  3968.330182  \n",
       "67   0.552129   0.471650  38.577167  6578.235221  \n",
       "..        ...        ...        ...          ...  \n",
       "328  0.494585   0.442529  35.285926  5729.715055  \n",
       "339  0.612633   0.502787  42.171765  7914.171177  \n",
       "340  0.620392   0.511834  43.372043  8254.057310  \n",
       "343  0.566350   0.477439  39.228489  6799.729175  \n",
       "344  0.500190   0.444659  35.517539  5729.569636  \n",
       "\n",
       "[76 rows x 18 columns]"
      ]
     },
     "execution_count": 3,
     "metadata": {},
     "output_type": "execute_result"
    }
   ],
   "source": [
    "df_berry2 = df_berry.query(\n",
    "    'clonesize == 12.5 and honeybee == 0.25 and bumbles == 0.25 and AverageOfUpperTRange == 71.9 and AverageOfLowerTRange == 50.8'\n",
    ")\n",
    "df_berry2"
   ]
  },
  {
   "cell_type": "code",
   "execution_count": 4,
   "id": "3a00cce5",
   "metadata": {},
   "outputs": [
    {
     "data": {
      "image/png": "[encoded data removed]",
      "text/plain": [
       "<Figure size 640x480 with 1 Axes>"
      ]
     },
     "metadata": {},
     "output_type": "display_data"
    }
   ],
   "source": [
    "sns.scatterplot(df_berry2, x='fruitset', y='yield', s = 15, alpha=0.5)\n",
    "plt.show()"
   ]
  },
  {
   "cell_type": "code",
   "execution_count": 5,
   "id": "fd53c48f",
   "metadata": {},
   "outputs": [
    {
     "data": {
      "text/plain": [
       "array([18664.94491423, -3595.388558  ])"
      ]
     },
     "execution_count": 5,
     "metadata": {},
     "output_type": "execute_result"
    }
   ],
   "source": [
    "# 절편을 따로 계산하지 않고 포함하여 구하기 위해 모든 값이 1인 열을 추가합니다.\n",
    "X = df_berry2[['fruitset']].assign(\n",
    "    const = 1\n",
    ")\n",
    "y = df_berry2['yield']\n",
    "# 정규 방정식을 이용하여 회귀계수를 계산합니다. \n",
    "# np.linalg.inv : 역행렬을 구합니다.\n",
    "# np.ndarray.dot: 벡터일때는 내적, 행렬일 때는 행렬곱을 계산합니다.\n",
    "beta_hat = np.linalg.inv(X.T.dot(X)).dot(X.T).dot(y)\n",
    "beta_hat"
   ]
  },
  {
   "cell_type": "code",
   "execution_count": 6,
   "id": "a6d1a207",
   "metadata": {},
   "outputs": [
    {
     "data": {
      "text/plain": [
       "min       1.937222\n",
       "max    8576.844939\n",
       "dtype: float64"
      ]
     },
     "execution_count": 6,
     "metadata": {},
     "output_type": "execute_result"
    }
   ],
   "source": [
    "df_berry[['fruitset']].agg(['min', 'max']).assign(const=1).dot(beta_hat)"
   ]
  },
  {
   "cell_type": "code",
   "execution_count": 7,
   "id": "720e24a5",
   "metadata": {},
   "outputs": [
    {
     "data": {
      "image/png": "[encoded data removed]",
      "text/plain": [
       "<Figure size 640x480 with 1 Axes>"
      ]
     },
     "metadata": {},
     "output_type": "display_data"
    }
   ],
   "source": [
    "sns.scatterplot(df_berry2, x='fruitset', y='yield', s = 15, alpha=0.5)\n",
    "plt.plot(\n",
    "    df_berry2[['fruitset']].agg(['min', 'max']), \n",
    "    df_berry2[['fruitset']].agg(['min', 'max']).assign(const=1).dot(beta_hat),\n",
    "    color = 'orange'\n",
    ")\n",
    "plt.show()"
   ]
  },
  {
   "cell_type": "markdown",
   "id": "f4b701d3",
   "metadata": {},
   "source": [
    "선형 회귀 분석 모듈:\n",
    "\n",
    "**statsmodels.api.OLS**, **statsmodels.formula.api.ols**"
   ]
  },
  {
   "cell_type": "code",
   "execution_count": 8,
   "id": "d6eafe33",
   "metadata": {},
   "outputs": [
    {
     "data": {
      "text/html": [
       "<table class=\"simpletable\">\n",
       "<caption>OLS Regression Results</caption>\n",
       "<tr>\n",
       "  <th>Dep. Variable:</th>          <td>yield</td>      <th>  R-squared:         </th> <td>   0.989</td>\n",
       "</tr>\n",
       "<tr>\n",
       "  <th>Model:</th>                   <td>OLS</td>       <th>  Adj. R-squared:    </th> <td>   0.989</td>\n",
       "</tr>\n",
       "<tr>\n",
       "  <th>Method:</th>             <td>Least Squares</td>  <th>  F-statistic:       </th> <td>   6515.</td>\n",
       "</tr>\n",
       "<tr>\n",
       "  <th>Date:</th>             <td>Mon, 03 Jun 2024</td> <th>  Prob (F-statistic):</th> <td>6.82e-74</td>\n",
       "</tr>\n",
       "<tr>\n",
       "  <th>Time:</th>                 <td>20:06:09</td>     <th>  Log-Likelihood:    </th> <td> -474.32</td>\n",
       "</tr>\n",
       "<tr>\n",
       "  <th>No. Observations:</th>      <td>    76</td>      <th>  AIC:               </th> <td>   952.6</td>\n",
       "</tr>\n",
       "<tr>\n",
       "  <th>Df Residuals:</th>          <td>    74</td>      <th>  BIC:               </th> <td>   957.3</td>\n",
       "</tr>\n",
       "<tr>\n",
       "  <th>Df Model:</th>              <td>     1</td>      <th>                     </th>     <td> </td>   \n",
       "</tr>\n",
       "<tr>\n",
       "  <th>Covariance Type:</th>      <td>nonrobust</td>    <th>                     </th>     <td> </td>   \n",
       "</tr>\n",
       "</table>\n",
       "<table class=\"simpletable\">\n",
       "<tr>\n",
       "      <td></td>        <th>coef</th>     <th>std err</th>      <th>t</th>      <th>P>|t|</th>  <th>[0.025</th>    <th>0.975]</th>  \n",
       "</tr>\n",
       "<tr>\n",
       "  <th>fruitset</th> <td> 1.866e+04</td> <td>  231.246</td> <td>   80.715</td> <td> 0.000</td> <td> 1.82e+04</td> <td> 1.91e+04</td>\n",
       "</tr>\n",
       "<tr>\n",
       "  <th>const</th>    <td>-3595.3886</td> <td>  127.259</td> <td>  -28.253</td> <td> 0.000</td> <td>-3848.957</td> <td>-3341.820</td>\n",
       "</tr>\n",
       "</table>\n",
       "<table class=\"simpletable\">\n",
       "<tr>\n",
       "  <th>Omnibus:</th>       <td> 1.925</td> <th>  Durbin-Watson:     </th> <td>   2.471</td>\n",
       "</tr>\n",
       "<tr>\n",
       "  <th>Prob(Omnibus):</th> <td> 0.382</td> <th>  Jarque-Bera (JB):  </th> <td>   1.934</td>\n",
       "</tr>\n",
       "<tr>\n",
       "  <th>Skew:</th>          <td> 0.351</td> <th>  Prob(JB):          </th> <td>   0.380</td>\n",
       "</tr>\n",
       "<tr>\n",
       "  <th>Kurtosis:</th>      <td> 2.656</td> <th>  Cond. No.          </th> <td>    20.8</td>\n",
       "</tr>\n",
       "</table><br/><br/>Warnings:<br/>[1] Standard Errors assume that the covariance matrix of the errors is correctly specified."
      ],
      "text/plain": [
       "<class 'statsmodels.iolib.summary.Summary'>\n",
       "\"\"\"\n",
       "                            OLS Regression Results                            \n",
       "==============================================================================\n",
       "Dep. Variable:                  yield   R-squared:                       0.989\n",
       "Model:                            OLS   Adj. R-squared:                  0.989\n",
       "Method:                 Least Squares   F-statistic:                     6515.\n",
       "Date:                Mon, 03 Jun 2024   Prob (F-statistic):           6.82e-74\n",
       "Time:                        20:06:09   Log-Likelihood:                -474.32\n",
       "No. Observations:                  76   AIC:                             952.6\n",
       "Df Residuals:                      74   BIC:                             957.3\n",
       "Df Model:                           1                                         \n",
       "Covariance Type:            nonrobust                                         \n",
       "==============================================================================\n",
       "                 coef    std err          t      P>|t|      [0.025      0.975]\n",
       "------------------------------------------------------------------------------\n",
       "fruitset    1.866e+04    231.246     80.715      0.000    1.82e+04    1.91e+04\n",
       "const      -3595.3886    127.259    -28.253      0.000   -3848.957   -3341.820\n",
       "==============================================================================\n",
       "Omnibus:                        1.925   Durbin-Watson:                   2.471\n",
       "Prob(Omnibus):                  0.382   Jarque-Bera (JB):                1.934\n",
       "Skew:                           0.351   Prob(JB):                        0.380\n",
       "Kurtosis:                       2.656   Cond. No.                         20.8\n",
       "==============================================================================\n",
       "\n",
       "Warnings:\n",
       "[1] Standard Errors assume that the covariance matrix of the errors is correctly specified.\n",
       "\"\"\""
      ]
     },
     "execution_count": 8,
     "metadata": {},
     "output_type": "execute_result"
    }
   ],
   "source": [
    "from statsmodels.api import OLS\n",
    "\n",
    "lm = OLS(y, X).fit()\n",
    "lm.summary()"
   ]
  },
  {
   "cell_type": "code",
   "execution_count": 9,
   "id": "a8219932",
   "metadata": {},
   "outputs": [
    {
     "data": {
      "text/html": [
       "<table class=\"simpletable\">\n",
       "<caption>OLS Regression Results</caption>\n",
       "<tr>\n",
       "  <th>Dep. Variable:</th>         <td>yield_</td>      <th>  R-squared:         </th> <td>   0.989</td>\n",
       "</tr>\n",
       "<tr>\n",
       "  <th>Model:</th>                   <td>OLS</td>       <th>  Adj. R-squared:    </th> <td>   0.989</td>\n",
       "</tr>\n",
       "<tr>\n",
       "  <th>Method:</th>             <td>Least Squares</td>  <th>  F-statistic:       </th> <td>   6515.</td>\n",
       "</tr>\n",
       "<tr>\n",
       "  <th>Date:</th>             <td>Mon, 03 Jun 2024</td> <th>  Prob (F-statistic):</th> <td>6.82e-74</td>\n",
       "</tr>\n",
       "<tr>\n",
       "  <th>Time:</th>                 <td>20:06:09</td>     <th>  Log-Likelihood:    </th> <td> -474.32</td>\n",
       "</tr>\n",
       "<tr>\n",
       "  <th>No. Observations:</th>      <td>    76</td>      <th>  AIC:               </th> <td>   952.6</td>\n",
       "</tr>\n",
       "<tr>\n",
       "  <th>Df Residuals:</th>          <td>    74</td>      <th>  BIC:               </th> <td>   957.3</td>\n",
       "</tr>\n",
       "<tr>\n",
       "  <th>Df Model:</th>              <td>     1</td>      <th>                     </th>     <td> </td>   \n",
       "</tr>\n",
       "<tr>\n",
       "  <th>Covariance Type:</th>      <td>nonrobust</td>    <th>                     </th>     <td> </td>   \n",
       "</tr>\n",
       "</table>\n",
       "<table class=\"simpletable\">\n",
       "<tr>\n",
       "      <td></td>         <th>coef</th>     <th>std err</th>      <th>t</th>      <th>P>|t|</th>  <th>[0.025</th>    <th>0.975]</th>  \n",
       "</tr>\n",
       "<tr>\n",
       "  <th>Intercept</th> <td>-3595.3886</td> <td>  127.259</td> <td>  -28.253</td> <td> 0.000</td> <td>-3848.957</td> <td>-3341.820</td>\n",
       "</tr>\n",
       "<tr>\n",
       "  <th>fruitset</th>  <td> 1.866e+04</td> <td>  231.246</td> <td>   80.715</td> <td> 0.000</td> <td> 1.82e+04</td> <td> 1.91e+04</td>\n",
       "</tr>\n",
       "</table>\n",
       "<table class=\"simpletable\">\n",
       "<tr>\n",
       "  <th>Omnibus:</th>       <td> 1.925</td> <th>  Durbin-Watson:     </th> <td>   2.471</td>\n",
       "</tr>\n",
       "<tr>\n",
       "  <th>Prob(Omnibus):</th> <td> 0.382</td> <th>  Jarque-Bera (JB):  </th> <td>   1.934</td>\n",
       "</tr>\n",
       "<tr>\n",
       "  <th>Skew:</th>          <td> 0.351</td> <th>  Prob(JB):          </th> <td>   0.380</td>\n",
       "</tr>\n",
       "<tr>\n",
       "  <th>Kurtosis:</th>      <td> 2.656</td> <th>  Cond. No.          </th> <td>    20.8</td>\n",
       "</tr>\n",
       "</table><br/><br/>Warnings:<br/>[1] Standard Errors assume that the covariance matrix of the errors is correctly specified."
      ],
      "text/plain": [
       "<class 'statsmodels.iolib.summary.Summary'>\n",
       "\"\"\"\n",
       "                            OLS Regression Results                            \n",
       "==============================================================================\n",
       "Dep. Variable:                 yield_   R-squared:                       0.989\n",
       "Model:                            OLS   Adj. R-squared:                  0.989\n",
       "Method:                 Least Squares   F-statistic:                     6515.\n",
       "Date:                Mon, 03 Jun 2024   Prob (F-statistic):           6.82e-74\n",
       "Time:                        20:06:09   Log-Likelihood:                -474.32\n",
       "No. Observations:                  76   AIC:                             952.6\n",
       "Df Residuals:                      74   BIC:                             957.3\n",
       "Df Model:                           1                                         \n",
       "Covariance Type:            nonrobust                                         \n",
       "==============================================================================\n",
       "                 coef    std err          t      P>|t|      [0.025      0.975]\n",
       "------------------------------------------------------------------------------\n",
       "Intercept  -3595.3886    127.259    -28.253      0.000   -3848.957   -3341.820\n",
       "fruitset    1.866e+04    231.246     80.715      0.000    1.82e+04    1.91e+04\n",
       "==============================================================================\n",
       "Omnibus:                        1.925   Durbin-Watson:                   2.471\n",
       "Prob(Omnibus):                  0.382   Jarque-Bera (JB):                1.934\n",
       "Skew:                           0.351   Prob(JB):                        0.380\n",
       "Kurtosis:                       2.656   Cond. No.                         20.8\n",
       "==============================================================================\n",
       "\n",
       "Warnings:\n",
       "[1] Standard Errors assume that the covariance matrix of the errors is correctly specified.\n",
       "\"\"\""
      ]
     },
     "execution_count": 9,
     "metadata": {},
     "output_type": "execute_result"
    }
   ],
   "source": [
    "from statsmodels.formula.api import ols\n",
    "# patsy formula를 통해 종속변수와 독립 변수를 정의합니다.\n",
    "lm = ols('yield_ ~ fruitset', data=df_berry2.rename(columns={'yield': 'yield_'})).fit()\n",
    "lm.summary()"
   ]
  },
  {
   "cell_type": "code",
   "execution_count": 10,
   "id": "7dcef072",
   "metadata": {},
   "outputs": [
    {
     "data": {
      "image/png": "[encoded data removed]",
      "text/plain": [
       "<Figure size 800x300 with 1 Axes>"
      ]
     },
     "metadata": {},
     "output_type": "display_data"
    }
   ],
   "source": [
    "plt.figure(figsize=(8,3))\n",
    "sns.histplot(lm.resid, bins=10)\n",
    "plt.show()"
   ]
  },
  {
   "cell_type": "markdown",
   "id": "4646fbbe",
   "metadata": {},
   "source": [
    "## 2. 적합도(The goodness-of-fit)\n",
    "\n",
    "$\\sum_{i=1}^n{\\left(y_i - \\bar{y}\\right)^2} = \\sum_{i=1}^n{\\left(\\hat{y_i} - \\bar{y}\\right)^2} + \\sum_{i=1}^n{\\left(y_i - \\hat{y_i}\\right)^2}$\n",
    "\n",
    "SST = SSR + SSE\n",
    "\n",
    "SST (Sum of squares Total, TSS:Total sum os squares): 전체 변동성 - 평균에서 얼마나 데이터들이 떨어져 있는지는 나타냅니다.\n",
    "\n",
    "SSR (Sum of Squared Regression, ESS:Explained sum of squares): 모델에 의해 설명된 변동성\n",
    "\n",
    "SSE(Sum of squares of errors, RSS:Residual sum of squares): 모델에 의해 설명되지 못한 변동성\n",
    "\n",
    "**증명**\n",
    "\n",
    "$SST = ||y - \\bar{y}1||^2 = ||y - \\hat{y} + \\hat{y} - \\bar{y}1||^2$\n",
    "\n",
    "$ = ||y - \\hat{y}1||^2 + ||\\hat{y} - \\bar{y}||^2 + 2<y - \\hat{y}, \\hat{y} - \\bar{y}>$\n",
    "\n",
    "$ = SSE + SSR + 2(\\hat{e}^TX)\\hat{\\beta} - 2\\bar{y}\\hat{\\epsilon}^T1$, $\\hat{\\epsilon}=y - \\hat{y}$\n",
    "\n",
    "> $(\\hat{e}^TX) = (y - \\hat{y})^TX = (y - X(X^TX)^{-1}X^Ty)^TX = y^TX - y^TX(X^TX)^{-1}X^TX = 0$\n",
    "\n",
    "> $\\hat{\\epsilon}^T1 = \\sum_{i=1}^{n}{y_i - \\hat{y_i}}=0$\n",
    "\n",
    "\n",
    "$ = SSE + SSR$\n",
    "\n",
    "**결정 계수(Coefficient of determination)**\n",
    "\n",
    "$R^2 = \\frac{SSR}{SST} = 1 - \\frac{SSE}{SST}$: 전체 변동성에서 회귀식에 의해 설명된 변동성의 비율\n"
   ]
  },
  {
   "cell_type": "markdown",
   "id": "57fd3ebf",
   "metadata": {},
   "source": [
    "**[Ex.2]**\n",
    "\n",
    "<div style=\"border: 1px solid #ddd; padding: 12px; margin-top: 10px\">\n",
    "\n",
    "위 모델의 SST, SSR, SSE를 구해 봅니다.\n",
    "    \n",
    "</div>"
   ]
  },
  {
   "cell_type": "code",
   "execution_count": 11,
   "id": "afce0704",
   "metadata": {},
   "outputs": [],
   "source": [
    "s_prd = df_berry2[['fruitset']].assign(const=1).dot(beta_hat)\n",
    "sse = ((df_berry2['yield'] - s_prd) ** 2).sum()\n",
    "ssr = ((s_prd - df_berry2['yield'].mean()) ** 2).sum()\n",
    "sst = ((df_berry2['yield'] - df_berry2['yield'].mean()) ** 2).sum()"
   ]
  },
  {
   "cell_type": "code",
   "execution_count": 12,
   "id": "08d5dde3",
   "metadata": {},
   "outputs": [
    {
     "data": {
      "text/plain": [
       "(104426682.46588431,\n",
       " 103253862.22145344,\n",
       " 1172820.2444328119,\n",
       " 104426682.46588625)"
      ]
     },
     "execution_count": 12,
     "metadata": {},
     "output_type": "execute_result"
    }
   ],
   "source": [
    "sst, ssr, sse, ssr + sse"
   ]
  },
  {
   "cell_type": "code",
   "execution_count": 13,
   "id": "d515d413",
   "metadata": {},
   "outputs": [
    {
     "data": {
      "text/plain": [
       "(0.9887689600326619, 0.9887689600326434)"
      ]
     },
     "execution_count": 13,
     "metadata": {},
     "output_type": "execute_result"
    }
   ],
   "source": [
    "r2_1 = ssr / sst\n",
    "r2_2 = 1 - sse / sst\n",
    "r2_1, r2_2"
   ]
  },
  {
   "cell_type": "code",
   "execution_count": 14,
   "id": "ef9f262c",
   "metadata": {},
   "outputs": [
    {
     "name": "stdout",
     "output_type": "stream",
     "text": [
      "1172820.2444328114 103253862.2214515\n"
     ]
    }
   ],
   "source": [
    "print(lm.ssr, lm.ess)"
   ]
  },
  {
   "cell_type": "markdown",
   "id": "3e974e4d",
   "metadata": {},
   "source": [
    "**수정된 결정 계수**\n",
    "\n",
    "$R^2$는 독립 변수가 종속 변수와 실제로 관련이 없더라도, 독립 변수의 수를 많이 가져갈 수록 높아지는 경향이 있습니다. \n",
    "\n",
    "(p개의 모수(회귀 계수 + 절편)를 지닌 선형모델은 적어도 p개의 점은 오차 없이 예측할 수 있습니다.)\n",
    "\n",
    "따라서 회귀 계수의 모수의 수에 따른 패널티를 가하여 결정계수를 수정한 것이 수정된 결정 계수 입니다. \n",
    "\n",
    "$Adjusted R^2=1 - \\frac{MSE}{MST} = 1 - \\frac{SSE/(n - p)}{SST/(n - 1)}$"
   ]
  },
  {
   "cell_type": "code",
   "execution_count": 15,
   "id": "de2a45ad",
   "metadata": {},
   "outputs": [
    {
     "name": "stdout",
     "output_type": "stream",
     "text": [
      "Adjusted R2 0.9886171892222736\n"
     ]
    }
   ],
   "source": [
    "p = 2\n",
    "n = len(df_berry2)\n",
    "print(\"Adjusted R2\", 1 - (sse / (n - p)) / (sst / (n - 1)))"
   ]
  },
  {
   "cell_type": "markdown",
   "id": "80c9abee",
   "metadata": {},
   "source": [
    "### 회귀 모델의 유의성 검정\n",
    "\n",
    "**SSR(모델이 설명한 변동성), SSE(모델이 설명하지 못한 변동성)을 이용한 F-test**\n",
    "\n",
    "$H_0$: 모든 회귀계수(절편 제외)는 0이다.$(\\beta_1 = \\beta_2 = ... \\beta_k = 0) \\equiv MSR <= MSE$, 회귀 모델은 유의미 하지 않다.\n",
    "\n",
    "$H_1$: 회귀계수(절편 제외)중 적어도 하나는 0이 아니다.$(\\beta_1 \\ne 0\\,or\\,\\beta_2 \\ne 0\\,...\\,or\\,\\beta_k \\ne 0) \\equiv MSR > MSE$, 회귀 모델은 유의미하다.\n",
    "\n",
    "$MSR = \\frac{SSR}{df_R}$, 회귀모델의 모수의 수가 p일 때, 평균에 의해 고정되므로 1개가 차감됩니다. 따라서 p - 1\n",
    "\n",
    "$MSE = \\frac{SSE}{df_E}$, 모수가 p개는 p개의 표본에 대해서는 오차가 0으로 고정이 됩니다. 따라서 MSE p개 만큼의 표본이 고정되므로 자유도는 n - p 가 됩니다.\n",
    "\n",
    "$F = \\frac{MSR}{MSE}\\sim F(p - 1, n - p)$"
   ]
  },
  {
   "cell_type": "markdown",
   "id": "49c9b1a5",
   "metadata": {},
   "source": [
    "**[Ex.3]**\n",
    "\n",
    "<div style=\"border: 1px solid #ddd; padding: 12px; margin-top: 10px\">\n",
    "\n",
    "위 모델의 F-test를 수행해봅니다.\n",
    "    \n",
    "</div>"
   ]
  },
  {
   "cell_type": "code",
   "execution_count": 16,
   "id": "468df471",
   "metadata": {},
   "outputs": [
    {
     "name": "stdout",
     "output_type": "stream",
     "text": [
      "SSR 자유도: 1, SSE 자유도: 74, 검정통계량: 6514.882259798234, pvalue: 6.819989886213649e-74\n"
     ]
    }
   ],
   "source": [
    "from scipy.stats import f\n",
    "n = len(df_berry2)\n",
    "df_ssr = 1\n",
    "df_sse = n - 2\n",
    "F = (ssr / df_ssr) / (sse / df_sse)\n",
    "pvalue = f.sf(F, df_ssr, df_sse)\n",
    "print(\"SSR 자유도: {}, SSE 자유도: {}, 검정통계량: {}, pvalue: {}\".format(df_ssr, df_sse, F, pvalue))"
   ]
  },
  {
   "cell_type": "code",
   "execution_count": 17,
   "id": "1f31ea6c",
   "metadata": {},
   "outputs": [
    {
     "name": "stdout",
     "output_type": "stream",
     "text": [
      "6514.882259798114 6.8199898862182484e-74\n"
     ]
    }
   ],
   "source": [
    "print(lm.fvalue, lm.f_pvalue)"
   ]
  },
  {
   "cell_type": "markdown",
   "id": "99678c5a",
   "metadata": {},
   "source": [
    "**회귀 계수의 유의성 검정**\n",
    "\n",
    "$H_0: \\beta_i = 0$\n",
    "\n",
    "$H_1: \\beta_i \\ne 0$\n",
    "\n",
    "$H_0$가 맞다면, \n",
    "\n",
    "$\\mu_{\\hat{\\beta_i}}$ = 0\n",
    "\n",
    "$s_{\\hat{\\beta_i}}=\\sqrt{\\frac{\\frac{1}{n - p}\\sum_{i=1}^{n}\\hat{\\epsilon_i^2}}{\\sum_{i=1}^n\\left(x_i - \\bar{x}\\right)^2}}$\n",
    "\n",
    "$t = \\frac{\\hat{\\beta_i} - \\mu_{\\hat{\\beta_i}}}{s_{\\hat{\\beta}}}= \\frac{\\hat{\\beta_i}}{s_{\\hat{\\beta}}} \\sim t(n - p)$"
   ]
  },
  {
   "cell_type": "markdown",
   "id": "831f998c",
   "metadata": {},
   "source": [
    "**[Ex.4]**\n",
    "\n",
    "<div style=\"border: 1px solid #ddd; padding: 12px; margin-top: 10px\">\n",
    "\n",
    "위 모델의 회귀계수에 대한 회귀 계수의 유의성 검정을 해봅니다.\n",
    "    \n",
    "</div>"
   ]
  },
  {
   "cell_type": "code",
   "execution_count": 18,
   "id": "0c9c2927",
   "metadata": {},
   "outputs": [
    {
     "data": {
      "text/plain": [
       "231.2455727733877"
      ]
     },
     "execution_count": 18,
     "metadata": {},
     "output_type": "execute_result"
    }
   ],
   "source": [
    "n = len(df_berry2)\n",
    "p = 2\n",
    "\n",
    "s_beta_hat = ((sse / (n - p)) / ((df_berry2['fruitset'] - df_berry2['fruitset'].mean()) ** 2).sum()) ** 0.5\n",
    "s_beta_hat"
   ]
  },
  {
   "cell_type": "code",
   "execution_count": 19,
   "id": "b7455a5b",
   "metadata": {},
   "outputs": [
    {
     "name": "stdout",
     "output_type": "stream",
     "text": [
      "검정통계량: -80.71482057093502, pvalue: 6.819989886213796e-74\n"
     ]
    }
   ],
   "source": [
    "from scipy.stats import t\n",
    "\n",
    "# 양측 검증이므로 왼쪽의 꼬리영역을 모든 경우에 구하도록 -abs를 통계량에 적용합니다.\n",
    "t_stat = -abs(beta_hat[0] - 0) / s_beta_hat\n",
    "print(\"검정통계량: {}, pvalue: {}\".format(t_stat, t.cdf(t_stat, n - p) * 2))"
   ]
  },
  {
   "cell_type": "code",
   "execution_count": 20,
   "id": "fe8e4e64",
   "metadata": {},
   "outputs": [
    {
     "data": {
      "text/plain": [
       "(Intercept   -28.252552\n",
       " fruitset     80.714821\n",
       " dtype: float64,\n",
       " Intercept    2.204123e-41\n",
       " fruitset     6.819990e-74\n",
       " dtype: float64)"
      ]
     },
     "execution_count": 20,
     "metadata": {},
     "output_type": "execute_result"
    }
   ],
   "source": [
    "lm.tvalues, lm.pvalues"
   ]
  },
  {
   "cell_type": "markdown",
   "id": "d0323c18",
   "metadata": {},
   "source": [
    "### AIC (Akaike Information Criterion)\n",
    "\n",
    "$AIC = 2k - 2 ln(L)$, L 모델의 데이터에 대한 최대우도입니다. k:는 모델의 모수의 수\n",
    "\n",
    "우도가 클수록 모델이 데이터를 잘 설명하는 것입니다. \n",
    "\n",
    "따라서 L을 0과 1사이의 수이므로 AIC가 작을 수록 모델이 데이터를 잘 설명하는 것입니다.\n",
    "\n",
    "선형 회귀 모델의 AIC\n",
    "\n",
    "$AIC = 2p + nln(2 \\pi) + nln(\\frac{SSE}{n}) + n$, n: 표본수, p: 선형 회귀 모델의 모수의 수\n",
    "\n",
    "상대적 비교 지표이므로, 상수항을 제외하여 나타낼 수도 있습니다.\n",
    "\n",
    "$AIC = 2p + n ln(\\frac{SSE}{n})$\n",
    "\n",
    "유도 과정입니다.\n",
    "\n",
    "> $y_i = x_i^T \\beta + \\epsilon_i$\n",
    "> \n",
    "> $\\epsilon_i \\sim N(0, \\sigma^2)$,  선형 회귀 모델 가정입니다.\n",
    ">\n",
    "> 이는 곧, $L(\\beta, \\sigma^2|y, X) = \\prod_{i=1}^n \\frac{1}{\\sqrt{2\\pi \\sigma^2}}exp(-\\frac{(y_i-x_i^T\\beta)^2}{2\\sigma^2}))$\n",
    "> \n",
    "> 여기에 log 양변에 취하여 로그우도를 취하여 정리합니다.\n",
    "> \n",
    "> $lnL(\\beta, \\sigma^2|y, X) = -\\frac{n}{2}ln(2 \\pi \\sigma^2) - \\frac{1}{2\\sigma^2}\\sum_{i=1}^n(y_i - x_i^T\\beta)^2$\n",
    ">\n",
    "> 우도를 최대화하는 \\sigma와 \\beta는 회귀 계수의 추정 과정으로 도출됩니다. \n",
    ">\n",
    "> $lnL(\\beta, \\sigma^2|y, X) = -\\frac{n}{2}(ln(2 \\pi) + ln(\\sigma^2)) - \\frac{SSE}{2\\sigma^2}$\n",
    ">\n",
    "> 이 때 $\\sigma^2 = \\frac{SSE}{n}$ 가 됩니다. \n",
    ">\n",
    "> $lnL(\\beta, \\sigma^2|y, X) = -\\frac{n}{2}(ln(2 \\pi) + ln(\\frac{SSE}{n})) - \\frac{n}{2}$\n",
    ">\n",
    "> 이를 AIC 에 대입하면, 이와함께 k를 회귀 계수의 모수의 수 p로 합니다.\n",
    ">\n",
    "> $AIC = 2p + nln(2 \\pi) + nln(\\frac{SSE}{n}) + n$\n",
    ">\n",
    "> 성능 비교를 위해 영향을 주지 않는 상수항($n×ln(2 \\pi) + n$)을 정리하면 아래와 같이 \n",
    ">\n",
    "> $AIC = 2p +  nln(\\frac{SSE}{n})$ 이 됩니다.\n"
   ]
  },
  {
   "cell_type": "markdown",
   "id": "cf9524d5",
   "metadata": {},
   "source": [
    "**[Ex.7]**\n",
    "\n",
    "<div style=\"border: 1px solid #ddd; padding: 12px; margin-top: 10px\">\n",
    "\n",
    "위 모델의 AIC 를 statsmodels를 기준으로 직접 구해봅니다.\n",
    "\n",
    "statsmodels의 summary 항목을 봅니다.\n",
    "    \n",
    "</div>"
   ]
  },
  {
   "cell_type": "code",
   "execution_count": 21,
   "id": "37d4a42a",
   "metadata": {},
   "outputs": [
    {
     "data": {
      "text/html": [
       "<table class=\"simpletable\">\n",
       "<caption>OLS Regression Results</caption>\n",
       "<tr>\n",
       "  <th>Dep. Variable:</th>         <td>yield_</td>      <th>  R-squared:         </th> <td>   0.989</td>\n",
       "</tr>\n",
       "<tr>\n",
       "  <th>Model:</th>                   <td>OLS</td>       <th>  Adj. R-squared:    </th> <td>   0.989</td>\n",
       "</tr>\n",
       "<tr>\n",
       "  <th>Method:</th>             <td>Least Squares</td>  <th>  F-statistic:       </th> <td>   6515.</td>\n",
       "</tr>\n",
       "<tr>\n",
       "  <th>Date:</th>             <td>Mon, 03 Jun 2024</td> <th>  Prob (F-statistic):</th> <td>6.82e-74</td>\n",
       "</tr>\n",
       "<tr>\n",
       "  <th>Time:</th>                 <td>20:06:09</td>     <th>  Log-Likelihood:    </th> <td> -474.32</td>\n",
       "</tr>\n",
       "<tr>\n",
       "  <th>No. Observations:</th>      <td>    76</td>      <th>  AIC:               </th> <td>   952.6</td>\n",
       "</tr>\n",
       "<tr>\n",
       "  <th>Df Residuals:</th>          <td>    74</td>      <th>  BIC:               </th> <td>   957.3</td>\n",
       "</tr>\n",
       "<tr>\n",
       "  <th>Df Model:</th>              <td>     1</td>      <th>                     </th>     <td> </td>   \n",
       "</tr>\n",
       "<tr>\n",
       "  <th>Covariance Type:</th>      <td>nonrobust</td>    <th>                     </th>     <td> </td>   \n",
       "</tr>\n",
       "</table>\n",
       "<table class=\"simpletable\">\n",
       "<tr>\n",
       "      <td></td>         <th>coef</th>     <th>std err</th>      <th>t</th>      <th>P>|t|</th>  <th>[0.025</th>    <th>0.975]</th>  \n",
       "</tr>\n",
       "<tr>\n",
       "  <th>Intercept</th> <td>-3595.3886</td> <td>  127.259</td> <td>  -28.253</td> <td> 0.000</td> <td>-3848.957</td> <td>-3341.820</td>\n",
       "</tr>\n",
       "<tr>\n",
       "  <th>fruitset</th>  <td> 1.866e+04</td> <td>  231.246</td> <td>   80.715</td> <td> 0.000</td> <td> 1.82e+04</td> <td> 1.91e+04</td>\n",
       "</tr>\n",
       "</table>\n",
       "<table class=\"simpletable\">\n",
       "<tr>\n",
       "  <th>Omnibus:</th>       <td> 1.925</td> <th>  Durbin-Watson:     </th> <td>   2.471</td>\n",
       "</tr>\n",
       "<tr>\n",
       "  <th>Prob(Omnibus):</th> <td> 0.382</td> <th>  Jarque-Bera (JB):  </th> <td>   1.934</td>\n",
       "</tr>\n",
       "<tr>\n",
       "  <th>Skew:</th>          <td> 0.351</td> <th>  Prob(JB):          </th> <td>   0.380</td>\n",
       "</tr>\n",
       "<tr>\n",
       "  <th>Kurtosis:</th>      <td> 2.656</td> <th>  Cond. No.          </th> <td>    20.8</td>\n",
       "</tr>\n",
       "</table><br/><br/>Warnings:<br/>[1] Standard Errors assume that the covariance matrix of the errors is correctly specified."
      ],
      "text/plain": [
       "<class 'statsmodels.iolib.summary.Summary'>\n",
       "\"\"\"\n",
       "                            OLS Regression Results                            \n",
       "==============================================================================\n",
       "Dep. Variable:                 yield_   R-squared:                       0.989\n",
       "Model:                            OLS   Adj. R-squared:                  0.989\n",
       "Method:                 Least Squares   F-statistic:                     6515.\n",
       "Date:                Mon, 03 Jun 2024   Prob (F-statistic):           6.82e-74\n",
       "Time:                        20:06:09   Log-Likelihood:                -474.32\n",
       "No. Observations:                  76   AIC:                             952.6\n",
       "Df Residuals:                      74   BIC:                             957.3\n",
       "Df Model:                           1                                         \n",
       "Covariance Type:            nonrobust                                         \n",
       "==============================================================================\n",
       "                 coef    std err          t      P>|t|      [0.025      0.975]\n",
       "------------------------------------------------------------------------------\n",
       "Intercept  -3595.3886    127.259    -28.253      0.000   -3848.957   -3341.820\n",
       "fruitset    1.866e+04    231.246     80.715      0.000    1.82e+04    1.91e+04\n",
       "==============================================================================\n",
       "Omnibus:                        1.925   Durbin-Watson:                   2.471\n",
       "Prob(Omnibus):                  0.382   Jarque-Bera (JB):                1.934\n",
       "Skew:                           0.351   Prob(JB):                        0.380\n",
       "Kurtosis:                       2.656   Cond. No.                         20.8\n",
       "==============================================================================\n",
       "\n",
       "Warnings:\n",
       "[1] Standard Errors assume that the covariance matrix of the errors is correctly specified.\n",
       "\"\"\""
      ]
     },
     "execution_count": 21,
     "metadata": {},
     "output_type": "execute_result"
    }
   ],
   "source": [
    "lm.summary()"
   ]
  },
  {
   "cell_type": "markdown",
   "id": "b94d4a79",
   "metadata": {},
   "source": [
    "**statsmodels에서의 AIC는 위에 유도과정에서의 로그 우도의 상수항까지 포함하고 있습니다.**\n",
    "\n",
    "$AIC = 2p + nln(2 \\pi) + nln(\\frac{SSE}{n}) + n$"
   ]
  },
  {
   "cell_type": "code",
   "execution_count": 22,
   "id": "563e8cbf",
   "metadata": {},
   "outputs": [
    {
     "data": {
      "text/plain": [
       "(-474.3184927130832, -944.6369854261663)"
      ]
     },
     "execution_count": 22,
     "metadata": {},
     "output_type": "execute_result"
    }
   ],
   "source": [
    "# statsmodels에서의 AIC는 로그 우도의 상수항까지 포함하고 있습니다. 이를 반영하여 AIC를 뽑아 봅니다.\n",
    "log_likelihood = (-n / 2 * (np.log(sse / n) + np.log(2 * np.pi))  -n/2)\n",
    "AIC = 2 * log_likelihood + 2 * p\n",
    "log_likelihood, AIC"
   ]
  },
  {
   "cell_type": "markdown",
   "id": "cb159a9a",
   "metadata": {},
   "source": [
    "### BIC(Bayesian Information Criterion)\n",
    "\n",
    "BIC는 AIC보다 변수의 수에 더 많은 페널티를 부여합니다. \n",
    "\n",
    "$BIC = pln(n) - 2ln L$ 입니다."
   ]
  },
  {
   "cell_type": "markdown",
   "id": "b174eda1",
   "metadata": {},
   "source": [
    "**[Ex.8]**\n",
    "\n",
    "<div style=\"border: 1px solid #ddd; padding: 12px; margin-top: 10px\">\n",
    "\n",
    "위 모델의 BIC 를 statsmodels를 기준으로 직접 구해봅니다.\n",
    "\n",
    "statsmodels의 summary 항목을 봅니다.\n",
    "    \n",
    "</div>\n",
    "\n",
    "$BIC = pln(n) + nln(2 \\pi) + nln(\\frac{SSE}{n}) + n$"
   ]
  },
  {
   "cell_type": "code",
   "execution_count": 23,
   "id": "aca4fc4f",
   "metadata": {},
   "outputs": [
    {
     "data": {
      "text/plain": [
       "(-474.3184927130832, 957.298452106739)"
      ]
     },
     "execution_count": 23,
     "metadata": {},
     "output_type": "execute_result"
    }
   ],
   "source": [
    "log_likelihood = (-n / 2 * (np.log(sse / n) + np.log(2 * np.pi))  -n / 2)\n",
    "BIC = -2 * log_likelihood + np.log(n) * p\n",
    "log_likelihood, BIC"
   ]
  },
  {
   "cell_type": "markdown",
   "id": "00d2b28d",
   "metadata": {},
   "source": [
    "## 3. 이상점과 영향점\n",
    "\n",
    "**이상점**: 보편적인 분포에 벋어난 관측치\n",
    "\n",
    "**영향점**: 이상점 중에서 회귀 분석 결과에 큰 영향을 미치는 소수의 관측치\n",
    "\n",
    "**이상점 판별법**\n",
    "\n",
    "1. 시각화\n",
    "\n",
    "\n",
    "2. 점 하나씩 제외해보고, 회귀계수의 변화의 정도를 측정\n",
    "\n",
    "\n",
    "3. 통계량\n",
    "\n",
    "**레버리지(Leverage)**:  i번째 관측치와 평균 관측치의 거리, i번째 종속변수가 i번째 적합값(fitted value)에 미치는 영향도\n",
    "\n",
    "> $h_{ii} = x_i^T(X^TX)^{-1}x_i$, $X$는 디자인 행렬, $x_i$는 i번째 관측치에 해당하는 벡터\n",
    ">\n",
    "> $0 \\le h_{ii} \\le 1$\n",
    "\n",
    "\n",
    "**표준화 잔차(studentized residual)**: i번째 관측치의 상대적 잔차\n",
    "\n",
    "> $t_i = \\frac{\\hat{e_i}}{\\sqrt{MSE(1-h_{ii})}}$\n",
    "\n",
    "**DFFITs(difference in fit(s))**: i번째 관측치를 제거했을 때 적합값(fitted value)의 변동량\n",
    "\n",
    "> $DFFITS = \\frac{\\hat{Y_i} - \\hat{Y_{i(i)}}}{\\sqrt{MSE_{(i)}h_{ii}}}$\n",
    ">\n",
    "> $\\hat{Y_{i(i)}}$: i번째 관측치를 제외하고 적합시킨 회귀모델의 적합값(fitted value)\n",
    ">\n",
    "> $MSE_{(i)}$: i번째 관측치를 제외하고 회귀모델을 적합시켰을 때의 MSE\n",
    "\n",
    "**DFBETAS(difference in beta(s))**: i번째 관측치를 제거했을 때, 회귀계수의 변동량\n",
    "\n",
    "> $DFBETAS_{ij} = \\frac{\\hat{\\beta_j} - \\hat{\\beta_{(i))j}}}{\\sqrt{MSE_{(i)}C_{jj}}}$\n",
    ">\n",
    "> $C_{jj}$: $(X^TX)^{-1}$의 대각 요소중 j번째 값"
   ]
  },
  {
   "cell_type": "markdown",
   "id": "5c70c9b6",
   "metadata": {},
   "source": [
    "**[Ex.7]**\n",
    "\n",
    "<div style=\"border: 1px solid #ddd; padding: 12px; margin-top: 10px\">\n",
    "\n",
    "위 모델에서 영향점 분석을 해봅니다.\n",
    "    \n",
    "</div>"
   ]
  },
  {
   "cell_type": "code",
   "execution_count": 24,
   "id": "e1b71bbe",
   "metadata": {},
   "outputs": [
    {
     "data": {
      "image/png": "[encoded data removed]",
      "text/plain": [
       "<Figure size 640x480 with 1 Axes>"
      ]
     },
     "metadata": {},
     "output_type": "display_data"
    }
   ],
   "source": [
    "sns.scatterplot(df_berry2, x='fruitset', y='yield', s = 15, alpha=0.5)\n",
    "\n",
    "plt.plot(\n",
    "    df_berry2[['fruitset']].agg(['min', 'max']), \n",
    "    df_berry2[['fruitset']].agg(['min', 'max']).assign(const=1).dot(beta_hat),\n",
    "    color = 'orange'\n",
    ")\n",
    "\n",
    "plt.show()"
   ]
  },
  {
   "cell_type": "markdown",
   "id": "46a28896",
   "metadata": {},
   "source": [
    "**Leverage**\n",
    "\n",
    "$h_{ii} = x_i^T(X^TX)^{-1}x_i$, $X$는 디자인 행렬, $x_i$는 i번째 관측치에 해당하는 벡터\n",
    "\n",
    "$h$: i번째 요소가 $h_{ii}$ 인 벡터, H를 구해 봅니다."
   ]
  },
  {
   "cell_type": "code",
   "execution_count": 25,
   "id": "e5a3b49d",
   "metadata": {},
   "outputs": [
    {
     "data": {
      "text/plain": [
       "array([0.01523545, 0.01393721, 0.03463865, 0.0943925 , 0.01325499,\n",
       "       0.0186333 , 0.02409748, 0.07061227, 0.01596129, 0.02270438,\n",
       "       0.01829397, 0.05457602, 0.02109729, 0.03449118, 0.01327086,\n",
       "       0.03431945, 0.02739609, 0.03631289, 0.01367082, 0.03094264,\n",
       "       0.0145278 , 0.01386002, 0.03434626, 0.08663494, 0.01332159,\n",
       "       0.02080256, 0.02047877, 0.0545788 , 0.01755107, 0.02486817,\n",
       "       0.01530754, 0.04629064, 0.02237219, 0.03212922, 0.01328602,\n",
       "       0.03307878, 0.02567748, 0.03689312, 0.01346479, 0.02390718,\n",
       "       0.01820326, 0.02678714, 0.01355782, 0.0440468 , 0.02169312,\n",
       "       0.03098493, 0.01319579, 0.02776659, 0.02619731, 0.0307663 ,\n",
       "       0.01467346, 0.01873598, 0.01589332, 0.02321239, 0.01383219,\n",
       "       0.03612474, 0.02284276, 0.02751387, 0.0131588 , 0.02676944,\n",
       "       0.02709694, 0.03475727, 0.01449145, 0.01856223, 0.01917294,\n",
       "       0.02403578, 0.01318245, 0.03422745, 0.02030775, 0.02707699,\n",
       "       0.01339857, 0.02234441, 0.02779673, 0.03144839, 0.01445216,\n",
       "       0.0204768 ])"
      ]
     },
     "execution_count": 25,
     "metadata": {},
     "output_type": "execute_result"
    }
   ],
   "source": [
    "h = np.diagonal(\n",
    "    np.dot(\n",
    "        np.dot(X, np.linalg.inv(np.dot(X.T, X))), X.T\n",
    "    )\n",
    ")\n",
    "h"
   ]
  },
  {
   "cell_type": "markdown",
   "id": "f97dfcdb",
   "metadata": {},
   "source": [
    "**표준화 잔차를 구해봅니다.**\n",
    "\n",
    "$t_i = \\frac{\\hat{e_i}}{\\sqrt{MSE(1-h_{ii})}}$\n",
    "\n",
    "$t_{std}$: i번째 요소가 $t_i$인 벡터를 만들어 봅니다."
   ]
  },
  {
   "cell_type": "code",
   "execution_count": 26,
   "id": "7ebd57bc",
   "metadata": {},
   "outputs": [
    {
     "data": {
      "text/plain": [
       "51    -1.206325\n",
       "52    -1.620375\n",
       "55    -0.982278\n",
       "56     2.124771\n",
       "67    -1.054218\n",
       "         ...   \n",
       "328    0.752778\n",
       "339    0.602520\n",
       "340    2.178132\n",
       "343   -1.406458\n",
       "344   -0.088764\n",
       "Length: 76, dtype: float64"
      ]
     },
     "execution_count": 26,
     "metadata": {},
     "output_type": "execute_result"
    }
   ],
   "source": [
    "mse = sse / (n - 2)\n",
    "t_std = (df_berry2['yield'] - s_prd) / np.sqrt((mse * (1- h)))\n",
    "t_std"
   ]
  },
  {
   "cell_type": "markdown",
   "id": "23ad33c1",
   "metadata": {},
   "source": [
    "**DFFITs, DFBETAS를 구해봅니다.**\n",
    "\n",
    "$DFFITs = \\frac{\\hat{Y_i} - \\hat{Y_{i(i)}}}{\\sqrt{MSE_{(i)}h_{ii}}}$\n",
    "\n",
    "$DFBETAS_{ij} = \\frac{\\hat{\\beta_j} - \\hat{\\beta_{(i))j}}}{\\sqrt{MSE_{(i)}C_{jj}}}$\n",
    "\n",
    "> $\\hat{Y_{i(i)}}$: i번째 관측치를 제외하고 적합시킨 회귀모델의 적합값(fitted value)\n",
    ">\n",
    "> $MSE_{(i)}$: i번째 관측치를 제외하고 회귀모델을 적합시켰을 때의 MSE\n",
    ">\n",
    "$C_{jj}$: $(X^TX)^{-1}$의 대각 요소중 j번째 값"
   ]
  },
  {
   "cell_type": "code",
   "execution_count": 27,
   "id": "cadd5e9a",
   "metadata": {},
   "outputs": [
    {
     "data": {
      "text/html": [
       "<div>\n",
       "<style scoped>\n",
       "    .dataframe tbody tr th:only-of-type {\n",
       "        vertical-align: middle;\n",
       "    }\n",
       "\n",
       "    .dataframe tbody tr th {\n",
       "        vertical-align: top;\n",
       "    }\n",
       "\n",
       "    .dataframe thead th {\n",
       "        text-align: right;\n",
       "    }\n",
       "</style>\n",
       "<table border=\"1\" class=\"dataframe\">\n",
       "  <thead>\n",
       "    <tr style=\"text-align: right;\">\n",
       "      <th></th>\n",
       "      <th>MSE_i</th>\n",
       "      <th>yii_hat</th>\n",
       "      <th>Intercept</th>\n",
       "      <th>fruitset</th>\n",
       "      <th>dffits</th>\n",
       "      <th>dfbetas0</th>\n",
       "      <th>dfbetas1</th>\n",
       "    </tr>\n",
       "  </thead>\n",
       "  <tbody>\n",
       "    <tr>\n",
       "      <td>51</td>\n",
       "      <td>15750.090078</td>\n",
       "      <td>6149.116094</td>\n",
       "      <td>-3586.369263</td>\n",
       "      <td>18652.132009</td>\n",
       "      <td>-0.150516</td>\n",
       "      <td>-0.071096</td>\n",
       "      <td>0.055582</td>\n",
       "    </tr>\n",
       "    <tr>\n",
       "      <td>52</td>\n",
       "      <td>15495.987537</td>\n",
       "      <td>6896.472823</td>\n",
       "      <td>-3598.445145</td>\n",
       "      <td>18675.478895</td>\n",
       "      <td>-0.194823</td>\n",
       "      <td>0.024291</td>\n",
       "      <td>-0.046069</td>\n",
       "    </tr>\n",
       "    <tr>\n",
       "      <td>55</td>\n",
       "      <td>15856.549262</td>\n",
       "      <td>5125.016670</td>\n",
       "      <td>-3575.206227</td>\n",
       "      <td>18631.061461</td>\n",
       "      <td>-0.186022</td>\n",
       "      <td>-0.158555</td>\n",
       "      <td>0.146491</td>\n",
       "    </tr>\n",
       "    <tr>\n",
       "      <td>56</td>\n",
       "      <td>15085.861021</td>\n",
       "      <td>3687.242336</td>\n",
       "      <td>-3679.548291</td>\n",
       "      <td>18812.103690</td>\n",
       "      <td>0.703114</td>\n",
       "      <td>0.677846</td>\n",
       "      <td>-0.652270</td>\n",
       "    </tr>\n",
       "    <tr>\n",
       "      <td>67</td>\n",
       "      <td>15824.741675</td>\n",
       "      <td>6711.841782</td>\n",
       "      <td>-3594.952802</td>\n",
       "      <td>18667.363185</td>\n",
       "      <td>-0.122278</td>\n",
       "      <td>-0.003427</td>\n",
       "      <td>-0.010466</td>\n",
       "    </tr>\n",
       "  </tbody>\n",
       "</table>\n",
       "</div>"
      ],
      "text/plain": [
       "           MSE_i      yii_hat    Intercept      fruitset    dffits  dfbetas0  \\\n",
       "51  15750.090078  6149.116094 -3586.369263  18652.132009 -0.150516 -0.071096   \n",
       "52  15495.987537  6896.472823 -3598.445145  18675.478895 -0.194823  0.024291   \n",
       "55  15856.549262  5125.016670 -3575.206227  18631.061461 -0.186022 -0.158555   \n",
       "56  15085.861021  3687.242336 -3679.548291  18812.103690  0.703114  0.677846   \n",
       "67  15824.741675  6711.841782 -3594.952802  18667.363185 -0.122278 -0.003427   \n",
       "\n",
       "    dfbetas1  \n",
       "51  0.055582  \n",
       "52 -0.046069  \n",
       "55  0.146491  \n",
       "56 -0.652270  \n",
       "67 -0.010466  "
      ]
     },
     "execution_count": 27,
     "metadata": {},
     "output_type": "execute_result"
    }
   ],
   "source": [
    "def get_stat_without_i(df, x):\n",
    "    \"\"\"\n",
    "    df의 mse를 구하고, x의 예측값을 구합니다. \n",
    "    dffits는 데이터 포인트를 제외한 나머지 데이터로 선형 모델을 학습시키고,\n",
    "    MSE를 구하고 제외한 데이터 포인트로 예측값이 필요합니다.\n",
    "    df에는 x를 제외한 나머지 데이터를 전달받습니다.\n",
    "    Parameters:\n",
    "        df: pd.DataFrame\n",
    "            선형모델을 학습시키고, mse를 구할 데이터\n",
    "        x: pd.Series\n",
    "            예측값을 만들 데이터\n",
    "    Returns:\n",
    "        float, float\n",
    "            MSE_i, yii_hat\n",
    "    \"\"\"\n",
    "    lm = ols('yield_ ~ fruitset', data=df.rename(columns={'yield': 'yield_'})).fit()\n",
    "    return pd.concat([\n",
    "        pd.Series([lm.mse_resid, lm.predict(x).values[0]], index=['MSE_i', 'yii_hat']),\n",
    "        lm.params\n",
    "    ], axis=0)\n",
    "C = np.linalg.inv(df_berry2[['fruitset']].assign(const=1).pipe(lambda x: x.T.dot(x)))\n",
    "df_fit_without_i = df_berry2.apply(\n",
    "    lambda x: get_stat_without_i(\n",
    "        df_berry2.loc[df_berry2.index != x.name], x\n",
    "    ), axis=1\n",
    ").assign(\n",
    "    dffits = lambda x: (s_prd - x['yii_hat']) / ((x['MSE_i'] * h) ** 0.5),\n",
    "    dfbetas0 = lambda x: (lm.params['Intercept'] - x['Intercept']) / ((x['MSE_i'] * C[1, 1]) ** 0.5),\n",
    "    dfbetas1 = lambda x: (lm.params['fruitset'] - x['fruitset']) / ((x['MSE_i'] * C[0, 0]) ** 0.5)\n",
    ")\n",
    "df_fit_without_i.head()"
   ]
  },
  {
   "cell_type": "code",
   "execution_count": 28,
   "id": "1962d858",
   "metadata": {},
   "outputs": [
    {
     "data": {
      "text/html": [
       "<div>\n",
       "<style scoped>\n",
       "    .dataframe tbody tr th:only-of-type {\n",
       "        vertical-align: middle;\n",
       "    }\n",
       "\n",
       "    .dataframe tbody tr th {\n",
       "        vertical-align: top;\n",
       "    }\n",
       "\n",
       "    .dataframe thead th {\n",
       "        text-align: right;\n",
       "    }\n",
       "</style>\n",
       "<table border=\"1\" class=\"dataframe\">\n",
       "  <thead>\n",
       "    <tr style=\"text-align: right;\">\n",
       "      <th></th>\n",
       "      <th>studentized residuals</th>\n",
       "      <th>dffits</th>\n",
       "      <th>dfbetas0</th>\n",
       "      <th>dfbetas1</th>\n",
       "    </tr>\n",
       "  </thead>\n",
       "  <tbody>\n",
       "    <tr>\n",
       "      <td>51</td>\n",
       "      <td>-1.206325</td>\n",
       "      <td>-0.150516</td>\n",
       "      <td>-0.071096</td>\n",
       "      <td>0.055582</td>\n",
       "    </tr>\n",
       "    <tr>\n",
       "      <td>52</td>\n",
       "      <td>-1.620375</td>\n",
       "      <td>-0.194823</td>\n",
       "      <td>0.024291</td>\n",
       "      <td>-0.046069</td>\n",
       "    </tr>\n",
       "    <tr>\n",
       "      <td>55</td>\n",
       "      <td>-0.982278</td>\n",
       "      <td>-0.186022</td>\n",
       "      <td>-0.158555</td>\n",
       "      <td>0.146491</td>\n",
       "    </tr>\n",
       "    <tr>\n",
       "      <td>56</td>\n",
       "      <td>2.124771</td>\n",
       "      <td>0.703114</td>\n",
       "      <td>0.677846</td>\n",
       "      <td>-0.652270</td>\n",
       "    </tr>\n",
       "    <tr>\n",
       "      <td>67</td>\n",
       "      <td>-1.054218</td>\n",
       "      <td>-0.122278</td>\n",
       "      <td>-0.003427</td>\n",
       "      <td>-0.010466</td>\n",
       "    </tr>\n",
       "    <tr>\n",
       "      <td>...</td>\n",
       "      <td>...</td>\n",
       "      <td>...</td>\n",
       "      <td>...</td>\n",
       "      <td>...</td>\n",
       "    </tr>\n",
       "    <tr>\n",
       "      <td>328</td>\n",
       "      <td>0.752778</td>\n",
       "      <td>0.113468</td>\n",
       "      <td>0.082166</td>\n",
       "      <td>-0.072755</td>\n",
       "    </tr>\n",
       "    <tr>\n",
       "      <td>339</td>\n",
       "      <td>0.602520</td>\n",
       "      <td>0.101439</td>\n",
       "      <td>-0.065219</td>\n",
       "      <td>0.073614</td>\n",
       "    </tr>\n",
       "    <tr>\n",
       "      <td>340</td>\n",
       "      <td>2.178132</td>\n",
       "      <td>0.402954</td>\n",
       "      <td>-0.275743</td>\n",
       "      <td>0.307305</td>\n",
       "    </tr>\n",
       "    <tr>\n",
       "      <td>343</td>\n",
       "      <td>-1.406458</td>\n",
       "      <td>-0.171468</td>\n",
       "      <td>0.032416</td>\n",
       "      <td>-0.051313</td>\n",
       "    </tr>\n",
       "    <tr>\n",
       "      <td>344</td>\n",
       "      <td>-0.088764</td>\n",
       "      <td>-0.012748</td>\n",
       "      <td>-0.008731</td>\n",
       "      <td>0.007621</td>\n",
       "    </tr>\n",
       "  </tbody>\n",
       "</table>\n",
       "<p>76 rows × 4 columns</p>\n",
       "</div>"
      ],
      "text/plain": [
       "     studentized residuals    dffits  dfbetas0  dfbetas1\n",
       "51               -1.206325 -0.150516 -0.071096  0.055582\n",
       "52               -1.620375 -0.194823  0.024291 -0.046069\n",
       "55               -0.982278 -0.186022 -0.158555  0.146491\n",
       "56                2.124771  0.703114  0.677846 -0.652270\n",
       "67               -1.054218 -0.122278 -0.003427 -0.010466\n",
       "..                     ...       ...       ...       ...\n",
       "328               0.752778  0.113468  0.082166 -0.072755\n",
       "339               0.602520  0.101439 -0.065219  0.073614\n",
       "340               2.178132  0.402954 -0.275743  0.307305\n",
       "343              -1.406458 -0.171468  0.032416 -0.051313\n",
       "344              -0.088764 -0.012748 -0.008731  0.007621\n",
       "\n",
       "[76 rows x 4 columns]"
      ]
     },
     "execution_count": 28,
     "metadata": {},
     "output_type": "execute_result"
    }
   ],
   "source": [
    "# statmodels로 여러 이상점 판단지표를 구해봅니다.\n",
    "influence = lm.get_influence()\n",
    "\n",
    "df_influence = pd.concat([\n",
    "    pd.Series(influence.resid_studentized, name='studentized residuals'),\n",
    "    pd.Series(influence.dffits[0], name='dffits'),\n",
    "    pd.DataFrame(influence.dfbetas, columns=['dfbetas0', 'dfbetas1']),\n",
    "], axis=1).set_index(df_berry2.index)\n",
    "df_influence"
   ]
  },
  {
   "cell_type": "code",
   "execution_count": 29,
   "id": "c795b9ee",
   "metadata": {},
   "outputs": [
    {
     "data": {
      "image/png": "[encoded data removed]",
      "text/plain": [
       "<Figure size 1600x400 with 3 Axes>"
      ]
     },
     "metadata": {},
     "output_type": "display_data"
    }
   ],
   "source": [
    "fig, axes = plt.subplots(1, 3, figsize=(16, 4))\n",
    "\n",
    "for val, i, ax in zip(\n",
    "        [influence.resid_studentized, influence.dffits[0], influence.dfbetas[:, 1]], \n",
    "        ['Studentized residuals', 'DFFITs', 'DFBetas(beta_1)'], \n",
    "        axes\n",
    "    ):\n",
    "    sns.scatterplot(\n",
    "        x=df_berry2['fruitset'].values, \n",
    "        y=df_berry2['yield'].values, s = 15, alpha=0.5, \n",
    "        hue=val, ax=ax\n",
    "    )\n",
    "\n",
    "    ax.plot(\n",
    "        df_berry2[['fruitset']].agg(['min', 'max']), \n",
    "        df_berry2[['fruitset']].agg(['min', 'max']).assign(const=1).dot(beta_hat),\n",
    "        color = 'orange'\n",
    "    )\n",
    "\n",
    "    ax.set_title(i)\n",
    "    ax.set_xlabel('fruitset')\n",
    "    ax.set_ylabel('yield')\n",
    "\n",
    "plt.tight_layout()\n",
    "plt.show()"
   ]
  },
  {
   "cell_type": "markdown",
   "id": "3c73f5e2",
   "metadata": {},
   "source": [
    "**Cook's Distance**\n",
    "\n",
    "$D_i = \\frac{\\sum_{j=1}^{n}\\left(\\hat{y_j} - \\hat{y_{j(i)}}\\right)^2}{pMSE}$\n",
    "\n",
    "> $\\hat{y_{j(i)}}$: i를 제외한 회귀 모델의 예측값\n",
    ">\n",
    "> $p$: 회귀 모델의 모수의 수"
   ]
  },
  {
   "cell_type": "code",
   "execution_count": 30,
   "id": "daac25a8",
   "metadata": {},
   "outputs": [
    {
     "data": {
      "text/plain": [
       "51     0.011257\n",
       "52     0.018555\n",
       "55     0.017311\n",
       "56     0.235284\n",
       "67     0.007465\n",
       "         ...   \n",
       "328    0.006476\n",
       "339    0.005190\n",
       "340    0.077022\n",
       "343    0.014504\n",
       "344    0.000082\n",
       "Name: num, Length: 76, dtype: float64"
      ]
     },
     "execution_count": 30,
     "metadata": {},
     "output_type": "execute_result"
    }
   ],
   "source": [
    "def get_cooks_num(df):\n",
    "    \"\"\"\n",
    "    하나의 데이터 포인트를 데이터프레임으로 학습하여 선형회귀모델을 만들고,\n",
    "    이를 통한 모든 데이터프레임(df_berry2)의 예측결과와 \n",
    "    제외하지 않은 선형회귀 모델의 예측값 (s_prd)와의 차이의 제곱합을 구합니다.\n",
    "    \n",
    "    Parameters:\n",
    "        df: pd.DataFrame\n",
    "            선형모델을 학습시킬 데이터\n",
    "    Returns:\n",
    "        float\n",
    "            Coook Distance의 분자항\n",
    "    \"\"\"\n",
    "    lm = ols('yield_ ~ fruitset', data=df.rename(columns={'yield': 'yield_'})).fit()\n",
    "    return np.sum((s_prd - lm.predict(df_berry2).values) ** 2)\n",
    "\n",
    "df_berry2.apply(\n",
    "    lambda x: get_cooks_num(df_berry2.loc[df_berry2.index != x.name]), axis=1\n",
    ").rename('num') / (lm.mse_resid * 2)"
   ]
  },
  {
   "cell_type": "markdown",
   "id": "2fa03a8a",
   "metadata": {},
   "source": [
    "### 다중 공선성(multicolinearity)\n",
    "\n",
    "- 다중공선성은 다중 선형 회귀 모델의 독립 변수간에 발생하는 문제입니다.\n",
    "\n",
    "- 다중 선형 회귀에서 독립변수들 간에 강한 선형관계가 존재하는 경우를 말합니다.\n",
    "\n",
    "#### 다중 선형 회귀(Multiple Linear Regression)\n",
    "\n",
    "- 독립 변수의 수가 여러  개인 선형 회귀 모델\n",
    "\n",
    "※ 다중 선형 회귀 분석의 표준화 또는 정규화\n",
    "\n",
    "> 독립 변수의 변수폭(스케일, Scale)을 균일화를 시켜 계수의 크기로 종속변수에 주는 영향도의 비교를 용이하게 합니다.\n",
    "\n",
    "\n",
    "#### 다중공선성의 영향\n",
    "\n",
    "- 불안정한 모델: 회귀계수 추정량의 변동성이 커져, 데이터가 조금만 바뀌어도 변동성이 커집니다.\n",
    "\n",
    "\n",
    "- 완전한 다중공선성: 독립변수들 간에 완벽한 선형 관계가 있는 경우\n",
    "\n",
    "> OLS: $\\hat{\\beta}=(X^TX)^{-1}X^Ty$ 에서 $(X^TX)^{-1}$가 존재하지 않습니다. \n",
    ">\n",
    "> 제대로된 회귀 계수를 얻을 수 없어, 반드시 해소해야 합니다.\n",
    ">\n",
    "> Ex) 범주형 변수를 가변수화 하면 이들 간에 완벽한 공선성을 지니게 됩니다. 가변수 중 하나를 제거합니다.\n",
    "\n",
    "\n",
    "#### 다중공선성 진단\n",
    "\n",
    "- 시각화: Ex) 독립 변수간에 산점도 출력, \n",
    "\n",
    "\n",
    "- 상관행렬 도출\n",
    "\n",
    "\n",
    "- 독립 변수 마다 VIF(variance inflation factor) 측정\n",
    "\n",
    "#### 해결 방안\n",
    "\n",
    "- 변수 선택\n",
    "\n",
    "\n",
    "- 차원 축소"
   ]
  },
  {
   "cell_type": "markdown",
   "id": "0057a237",
   "metadata": {},
   "source": [
    "**[Ex.8]**\n",
    "\n",
    "<div style=\"border: 1px solid #ddd; padding: 12px; margin-top: 10px\">\n",
    "\n",
    "df_berry2에서 yield 는 종속 변수 fruitset, fruitmass, seed은 독립 변수로 회귀 모델을 만들어 봅니다.\n",
    "\n",
    "fruitset, fruitmass, seed를 표준화 합니다.\n",
    "    \n",
    "</div>"
   ]
  },
  {
   "cell_type": "code",
   "execution_count": 31,
   "id": "7f1c6152",
   "metadata": {},
   "outputs": [],
   "source": [
    "from scipy.stats import zscore\n",
    "from statsmodels.api import add_constant"
   ]
  },
  {
   "cell_type": "code",
   "execution_count": 32,
   "id": "bea27120",
   "metadata": {},
   "outputs": [],
   "source": [
    "X_cols = ['fruitmass', 'fruitset', 'seeds']\n",
    "X2 = add_constant(zscore(df_berry2[X_cols]))"
   ]
  },
  {
   "cell_type": "code",
   "execution_count": 33,
   "id": "33699971",
   "metadata": {},
   "outputs": [
    {
     "data": {
      "text/plain": [
       "array([ 6609.94253637, -2331.35215554,   940.43623399,  2564.02706691])"
      ]
     },
     "execution_count": 33,
     "metadata": {},
     "output_type": "execute_result"
    }
   ],
   "source": [
    "# OLS의 해를 직접구해봅니다.\n",
    "np.dot(np.linalg.inv(X2.T.dot(X2)), np.dot(X2.T, y))"
   ]
  },
  {
   "cell_type": "code",
   "execution_count": 34,
   "id": "103fa5c6",
   "metadata": {},
   "outputs": [
    {
     "data": {
      "text/html": [
       "<table class=\"simpletable\">\n",
       "<caption>OLS Regression Results</caption>\n",
       "<tr>\n",
       "  <th>Dep. Variable:</th>          <td>yield</td>      <th>  R-squared:         </th> <td>   0.994</td>\n",
       "</tr>\n",
       "<tr>\n",
       "  <th>Model:</th>                   <td>OLS</td>       <th>  Adj. R-squared:    </th> <td>   0.994</td>\n",
       "</tr>\n",
       "<tr>\n",
       "  <th>Method:</th>             <td>Least Squares</td>  <th>  F-statistic:       </th> <td>   4168.</td>\n",
       "</tr>\n",
       "<tr>\n",
       "  <th>Date:</th>             <td>Mon, 03 Jun 2024</td> <th>  Prob (F-statistic):</th> <td>1.31e-80</td>\n",
       "</tr>\n",
       "<tr>\n",
       "  <th>Time:</th>                 <td>20:06:11</td>     <th>  Log-Likelihood:    </th> <td> -448.72</td>\n",
       "</tr>\n",
       "<tr>\n",
       "  <th>No. Observations:</th>      <td>    76</td>      <th>  AIC:               </th> <td>   905.4</td>\n",
       "</tr>\n",
       "<tr>\n",
       "  <th>Df Residuals:</th>          <td>    72</td>      <th>  BIC:               </th> <td>   914.8</td>\n",
       "</tr>\n",
       "<tr>\n",
       "  <th>Df Model:</th>              <td>     3</td>      <th>                     </th>     <td> </td>   \n",
       "</tr>\n",
       "<tr>\n",
       "  <th>Covariance Type:</th>      <td>nonrobust</td>    <th>                     </th>     <td> </td>   \n",
       "</tr>\n",
       "</table>\n",
       "<table class=\"simpletable\">\n",
       "<tr>\n",
       "    <td></td>       <th>coef</th>     <th>std err</th>      <th>t</th>      <th>P>|t|</th>  <th>[0.025</th>    <th>0.975]</th>  \n",
       "</tr>\n",
       "<tr>\n",
       "  <th>const</th> <td> 6609.9425</td> <td>   10.453</td> <td>  632.340</td> <td> 0.000</td> <td> 6589.105</td> <td> 6630.780</td>\n",
       "</tr>\n",
       "<tr>\n",
       "  <th>x1</th>    <td>-2331.3522</td> <td> 1396.210</td> <td>   -1.670</td> <td> 0.099</td> <td>-5114.645</td> <td>  451.941</td>\n",
       "</tr>\n",
       "<tr>\n",
       "  <th>x2</th>    <td>  940.4362</td> <td>  317.907</td> <td>    2.958</td> <td> 0.004</td> <td>  306.699</td> <td> 1574.173</td>\n",
       "</tr>\n",
       "<tr>\n",
       "  <th>x3</th>    <td> 2564.0271</td> <td> 1096.803</td> <td>    2.338</td> <td> 0.022</td> <td>  377.590</td> <td> 4750.465</td>\n",
       "</tr>\n",
       "</table>\n",
       "<table class=\"simpletable\">\n",
       "<tr>\n",
       "  <th>Omnibus:</th>       <td> 3.761</td> <th>  Durbin-Watson:     </th> <td>   1.771</td>\n",
       "</tr>\n",
       "<tr>\n",
       "  <th>Prob(Omnibus):</th> <td> 0.153</td> <th>  Jarque-Bera (JB):  </th> <td>   2.985</td>\n",
       "</tr>\n",
       "<tr>\n",
       "  <th>Skew:</th>          <td> 0.370</td> <th>  Prob(JB):          </th> <td>   0.225</td>\n",
       "</tr>\n",
       "<tr>\n",
       "  <th>Kurtosis:</th>      <td> 3.628</td> <th>  Cond. No.          </th> <td>    298.</td>\n",
       "</tr>\n",
       "</table><br/><br/>Warnings:<br/>[1] Standard Errors assume that the covariance matrix of the errors is correctly specified."
      ],
      "text/plain": [
       "<class 'statsmodels.iolib.summary.Summary'>\n",
       "\"\"\"\n",
       "                            OLS Regression Results                            \n",
       "==============================================================================\n",
       "Dep. Variable:                  yield   R-squared:                       0.994\n",
       "Model:                            OLS   Adj. R-squared:                  0.994\n",
       "Method:                 Least Squares   F-statistic:                     4168.\n",
       "Date:                Mon, 03 Jun 2024   Prob (F-statistic):           1.31e-80\n",
       "Time:                        20:06:11   Log-Likelihood:                -448.72\n",
       "No. Observations:                  76   AIC:                             905.4\n",
       "Df Residuals:                      72   BIC:                             914.8\n",
       "Df Model:                           3                                         \n",
       "Covariance Type:            nonrobust                                         \n",
       "==============================================================================\n",
       "                 coef    std err          t      P>|t|      [0.025      0.975]\n",
       "------------------------------------------------------------------------------\n",
       "const       6609.9425     10.453    632.340      0.000    6589.105    6630.780\n",
       "x1         -2331.3522   1396.210     -1.670      0.099   -5114.645     451.941\n",
       "x2           940.4362    317.907      2.958      0.004     306.699    1574.173\n",
       "x3          2564.0271   1096.803      2.338      0.022     377.590    4750.465\n",
       "==============================================================================\n",
       "Omnibus:                        3.761   Durbin-Watson:                   1.771\n",
       "Prob(Omnibus):                  0.153   Jarque-Bera (JB):                2.985\n",
       "Skew:                           0.370   Prob(JB):                        0.225\n",
       "Kurtosis:                       3.628   Cond. No.                         298.\n",
       "==============================================================================\n",
       "\n",
       "Warnings:\n",
       "[1] Standard Errors assume that the covariance matrix of the errors is correctly specified.\n",
       "\"\"\""
      ]
     },
     "execution_count": 34,
     "metadata": {},
     "output_type": "execute_result"
    }
   ],
   "source": [
    "lm2 = OLS(y, X2).fit()\n",
    "lm2.summary()"
   ]
  },
  {
   "cell_type": "markdown",
   "id": "205fae88",
   "metadata": {},
   "source": [
    "**[Ex.9]**\n",
    "\n",
    "<div style=\"border: 1px solid #ddd; padding: 12px; margin-top: 10px\">\n",
    "\n",
    "df_berry2에서 yield 는 종속 변수 fruitset, fruitmass, seed은 독립 변수로 회귀 모델에서의 \n",
    "    \n",
    "다중 공선성 현상을 조사합니다.\n",
    "    \n",
    "그리고 VIF를 기준으로 변수를 선택하여 해소하는 방법과,\n",
    "    \n",
    "PCA를 사용하여 해소하는 방법을 보입니다.\n",
    "    \n",
    "</div>"
   ]
  },
  {
   "cell_type": "code",
   "execution_count": 35,
   "id": "2e5456ef",
   "metadata": {},
   "outputs": [
    {
     "data": {
      "image/png": "[encoded data removed]",
      "text/plain": [
       "<Figure size 1200x400 with 3 Axes>"
      ]
     },
     "metadata": {},
     "output_type": "display_data"
    }
   ],
   "source": [
    "import itertools\n",
    "fig, axes = plt.subplots(1, 3, figsize=(12, 4))\n",
    "for (x_, y_), ax in zip(itertools.combinations(X_cols, 2), axes):\n",
    "    sns.scatterplot(data=df_berry2, x=x_, y=y_, ax=ax)\n",
    "plt.tight_layout()\n",
    "plt.show()"
   ]
  },
  {
   "cell_type": "code",
   "execution_count": 36,
   "id": "ddc9043d",
   "metadata": {},
   "outputs": [
    {
     "data": {
      "text/plain": [
       "([1.0000000000000002, 17840.509291167236, 924.9268899020105], 'fruitset')"
      ]
     },
     "execution_count": 36,
     "metadata": {},
     "output_type": "execute_result"
    }
   ],
   "source": [
    "from statsmodels.stats.outliers_influence import variance_inflation_factor\n",
    "\n",
    "vifs = [variance_inflation_factor(X2, i) for i in range(3)]\n",
    "vifs, X_cols[np.argmax(vifs)]"
   ]
  },
  {
   "cell_type": "code",
   "execution_count": 37,
   "id": "bcfecbb1",
   "metadata": {},
   "outputs": [
    {
     "data": {
      "text/html": [
       "<table class=\"simpletable\">\n",
       "<caption>OLS Regression Results</caption>\n",
       "<tr>\n",
       "  <th>Dep. Variable:</th>          <td>yield</td>      <th>  R-squared:         </th> <td>   0.994</td>\n",
       "</tr>\n",
       "<tr>\n",
       "  <th>Model:</th>                   <td>OLS</td>       <th>  Adj. R-squared:    </th> <td>   0.993</td>\n",
       "</tr>\n",
       "<tr>\n",
       "  <th>Method:</th>             <td>Least Squares</td>  <th>  F-statistic:       </th> <td>   5647.</td>\n",
       "</tr>\n",
       "<tr>\n",
       "  <th>Date:</th>             <td>Mon, 03 Jun 2024</td> <th>  Prob (F-statistic):</th> <td>9.53e-81</td>\n",
       "</tr>\n",
       "<tr>\n",
       "  <th>Time:</th>                 <td>20:06:11</td>     <th>  Log-Likelihood:    </th> <td> -453.08</td>\n",
       "</tr>\n",
       "<tr>\n",
       "  <th>No. Observations:</th>      <td>    76</td>      <th>  AIC:               </th> <td>   912.2</td>\n",
       "</tr>\n",
       "<tr>\n",
       "  <th>Df Residuals:</th>          <td>    73</td>      <th>  BIC:               </th> <td>   919.1</td>\n",
       "</tr>\n",
       "<tr>\n",
       "  <th>Df Model:</th>              <td>     2</td>      <th>                     </th>     <td> </td>   \n",
       "</tr>\n",
       "<tr>\n",
       "  <th>Covariance Type:</th>      <td>nonrobust</td>    <th>                     </th>     <td> </td>   \n",
       "</tr>\n",
       "</table>\n",
       "<table class=\"simpletable\">\n",
       "<tr>\n",
       "    <td></td>       <th>coef</th>     <th>std err</th>      <th>t</th>      <th>P>|t|</th>  <th>[0.025</th>    <th>0.975]</th>  \n",
       "</tr>\n",
       "<tr>\n",
       "  <th>const</th> <td> 6609.9425</td> <td>   10.994</td> <td>  601.227</td> <td> 0.000</td> <td> 6588.031</td> <td> 6631.854</td>\n",
       "</tr>\n",
       "<tr>\n",
       "  <th>x1</th>    <td> 1627.4627</td> <td>  418.716</td> <td>    3.887</td> <td> 0.000</td> <td>  792.964</td> <td> 2461.961</td>\n",
       "</tr>\n",
       "<tr>\n",
       "  <th>x2</th>    <td> -459.2605</td> <td>  418.716</td> <td>   -1.097</td> <td> 0.276</td> <td>-1293.759</td> <td>  375.238</td>\n",
       "</tr>\n",
       "</table>\n",
       "<table class=\"simpletable\">\n",
       "<tr>\n",
       "  <th>Omnibus:</th>       <td> 0.366</td> <th>  Durbin-Watson:     </th> <td>   1.559</td>\n",
       "</tr>\n",
       "<tr>\n",
       "  <th>Prob(Omnibus):</th> <td> 0.833</td> <th>  Jarque-Bera (JB):  </th> <td>   0.536</td>\n",
       "</tr>\n",
       "<tr>\n",
       "  <th>Skew:</th>          <td> 0.106</td> <th>  Prob(JB):          </th> <td>   0.765</td>\n",
       "</tr>\n",
       "<tr>\n",
       "  <th>Kurtosis:</th>      <td> 2.648</td> <th>  Cond. No.          </th> <td>    76.2</td>\n",
       "</tr>\n",
       "</table><br/><br/>Warnings:<br/>[1] Standard Errors assume that the covariance matrix of the errors is correctly specified."
      ],
      "text/plain": [
       "<class 'statsmodels.iolib.summary.Summary'>\n",
       "\"\"\"\n",
       "                            OLS Regression Results                            \n",
       "==============================================================================\n",
       "Dep. Variable:                  yield   R-squared:                       0.994\n",
       "Model:                            OLS   Adj. R-squared:                  0.993\n",
       "Method:                 Least Squares   F-statistic:                     5647.\n",
       "Date:                Mon, 03 Jun 2024   Prob (F-statistic):           9.53e-81\n",
       "Time:                        20:06:11   Log-Likelihood:                -453.08\n",
       "No. Observations:                  76   AIC:                             912.2\n",
       "Df Residuals:                      73   BIC:                             919.1\n",
       "Df Model:                           2                                         \n",
       "Covariance Type:            nonrobust                                         \n",
       "==============================================================================\n",
       "                 coef    std err          t      P>|t|      [0.025      0.975]\n",
       "------------------------------------------------------------------------------\n",
       "const       6609.9425     10.994    601.227      0.000    6588.031    6631.854\n",
       "x1          1627.4627    418.716      3.887      0.000     792.964    2461.961\n",
       "x2          -459.2605    418.716     -1.097      0.276   -1293.759     375.238\n",
       "==============================================================================\n",
       "Omnibus:                        0.366   Durbin-Watson:                   1.559\n",
       "Prob(Omnibus):                  0.833   Jarque-Bera (JB):                0.536\n",
       "Skew:                           0.106   Prob(JB):                        0.765\n",
       "Kurtosis:                       2.648   Cond. No.                         76.2\n",
       "==============================================================================\n",
       "\n",
       "Warnings:\n",
       "[1] Standard Errors assume that the covariance matrix of the errors is correctly specified.\n",
       "\"\"\""
      ]
     },
     "execution_count": 37,
     "metadata": {},
     "output_type": "execute_result"
    }
   ],
   "source": [
    "X3 = add_constant(zscore(df_berry2[['fruitmass', 'seeds']]))\n",
    "\n",
    "lm3 = OLS(y, X3).fit()\n",
    "lm3.summary()"
   ]
  },
  {
   "cell_type": "code",
   "execution_count": 38,
   "id": "1d559f71",
   "metadata": {},
   "outputs": [
    {
     "data": {
      "text/plain": [
       "[1450.5047348236114, 1450.5047348236114]"
      ]
     },
     "execution_count": 38,
     "metadata": {},
     "output_type": "execute_result"
    }
   ],
   "source": [
    "vifs = [variance_inflation_factor(X3, i) for i in range(1, 3)]\n",
    "vifs"
   ]
  },
  {
   "cell_type": "code",
   "execution_count": 39,
   "id": "52e9b501",
   "metadata": {},
   "outputs": [
    {
     "data": {
      "text/plain": [
       "0.9886171892222737"
      ]
     },
     "execution_count": 39,
     "metadata": {},
     "output_type": "execute_result"
    }
   ],
   "source": [
    "lm3 = OLS(y, df_berry2[['fruitset']].assign(const=1)).fit()\n",
    "lm3.rsquared_adj"
   ]
  },
  {
   "cell_type": "code",
   "execution_count": 40,
   "id": "4d97cb80",
   "metadata": {},
   "outputs": [
    {
     "data": {
      "text/plain": [
       "0.9921447138547256"
      ]
     },
     "execution_count": 40,
     "metadata": {},
     "output_type": "execute_result"
    }
   ],
   "source": [
    "lm3 = OLS(y, df_berry2[['seeds']].assign(const=1)).fit()\n",
    "lm3.rsquared_adj"
   ]
  },
  {
   "cell_type": "code",
   "execution_count": 41,
   "id": "5e963852",
   "metadata": {},
   "outputs": [
    {
     "data": {
      "text/html": [
       "<table class=\"simpletable\">\n",
       "<caption>OLS Regression Results</caption>\n",
       "<tr>\n",
       "  <th>Dep. Variable:</th>          <td>yield</td>      <th>  R-squared:         </th> <td>   0.992</td>\n",
       "</tr>\n",
       "<tr>\n",
       "  <th>Model:</th>                   <td>OLS</td>       <th>  Adj. R-squared:    </th> <td>   0.992</td>\n",
       "</tr>\n",
       "<tr>\n",
       "  <th>Method:</th>             <td>Least Squares</td>  <th>  F-statistic:       </th> <td>   9474.</td>\n",
       "</tr>\n",
       "<tr>\n",
       "  <th>Date:</th>             <td>Mon, 03 Jun 2024</td> <th>  Prob (F-statistic):</th> <td>7.46e-80</td>\n",
       "</tr>\n",
       "<tr>\n",
       "  <th>Time:</th>                 <td>20:06:11</td>     <th>  Log-Likelihood:    </th> <td> -460.22</td>\n",
       "</tr>\n",
       "<tr>\n",
       "  <th>No. Observations:</th>      <td>    76</td>      <th>  AIC:               </th> <td>   924.4</td>\n",
       "</tr>\n",
       "<tr>\n",
       "  <th>Df Residuals:</th>          <td>    74</td>      <th>  BIC:               </th> <td>   929.1</td>\n",
       "</tr>\n",
       "<tr>\n",
       "  <th>Df Model:</th>              <td>     1</td>      <th>                     </th>     <td> </td>   \n",
       "</tr>\n",
       "<tr>\n",
       "  <th>Covariance Type:</th>      <td>nonrobust</td>    <th>                     </th>     <td> </td>   \n",
       "</tr>\n",
       "</table>\n",
       "<table class=\"simpletable\">\n",
       "<tr>\n",
       "    <td></td>       <th>coef</th>     <th>std err</th>      <th>t</th>      <th>P>|t|</th>  <th>[0.025</th>    <th>0.975]</th>  \n",
       "</tr>\n",
       "<tr>\n",
       "  <th>seeds</th> <td>  321.7481</td> <td>    3.306</td> <td>   97.333</td> <td> 0.000</td> <td>  315.162</td> <td>  328.335</td>\n",
       "</tr>\n",
       "<tr>\n",
       "  <th>const</th> <td>-5783.7003</td> <td>  127.896</td> <td>  -45.222</td> <td> 0.000</td> <td>-6038.539</td> <td>-5528.861</td>\n",
       "</tr>\n",
       "</table>\n",
       "<table class=\"simpletable\">\n",
       "<tr>\n",
       "  <th>Omnibus:</th>       <td> 2.719</td> <th>  Durbin-Watson:     </th> <td>   1.381</td>\n",
       "</tr>\n",
       "<tr>\n",
       "  <th>Prob(Omnibus):</th> <td> 0.257</td> <th>  Jarque-Bera (JB):  </th> <td>   2.273</td>\n",
       "</tr>\n",
       "<tr>\n",
       "  <th>Skew:</th>          <td>-0.132</td> <th>  Prob(JB):          </th> <td>   0.321</td>\n",
       "</tr>\n",
       "<tr>\n",
       "  <th>Kurtosis:</th>      <td> 3.805</td> <th>  Cond. No.          </th> <td>    413.</td>\n",
       "</tr>\n",
       "</table><br/><br/>Warnings:<br/>[1] Standard Errors assume that the covariance matrix of the errors is correctly specified."
      ],
      "text/plain": [
       "<class 'statsmodels.iolib.summary.Summary'>\n",
       "\"\"\"\n",
       "                            OLS Regression Results                            \n",
       "==============================================================================\n",
       "Dep. Variable:                  yield   R-squared:                       0.992\n",
       "Model:                            OLS   Adj. R-squared:                  0.992\n",
       "Method:                 Least Squares   F-statistic:                     9474.\n",
       "Date:                Mon, 03 Jun 2024   Prob (F-statistic):           7.46e-80\n",
       "Time:                        20:06:11   Log-Likelihood:                -460.22\n",
       "No. Observations:                  76   AIC:                             924.4\n",
       "Df Residuals:                      74   BIC:                             929.1\n",
       "Df Model:                           1                                         \n",
       "Covariance Type:            nonrobust                                         \n",
       "==============================================================================\n",
       "                 coef    std err          t      P>|t|      [0.025      0.975]\n",
       "------------------------------------------------------------------------------\n",
       "seeds        321.7481      3.306     97.333      0.000     315.162     328.335\n",
       "const      -5783.7003    127.896    -45.222      0.000   -6038.539   -5528.861\n",
       "==============================================================================\n",
       "Omnibus:                        2.719   Durbin-Watson:                   1.381\n",
       "Prob(Omnibus):                  0.257   Jarque-Bera (JB):                2.273\n",
       "Skew:                          -0.132   Prob(JB):                        0.321\n",
       "Kurtosis:                       3.805   Cond. No.                         413.\n",
       "==============================================================================\n",
       "\n",
       "Warnings:\n",
       "[1] Standard Errors assume that the covariance matrix of the errors is correctly specified.\n",
       "\"\"\""
      ]
     },
     "execution_count": 41,
     "metadata": {},
     "output_type": "execute_result"
    }
   ],
   "source": [
    "lm3 = OLS(y, df_berry2[['seeds']].assign(const=1)).fit()\n",
    "lm3.summary()"
   ]
  },
  {
   "cell_type": "code",
   "execution_count": 42,
   "id": "6b18a576",
   "metadata": {},
   "outputs": [
    {
     "data": {
      "text/plain": [
       "array([0.99794425, 0.00205575, 0.        ])"
      ]
     },
     "execution_count": 42,
     "metadata": {},
     "output_type": "execute_result"
    }
   ],
   "source": [
    "from sklearn.decomposition import PCA\n",
    "from sklearn.preprocessing import StandardScaler\n",
    "from sklearn.pipeline import make_pipeline\n",
    "\n",
    "pca = PCA()\n",
    "pca.fit(X2[:, :-1])\n",
    "pca.explained_variance_ratio_"
   ]
  },
  {
   "cell_type": "code",
   "execution_count": 43,
   "id": "05cc9003",
   "metadata": {},
   "outputs": [],
   "source": [
    "pca = make_pipeline(StandardScaler(), PCA(n_components=1))\n",
    "X_pca = pca.fit_transform(X2[:, :-1])"
   ]
  },
  {
   "cell_type": "code",
   "execution_count": 44,
   "id": "d79108ae",
   "metadata": {},
   "outputs": [
    {
     "data": {
      "text/html": [
       "<table class=\"simpletable\">\n",
       "<caption>OLS Regression Results</caption>\n",
       "<tr>\n",
       "  <th>Dep. Variable:</th>          <td>yield</td>      <th>  R-squared:         </th> <td>   0.993</td> \n",
       "</tr>\n",
       "<tr>\n",
       "  <th>Model:</th>                   <td>OLS</td>       <th>  Adj. R-squared:    </th> <td>   0.993</td> \n",
       "</tr>\n",
       "<tr>\n",
       "  <th>Method:</th>             <td>Least Squares</td>  <th>  F-statistic:       </th> <td>1.075e+04</td>\n",
       "</tr>\n",
       "<tr>\n",
       "  <th>Date:</th>             <td>Mon, 03 Jun 2024</td> <th>  Prob (F-statistic):</th> <td>7.28e-82</td> \n",
       "</tr>\n",
       "<tr>\n",
       "  <th>Time:</th>                 <td>20:06:12</td>     <th>  Log-Likelihood:    </th> <td> -455.47</td> \n",
       "</tr>\n",
       "<tr>\n",
       "  <th>No. Observations:</th>      <td>    76</td>      <th>  AIC:               </th> <td>   914.9</td> \n",
       "</tr>\n",
       "<tr>\n",
       "  <th>Df Residuals:</th>          <td>    74</td>      <th>  BIC:               </th> <td>   919.6</td> \n",
       "</tr>\n",
       "<tr>\n",
       "  <th>Df Model:</th>              <td>     1</td>      <th>                     </th>     <td> </td>    \n",
       "</tr>\n",
       "<tr>\n",
       "  <th>Covariance Type:</th>      <td>nonrobust</td>    <th>                     </th>     <td> </td>    \n",
       "</tr>\n",
       "</table>\n",
       "<table class=\"simpletable\">\n",
       "<tr>\n",
       "    <td></td>       <th>coef</th>     <th>std err</th>      <th>t</th>      <th>P>|t|</th>  <th>[0.025</th>    <th>0.975]</th>  \n",
       "</tr>\n",
       "<tr>\n",
       "  <th>const</th> <td> 6609.9425</td> <td>   11.269</td> <td>  586.570</td> <td> 0.000</td> <td> 6587.489</td> <td> 6632.396</td>\n",
       "</tr>\n",
       "<tr>\n",
       "  <th>x1</th>    <td> -826.8765</td> <td>    7.976</td> <td> -103.665</td> <td> 0.000</td> <td> -842.770</td> <td> -810.983</td>\n",
       "</tr>\n",
       "</table>\n",
       "<table class=\"simpletable\">\n",
       "<tr>\n",
       "  <th>Omnibus:</th>       <td> 0.814</td> <th>  Durbin-Watson:     </th> <td>   2.098</td>\n",
       "</tr>\n",
       "<tr>\n",
       "  <th>Prob(Omnibus):</th> <td> 0.666</td> <th>  Jarque-Bera (JB):  </th> <td>   0.896</td>\n",
       "</tr>\n",
       "<tr>\n",
       "  <th>Skew:</th>          <td> 0.227</td> <th>  Prob(JB):          </th> <td>   0.639</td>\n",
       "</tr>\n",
       "<tr>\n",
       "  <th>Kurtosis:</th>      <td> 2.724</td> <th>  Cond. No.          </th> <td>    1.41</td>\n",
       "</tr>\n",
       "</table><br/><br/>Warnings:<br/>[1] Standard Errors assume that the covariance matrix of the errors is correctly specified."
      ],
      "text/plain": [
       "<class 'statsmodels.iolib.summary.Summary'>\n",
       "\"\"\"\n",
       "                            OLS Regression Results                            \n",
       "==============================================================================\n",
       "Dep. Variable:                  yield   R-squared:                       0.993\n",
       "Model:                            OLS   Adj. R-squared:                  0.993\n",
       "Method:                 Least Squares   F-statistic:                 1.075e+04\n",
       "Date:                Mon, 03 Jun 2024   Prob (F-statistic):           7.28e-82\n",
       "Time:                        20:06:12   Log-Likelihood:                -455.47\n",
       "No. Observations:                  76   AIC:                             914.9\n",
       "Df Residuals:                      74   BIC:                             919.6\n",
       "Df Model:                           1                                         \n",
       "Covariance Type:            nonrobust                                         \n",
       "==============================================================================\n",
       "                 coef    std err          t      P>|t|      [0.025      0.975]\n",
       "------------------------------------------------------------------------------\n",
       "const       6609.9425     11.269    586.570      0.000    6587.489    6632.396\n",
       "x1          -826.8765      7.976   -103.665      0.000    -842.770    -810.983\n",
       "==============================================================================\n",
       "Omnibus:                        0.814   Durbin-Watson:                   2.098\n",
       "Prob(Omnibus):                  0.666   Jarque-Bera (JB):                0.896\n",
       "Skew:                           0.227   Prob(JB):                        0.639\n",
       "Kurtosis:                       2.724   Cond. No.                         1.41\n",
       "==============================================================================\n",
       "\n",
       "Warnings:\n",
       "[1] Standard Errors assume that the covariance matrix of the errors is correctly specified.\n",
       "\"\"\""
      ]
     },
     "execution_count": 44,
     "metadata": {},
     "output_type": "execute_result"
    }
   ],
   "source": [
    "from statsmodels.api import add_constant\n",
    "lm3 = OLS(y, add_constant(X_pca)).fit()\n",
    "lm3.summary()"
   ]
  },
  {
   "cell_type": "markdown",
   "id": "2858c910",
   "metadata": {},
   "source": [
    "### Mallow's Cp\n",
    "\n",
    "OLS 방식으로 측정된 선형 회귀 모델을 대상으로하는 지표입니다. 독립 변수의 수를 많이 가져갈 수록 회귀 모델의 잔차 제곱합은 작아집니다.\n",
    "\n",
    "비록 추가된 독립 변수의 종속 변수와 연관성이 없더라고 변수를 추가 한 것 만으로도 잔차 제곱합의 감소를 효과를 얻을 수 있습니다.\n",
    "\n",
    "이러한 특성하에서 Mallow's Cp는 독립 변수의 일부로 모델을 구성할 때 가장 좋은 모델을 선택하기 위한 기준을 제공합니다.\n",
    "\n",
    "전체 K 개의 독립 변수에서 중에서 P개의 독립 변수를 선택한 회귀 모델에 대한 지표입니다. \n",
    "\n",
    "$C_P = \\frac{SSE_p}{S^2} - N + 2(P + 1)$\n",
    "\n",
    "> $SSE_P = \\sum_{i=1}^N(Y_i - \\hat{Y}_{pi})^2 $\n",
    ">\n",
    "> $\\hat{Y}_{pi}$ 는 선택한 P개의 변수에 의한 회귀 모델의 i번재 관측치의 예측값\n",
    ">\n",
    "> $S^2$은 K개의 변수로 측정된 MSE (절편이 있는 모델이고, 자유도 = N - K)\n",
    ">\n",
    "> N은 표본수\n",
    "\n",
    "Mallow's Cp의 의미\n",
    "\n",
    "Cp가 p + 1와 유사할 때 : 모형이 적절하게 맞추어져 있고 모형이 편향되지 않았다고 판단할 수 있습니다. \n",
    "\n",
    "Cp가 p + 1보다 클 때: 편향이 큰 상태이고, 모델이 제대로 적합이 되지 않음을 나타냅니다\n",
    "\n",
    "Cp가 p + 1보다 작을 때: 샘플링 에러가 의심되는 상황이지만, 편향은 없다고 해석될 수 있습니다.\n",
    "\n",
    "\n",
    "Mallow Cp를 통한 변수 선택\n",
    "\n",
    "되도록, p + 1 에 가까운 변수를 선택합니다.\n",
    "\n",
    "동일한 Cp일 경우 가능한 작은 값인 경우를 택합니다.\n",
    "\n",
    "모든 속성을 사용했을 경우는 Cp는 p + 1 이 되고, 이는 분석상의 의미를 찾을 수는 없습니다.\n",
    "\n",
    "같은 수치의 Cp일 때 여럿일 경우 연구 목적에 맞는 값을 선택합니다.\n",
    "\n",
    "\n",
    "출처: https://online.stat.psu.edu/stat462/node/197/"
   ]
  },
  {
   "cell_type": "markdown",
   "id": "aff1297a",
   "metadata": {},
   "source": [
    "**[Ex.10]**\n",
    "\n",
    "<div style=\"border: 1px solid #ddd; padding: 12px; margin-top: 10px\">\n",
    "\n",
    "df_berry2에서 yield 는 종속 변수 fruitset, fruitmass, seeds은 독립 변수로 회귀 모델에서, \n",
    "\n",
    "1) 제시한 모든 종속 변수를 사용할 경우의 Cp \n",
    "    \n",
    "2) 독립 변수 fruitset, fruitmass에 대한 Cp를 구해봅니다.\n",
    "    \n",
    "3) 독립 변수 fruitset를 사용할 때 Cp를 구해봅니다.\n",
    "    \n",
    "</div>"
   ]
  },
  {
   "cell_type": "code",
   "execution_count": 45,
   "id": "1434a1b4",
   "metadata": {},
   "outputs": [
    {
     "data": {
      "text/plain": [
       "8304.386167439936"
      ]
     },
     "execution_count": 45,
     "metadata": {},
     "output_type": "execute_result"
    }
   ],
   "source": [
    "from statsmodels.formula.api import ols\n",
    "# patsy formula 를 기반으로한 ols api을 이용합니다.\n",
    "lm = ols('yield_ ~ fruitset + fruitmass + seeds', data=df_berry2.rename(columns={'yield': 'yield_'})).fit()\n",
    "S2 = lm.mse_resid\n",
    "S2"
   ]
  },
  {
   "cell_type": "code",
   "execution_count": 46,
   "id": "8d89103c",
   "metadata": {},
   "outputs": [
    {
     "data": {
      "text/plain": [
       "3.9999999999999574"
      ]
     },
     "execution_count": 46,
     "metadata": {},
     "output_type": "execute_result"
    }
   ],
   "source": [
    "# 모든 종속 변수를 사용했을 때 Cp\n",
    "SSE_p = np.sum(lm2.resid ** 2)\n",
    "P = 3\n",
    "N = len(df_berry2)\n",
    "Cp = SSE_p / S2 - N + 2 * (P + 1)\n",
    "Cp"
   ]
  },
  {
   "cell_type": "code",
   "execution_count": 47,
   "id": "e196a6e6",
   "metadata": {},
   "outputs": [
    {
     "data": {
      "text/plain": [
       "7.4649689946054"
      ]
     },
     "execution_count": 47,
     "metadata": {},
     "output_type": "execute_result"
    }
   ],
   "source": [
    "# fruitset,fruitmass을 사용할 때 Cp\n",
    "lm2 = ols('yield_ ~ fruitset + fruitmass', data=df_berry2.rename(columns={'yield': 'yield_'})).fit()\n",
    "SSE_p = np.sum(lm2.resid ** 2)\n",
    "P = 2\n",
    "N = len(df_berry2)\n",
    "Cp = SSE_p / S2 - N + 2 * (P + 1)\n",
    "Cp"
   ]
  },
  {
   "cell_type": "code",
   "execution_count": 48,
   "id": "61638911",
   "metadata": {},
   "outputs": [
    {
     "data": {
      "text/plain": [
       "69.22901088478241"
      ]
     },
     "execution_count": 48,
     "metadata": {},
     "output_type": "execute_result"
    }
   ],
   "source": [
    "# fruitset을 사용할 때 Cp\n",
    "lm2 = ols('yield_ ~ fruitset', data=df_berry2.rename(columns={'yield': 'yield_'})).fit()\n",
    "SSE_p = np.sum(lm2.resid ** 2)\n",
    "P = 1\n",
    "N = len(df_berry2)\n",
    "Cp = SSE_p / S2 - N + 2 * (P + 1)\n",
    "Cp"
   ]
  },
  {
   "cell_type": "code",
   "execution_count": null,
   "id": "df4faa80",
   "metadata": {},
   "outputs": [],
   "source": []
  }
 ],
 "metadata": {
  "kernelspec": {
   "display_name": "Python 3 (ipykernel)",
   "language": "python",
   "name": "python3"
  },
  "language_info": {
   "codemirror_mode": {
    "name": "ipython",
    "version": 3
   },
   "file_extension": ".py",
   "mimetype": "text/x-python",
   "name": "python",
   "nbconvert_exporter": "python",
   "pygments_lexer": "ipython3",
   "version": "3.7.4"
  }
 },
 "nbformat": 4,
 "nbformat_minor": 5
}
