{
 "cells": [
  {
   "cell_type": "code",
   "execution_count": 1,
   "id": "2e5c580f",
   "metadata": {},
   "outputs": [
    {
     "name": "stdout",
     "output_type": "stream",
     "text": [
      "numpy 1.18.5\n",
      "pandas 0.25.1\n",
      "matplotlib 3.5.3\n",
      "seaborn 0.12.2\n"
     ]
    }
   ],
   "source": [
    "import numpy as np\n",
    "import pandas as pd\n",
    "\n",
    "import matplotlib as mpl\n",
    "import matplotlib.pyplot as plt\n",
    "import seaborn as sns\n",
    "\n",
    "for i in [np, pd, mpl, sns]:\n",
    "    print(i.__name__, i.__version__)"
   ]
  },
  {
   "cell_type": "markdown",
   "id": "3809d6e5",
   "metadata": {},
   "source": [
    "# 3-1 머신러닝(Machine Learning)"
   ]
  },
  {
   "cell_type": "markdown",
   "id": "0b05ffa0",
   "metadata": {},
   "source": [
    "- **컴퓨터(연산 장치, Machine)**로 **명시적인 규칙(또는 프로그램)** 없이 데이터를 통해 **성능**을 향상시키는 방법을 연구하는 분야 \n",
    "\n",
    "\n",
    "- **머신러닝 목표**: 실제 상황에서 다양한 데이터와 상황에 있어도 모델의 좋은 성능을 유지하도록 학습하는 것 → 일반화(Generalization)"
   ]
  },
  {
   "cell_type": "markdown",
   "id": "18f00dad",
   "metadata": {},
   "source": [
    "## 0. 데이터셋 소개\n",
    "\n",
    "### Abalone\n",
    "\n",
    "[Abalone](https://archive.ics.uci.edu/dataset/1/abalone) 데이터셋: 전복의 생육 정보 데이터입니다.\n",
    "\n",
    "\n",
    "|Name|Data Type|\tMeas.|\tDescription|\n",
    "|----|---------|-----|-----------|\n",
    "|Sex|nominal||M, F, and I (infant)|\n",
    "|Length|continuous|mm|Longest shell measurement|\n",
    "|Diameter|continuous|mm|perpendicular to length|\n",
    "|Height|continuous|mm|with meat in shell|\n",
    "|Whole|continuous|grams|whole abalone|\n",
    "|Shucked|continuous|grams|weight of meat|\n",
    "|Viscera|continuous|grams|gut weight (after bleeding)|\n",
    "|Shell|continuous|grams|after being dried|\n",
    "|Rings|integer||+1.5 gives the age in years|"
   ]
  },
  {
   "cell_type": "code",
   "execution_count": 2,
   "id": "4bdde5f6",
   "metadata": {},
   "outputs": [
    {
     "data": {
      "text/html": [
       "<div>\n",
       "<style scoped>\n",
       "    .dataframe tbody tr th:only-of-type {\n",
       "        vertical-align: middle;\n",
       "    }\n",
       "\n",
       "    .dataframe tbody tr th {\n",
       "        vertical-align: top;\n",
       "    }\n",
       "\n",
       "    .dataframe thead th {\n",
       "        text-align: right;\n",
       "    }\n",
       "</style>\n",
       "<table border=\"1\" class=\"dataframe\">\n",
       "  <thead>\n",
       "    <tr style=\"text-align: right;\">\n",
       "      <th></th>\n",
       "      <th>Sex</th>\n",
       "      <th>Length</th>\n",
       "      <th>Diameter</th>\n",
       "      <th>Height</th>\n",
       "      <th>Whole</th>\n",
       "      <th>Shucked</th>\n",
       "      <th>Viscera</th>\n",
       "      <th>Shell</th>\n",
       "      <th>Rings</th>\n",
       "    </tr>\n",
       "  </thead>\n",
       "  <tbody>\n",
       "    <tr>\n",
       "      <td>0</td>\n",
       "      <td>M</td>\n",
       "      <td>0.455</td>\n",
       "      <td>0.365</td>\n",
       "      <td>0.095</td>\n",
       "      <td>0.5140</td>\n",
       "      <td>0.2245</td>\n",
       "      <td>0.1010</td>\n",
       "      <td>0.150</td>\n",
       "      <td>15</td>\n",
       "    </tr>\n",
       "    <tr>\n",
       "      <td>1</td>\n",
       "      <td>M</td>\n",
       "      <td>0.350</td>\n",
       "      <td>0.265</td>\n",
       "      <td>0.090</td>\n",
       "      <td>0.2255</td>\n",
       "      <td>0.0995</td>\n",
       "      <td>0.0485</td>\n",
       "      <td>0.070</td>\n",
       "      <td>7</td>\n",
       "    </tr>\n",
       "    <tr>\n",
       "      <td>2</td>\n",
       "      <td>F</td>\n",
       "      <td>0.530</td>\n",
       "      <td>0.420</td>\n",
       "      <td>0.135</td>\n",
       "      <td>0.6770</td>\n",
       "      <td>0.2565</td>\n",
       "      <td>0.1415</td>\n",
       "      <td>0.210</td>\n",
       "      <td>9</td>\n",
       "    </tr>\n",
       "    <tr>\n",
       "      <td>3</td>\n",
       "      <td>M</td>\n",
       "      <td>0.440</td>\n",
       "      <td>0.365</td>\n",
       "      <td>0.125</td>\n",
       "      <td>0.5160</td>\n",
       "      <td>0.2155</td>\n",
       "      <td>0.1140</td>\n",
       "      <td>0.155</td>\n",
       "      <td>10</td>\n",
       "    </tr>\n",
       "    <tr>\n",
       "      <td>4</td>\n",
       "      <td>I</td>\n",
       "      <td>0.330</td>\n",
       "      <td>0.255</td>\n",
       "      <td>0.080</td>\n",
       "      <td>0.2050</td>\n",
       "      <td>0.0895</td>\n",
       "      <td>0.0395</td>\n",
       "      <td>0.055</td>\n",
       "      <td>7</td>\n",
       "    </tr>\n",
       "  </tbody>\n",
       "</table>\n",
       "</div>"
      ],
      "text/plain": [
       "  Sex  Length  Diameter  Height   Whole  Shucked  Viscera  Shell  Rings\n",
       "0   M   0.455     0.365   0.095  0.5140   0.2245   0.1010  0.150     15\n",
       "1   M   0.350     0.265   0.090  0.2255   0.0995   0.0485  0.070      7\n",
       "2   F   0.530     0.420   0.135  0.6770   0.2565   0.1415  0.210      9\n",
       "3   M   0.440     0.365   0.125  0.5160   0.2155   0.1140  0.155     10\n",
       "4   I   0.330     0.255   0.080  0.2050   0.0895   0.0395  0.055      7"
      ]
     },
     "execution_count": 2,
     "metadata": {},
     "output_type": "execute_result"
    }
   ],
   "source": [
    "df_abalone = pd.read_csv('data/abalone.csv')\n",
    "df_abalone.head()"
   ]
  },
  {
   "cell_type": "markdown",
   "id": "1327801a",
   "metadata": {},
   "source": [
    "## 머신러닝 모델(Machine Learning Model)\n",
    "\n",
    "- 데이터에서 추출한 지식(패턴)을 연산 장치(컴퓨터)에 근사화한 객체\n",
    "\n",
    "\n",
    "- 주어진 데이터의 패턴을 학습하여 예측을 수행함"
   ]
  },
  {
   "cell_type": "markdown",
   "id": "2b3c684f",
   "metadata": {},
   "source": [
    "**[Ex.1]** \n",
    "\n",
    "<div style=\"border: 1px solid #ddd; padding: 12px; margin-top: 10px;\">\n",
    "\n",
    "선형 관계를 지니고 있는 데이터를 선형 함수로 근사화해 봅니다.\n",
    "\n",
    "    \n",
    "기울기가 1이고 절편이 5인 직선을 중심으로 형성된 100개의 임의의 데이터 포인트를 생성해봅니다.\n",
    " \n",
    "</div>"
   ]
  },
  {
   "cell_type": "code",
   "execution_count": 3,
   "id": "76e091a7",
   "metadata": {},
   "outputs": [
    {
     "data": {
      "image/png": "[encoded data removed]",
      "text/plain": [
       "<Figure size 500x400 with 1 Axes>"
      ]
     },
     "metadata": {},
     "output_type": "display_data"
    }
   ],
   "source": [
    "a, b= 1, 5\n",
    "X = np.random.random(size=100) * 10\n",
    "y = X * a + b + np.random.normal(size=100)\n",
    "plt.figure(figsize=(5, 4))\n",
    "plt.scatter(X, y, s=10)\n",
    "plt.gca().set_xlabel('X')\n",
    "plt.gca().set_ylabel('y')\n",
    "plt.show()"
   ]
  },
  {
   "cell_type": "markdown",
   "id": "a68e431d",
   "metadata": {},
   "source": [
    "위와 같이 생성된 데이터를 직선으로 근사화 해보면,\n",
    "\n",
    "기울기가 1이고 절편이 5인 직선이 됩니다. 이를 도식화하면 아래와 같습니다."
   ]
  },
  {
   "cell_type": "code",
   "execution_count": 4,
   "id": "21e76800",
   "metadata": {},
   "outputs": [
    {
     "data": {
      "image/png": "[encoded data removed]",
      "text/plain": [
       "<Figure size 500x400 with 1 Axes>"
      ]
     },
     "metadata": {},
     "output_type": "display_data"
    }
   ],
   "source": [
    "a, b = 1, 5\n",
    "plt.figure(figsize=(5, 4))\n",
    "plt.scatter(X, y, s=10)\n",
    "plt.plot((0, 10), (a * 0 + b, a * 10 + b), c='orange')\n",
    "plt.gca().set_xlabel('X')\n",
    "plt.gca().set_ylabel('y')\n",
    "plt.show()"
   ]
  },
  {
   "cell_type": "markdown",
   "id": "e2a3d6bb",
   "metadata": {},
   "source": [
    "### 머신러닝 모델의 분류\n",
    "\n",
    "#### 모수적 모델(Parametric Model)\n",
    "\n",
    "- 주어진 데이터가 특정한 분포를 따른다고 가정한 뒤 예측을 수행합니다.\n",
    "\n",
    "> 함수로 데이터의 관계를 나타내고, 데이터를 통해 모수(계수, Coefficient, 가중치: Weight)를 구하는 학습과정을 통해 성능을 향상시킵니다.\n",
    ">\n",
    "> 선형 회귀 모델, 로지스틱 회귀 모델, 인공신경망\n",
    "\n",
    "#### 비모수적 모델(Non-parametric Model)\n",
    "\n",
    "- 데이터 분포에 대한 가정 없이, 주어진 데이터만을 사용하여 예측을 수행합니다.\n",
    "\n",
    "> 의사 결정 나무(Decision Tree), K-최근접이웃(K-Nearest Neighbors), ..."
   ]
  },
  {
   "cell_type": "markdown",
   "id": "01403eb9",
   "metadata": {},
   "source": [
    "## 손실(Loss)\n",
    "\n",
    "\n",
    "- 모델링을 통한 **근사화**에 의해 발생한 실제 데이터와의 오차를 정량화: 클수록 실제 데이터와 차이가 많이 남을 뜻합니다.\n"
   ]
  },
  {
   "cell_type": "markdown",
   "id": "628f0a34",
   "metadata": {},
   "source": [
    "**[Ex.2]**\n",
    "\n",
    "<div style=\"border: 1px solid #ddd; padding: 12px; margin-top: 10px;\">\n",
    "\n",
    "Ex.1의 데이터에서 임의의 10개의 데이터 포인트를 뽑아 손실(loss)를 구해봅니다.\n",
    "    \n",
    "$\\text{Absolute error} = |y - \\hat{y}|$\n",
    "    \n",
    "$\\text{Squared error} = (y- \\hat{y})^2$\n",
    "</div>"
   ]
  },
  {
   "cell_type": "code",
   "execution_count": 5,
   "id": "aa992fa7",
   "metadata": {},
   "outputs": [
    {
     "data": {
      "image/png": "[encoded data removed]",
      "text/plain": [
       "<Figure size 500x400 with 1 Axes>"
      ]
     },
     "metadata": {},
     "output_type": "display_data"
    }
   ],
   "source": [
    "idx_10 = np.random.choice(np.arange(100), 10)\n",
    "X2, y2 = X[idx_10], y[idx_10]\n",
    "plt.figure(figsize=(5, 4))\n",
    "plt.plot((0, 10), (a * 0 + b, a * 10 + b))\n",
    "plt.scatter(X2, y2, s=30, label='actual')\n",
    "plt.scatter(X2, X2 * a + b, color='orange', label='predicted')\n",
    "plt.vlines(X2, y2, X2 * a + b, linestyles='dashed', color='red', label='error')\n",
    "plt.gca().set_xlabel('X')\n",
    "plt.gca().set_ylabel('y')\n",
    "plt.legend()\n",
    "plt.show()"
   ]
  },
  {
   "cell_type": "code",
   "execution_count": 6,
   "id": "393aac77",
   "metadata": {},
   "outputs": [
    {
     "data": {
      "text/html": [
       "<div>\n",
       "<style scoped>\n",
       "    .dataframe tbody tr th:only-of-type {\n",
       "        vertical-align: middle;\n",
       "    }\n",
       "\n",
       "    .dataframe tbody tr th {\n",
       "        vertical-align: top;\n",
       "    }\n",
       "\n",
       "    .dataframe thead th {\n",
       "        text-align: right;\n",
       "    }\n",
       "</style>\n",
       "<table border=\"1\" class=\"dataframe\">\n",
       "  <thead>\n",
       "    <tr style=\"text-align: right;\">\n",
       "      <th></th>\n",
       "      <th>X</th>\n",
       "      <th>y</th>\n",
       "      <th>y_hat</th>\n",
       "      <th>error</th>\n",
       "      <th>absolute_error</th>\n",
       "      <th>squared_error</th>\n",
       "    </tr>\n",
       "  </thead>\n",
       "  <tbody>\n",
       "    <tr>\n",
       "      <td>0</td>\n",
       "      <td>2.603227</td>\n",
       "      <td>8.562464</td>\n",
       "      <td>7.603227</td>\n",
       "      <td>0.959237</td>\n",
       "      <td>0.959237</td>\n",
       "      <td>0.920135</td>\n",
       "    </tr>\n",
       "    <tr>\n",
       "      <td>1</td>\n",
       "      <td>5.474393</td>\n",
       "      <td>10.169723</td>\n",
       "      <td>10.474393</td>\n",
       "      <td>-0.304670</td>\n",
       "      <td>0.304670</td>\n",
       "      <td>0.092824</td>\n",
       "    </tr>\n",
       "    <tr>\n",
       "      <td>2</td>\n",
       "      <td>8.894571</td>\n",
       "      <td>13.308228</td>\n",
       "      <td>13.894571</td>\n",
       "      <td>-0.586343</td>\n",
       "      <td>0.586343</td>\n",
       "      <td>0.343798</td>\n",
       "    </tr>\n",
       "    <tr>\n",
       "      <td>3</td>\n",
       "      <td>6.093356</td>\n",
       "      <td>10.703443</td>\n",
       "      <td>11.093356</td>\n",
       "      <td>-0.389912</td>\n",
       "      <td>0.389912</td>\n",
       "      <td>0.152032</td>\n",
       "    </tr>\n",
       "    <tr>\n",
       "      <td>4</td>\n",
       "      <td>7.531229</td>\n",
       "      <td>11.481228</td>\n",
       "      <td>12.531229</td>\n",
       "      <td>-1.050001</td>\n",
       "      <td>1.050001</td>\n",
       "      <td>1.102502</td>\n",
       "    </tr>\n",
       "    <tr>\n",
       "      <td>...</td>\n",
       "      <td>...</td>\n",
       "      <td>...</td>\n",
       "      <td>...</td>\n",
       "      <td>...</td>\n",
       "      <td>...</td>\n",
       "      <td>...</td>\n",
       "    </tr>\n",
       "    <tr>\n",
       "      <td>95</td>\n",
       "      <td>9.372568</td>\n",
       "      <td>14.729912</td>\n",
       "      <td>14.372568</td>\n",
       "      <td>0.357344</td>\n",
       "      <td>0.357344</td>\n",
       "      <td>0.127694</td>\n",
       "    </tr>\n",
       "    <tr>\n",
       "      <td>96</td>\n",
       "      <td>6.592768</td>\n",
       "      <td>13.098191</td>\n",
       "      <td>11.592768</td>\n",
       "      <td>1.505423</td>\n",
       "      <td>1.505423</td>\n",
       "      <td>2.266298</td>\n",
       "    </tr>\n",
       "    <tr>\n",
       "      <td>97</td>\n",
       "      <td>4.026391</td>\n",
       "      <td>9.787115</td>\n",
       "      <td>9.026391</td>\n",
       "      <td>0.760724</td>\n",
       "      <td>0.760724</td>\n",
       "      <td>0.578701</td>\n",
       "    </tr>\n",
       "    <tr>\n",
       "      <td>98</td>\n",
       "      <td>4.543819</td>\n",
       "      <td>10.760261</td>\n",
       "      <td>9.543819</td>\n",
       "      <td>1.216442</td>\n",
       "      <td>1.216442</td>\n",
       "      <td>1.479732</td>\n",
       "    </tr>\n",
       "    <tr>\n",
       "      <td>99</td>\n",
       "      <td>1.380184</td>\n",
       "      <td>4.523479</td>\n",
       "      <td>6.380184</td>\n",
       "      <td>-1.856705</td>\n",
       "      <td>1.856705</td>\n",
       "      <td>3.447353</td>\n",
       "    </tr>\n",
       "  </tbody>\n",
       "</table>\n",
       "<p>100 rows × 6 columns</p>\n",
       "</div>"
      ],
      "text/plain": [
       "           X          y      y_hat     error  absolute_error  squared_error\n",
       "0   2.603227   8.562464   7.603227  0.959237        0.959237       0.920135\n",
       "1   5.474393  10.169723  10.474393 -0.304670        0.304670       0.092824\n",
       "2   8.894571  13.308228  13.894571 -0.586343        0.586343       0.343798\n",
       "3   6.093356  10.703443  11.093356 -0.389912        0.389912       0.152032\n",
       "4   7.531229  11.481228  12.531229 -1.050001        1.050001       1.102502\n",
       "..       ...        ...        ...       ...             ...            ...\n",
       "95  9.372568  14.729912  14.372568  0.357344        0.357344       0.127694\n",
       "96  6.592768  13.098191  11.592768  1.505423        1.505423       2.266298\n",
       "97  4.026391   9.787115   9.026391  0.760724        0.760724       0.578701\n",
       "98  4.543819  10.760261   9.543819  1.216442        1.216442       1.479732\n",
       "99  1.380184   4.523479   6.380184 -1.856705        1.856705       3.447353\n",
       "\n",
       "[100 rows x 6 columns]"
      ]
     },
     "execution_count": 6,
     "metadata": {},
     "output_type": "execute_result"
    }
   ],
   "source": [
    "pd.DataFrame(\n",
    "    {'X': X, 'y': y}\n",
    ").assign(\n",
    "    y_hat = lambda x: X * a + b\n",
    ").assign(\n",
    "    error = lambda x: x['y'] - x['y_hat'], # 오차\n",
    ").assign(\n",
    "    absolute_error = lambda x: x['error'].abs(),\n",
    "    squared_error = lambda x: x['error'] ** 2\n",
    ")"
   ]
  },
  {
   "cell_type": "markdown",
   "id": "bee5557b",
   "metadata": {},
   "source": [
    "## 학습(Learning, Train) \n",
    "\n",
    "머신러닝 모델의 손실(Loss)을 줄이는 과정입니다.\n",
    "\n",
    "### 지도학습(Supervised Learning)\n",
    "\n",
    "입력 데이터(Input data)로 대상 데이터(Target data)를 나타낼 때 손실을 줄이는 과정입니다.\n",
    "\n",
    "> 대상 데이터에 대한 예측을 출력합니다.\n",
    "> \n",
    "> 지도학습 모델은 입력 데이터에서 대상 데이터를 예측하기 위한 지식(패턴)을 지니고 있습니다.\n",
    "\n",
    "대상 데이터의 종류에 따라 구분됩니다.\n",
    "\n",
    "1. **분류(Classification)**: 대상 데이터가 범주형\n",
    "\n",
    "- 모델의 예측값과 실제 클래스 사이의 오분류를 줄이는 방향으로 학습하는 작업입니다.\n",
    "\n",
    "<div style=\"padding: 5px; margin-left: 25px;\">\n",
    "\n",
    "**손실(Loss)**\n",
    "       \n",
    "- $\\text{cross entropy} = -\\frac{1}{N}\\sum_{i=1}^{N}\\sum_{j=1}^{M}p_{ij} \\log(q_{ij})$, \n",
    "\n",
    "> $M$은 클래스의 총 수입니다. \n",
    ">\n",
    "> $p_{ij}$:  i번째 데이터가 j번째 클래스에 속할 실제 확률(속하는 여부, 0: 속하지 않음, 1: 속함)입니다. \n",
    ">\n",
    "> $q_{ij}$: i번째 데이터가j번째 클래스에 속할 것으로 모델이 예측한 확률입니다.\n",
    "\n",
    "- $\\text{binary cross entropy} = -\\frac{1}{N}\\sum_{i=1}^{N}\\left(p_i \\log(q_i) + (1 - p_i) \\log(1 - q_i)\\right)$: i 클래스일 확률, $y_i$: i 클래스 여부\n",
    "\n",
    "> N은 데이터 포인트의 총 수입니다.\n",
    ">\n",
    "> $p_i$: i번째 데이터의 클래스입니다. 0: Negative 클래스, 1: Positive 클래스\n",
    ">\n",
    "> $q_j$: i번째 데이터의 Positive 클래스일 예측 확률입니다.\n",
    "    \n",
    "</div>\n",
    "\n",
    "2. **회귀(Regression)**: 대상 데이터가 수치형\n",
    "\n",
    "- 모델의 예측값과 실제 정답값 사이의 차이를 줄이는 방향으로 학습하는 작업입니다.\n",
    "\n",
    "<div style=\"padding: 5px; margin-left: 25px;\">\n",
    "    \n",
    "**손실(Loss)** \n",
    "\n",
    "- $\\text{Mean Squared Error} = \\frac{1}{n}\\sum_{i=1}^n\\left(y_i - \\hat{y_i}\\right)^2$\n",
    "    \n",
    "</div>\n",
    "\n",
    "### 비지도 학습(Unsupervised Learning)\n",
    "\n",
    "데이터를 모델로 나타낼 때 손실을 줄이는 과정입니다.\n",
    "\n",
    "> 비지도학습 모델은 데이터를 효과적으로 나타내기 위한 지식(패턴)을 지니고 있습니다.\n",
    "\n",
    "비지도 학습 모델이 나타내는 데이터에 따라 아래와 같이 구분 됩니다.\n",
    "\n",
    "1. 군집화(Clustering): 주어진 데이터들을 비슷한 그룹으로 묶는 작업입니다.\n",
    "\n",
    "\n",
    "2. 차원축소(Dimension reduction): 고차원 데이터를 저차원의 데이터로 변환하는 작업입니다.\n",
    "\n",
    "\n",
    "3. 속성 추출(Feature extraction): 데이터의 복잡한 특성을 간결하고 유용한 형태로 변환하는 작업입니다.\n",
    "\n",
    "\n",
    "4. 이상치 탐지(Outlier detection): 데이터의 이상치 여부를 확인하고 식별하는 작업입니다."
   ]
  },
  {
   "cell_type": "markdown",
   "id": "eec92c61",
   "metadata": {},
   "source": [
    "##  지표(Metric)\n",
    "\n",
    "- **머신러닝** 모델의 성능을 나타내는 기준\n",
    "\n",
    "### 분류 지표\n",
    "\n",
    "#### 이진 분류(Binary-class Classification)\n",
    "\n",
    "|지표|설명|\n",
    "|---|:----:|\n",
    "|정확도(Accuracy)|$$\\frac{TP + TN}{TP + FN + TN + FP}$$|\n",
    "|정밀도(Precision)|$$\\frac{TP}{TP + FP}$$|\n",
    "|민감도(Sensitivity), 재현율(Recall)|$$\\frac{TP}{TP + FN}$$|\n",
    "|특이도(Speicificity)|$$\\frac{TN}{TN + FP}$$|\n",
    "|F1-score|$$\\frac{2×Precision×Recall}{Precision＋Recall}$$|\n",
    "|AUC(Area Under reciver chacteristic Curve)|ROC 커브의 하부 면적|\n",
    "\n",
    "|예측＼실제|Positive|Negative|\n",
    "|--|--|--|\n",
    "|Positive|TP(True Positive)|FP(False Positive)|\n",
    "|Negative|FN(False Negative)|TN(True Negative)|\n",
    "\n",
    "**Rate(율)로 끝나는 지표**\n",
    "\n",
    "\"지표가 나타내는 정답인 케이스\"의 수 대비 \"지표가 나타내는 케이스\"의 수 입니다. \n",
    "\n",
    "(예) Positive / Negative 문제에서\n",
    "\n",
    "False Positive Rate\n",
    "\n",
    "> 지표가 나타내는 케이스: False Positive\n",
    ">\n",
    "> 지표가 나타내는 정답인 케이스: False Positive의 정답 케이스는 Negative입니다.\n",
    " \n",
    "즉, \n",
    "\n",
    "$\\text{False Positive Rate}=\\frac{\\text{False Positive의 수}}{\\text{타겟이 Negative인 수}}=\\frac{FP}{TN + FP}$\n",
    "\n",
    "(예) Positive / Negative 문제에서\n",
    "\n",
    "True Positive Rate\n",
    "\n",
    "> 지표가 나타내는 케이스: True Positive\n",
    ">\n",
    "> 지표가 나타내는 정답인 케이스: True Positive의 정답 케이스는 Positive입니다. \n",
    "\n",
    "즉, \n",
    "\n",
    "$\\text{True Positive Rate}=\\frac{\\text{True Positive의 수}}{\\text{타겟이 Positive인 수}}=\\frac{TP}{TP + FN}$\n",
    "\n",
    "(예) Acceptance / Rejection 인 문제에서 \n",
    "\n",
    "False Acceptance Rate\n",
    "\n",
    "> 지표가 나타내는 케이스: False Acceptance \n",
    ">\n",
    "> 지표가 나타내는 정답인 케이스: False Acceptance의 정답 케이스는 Reject입니다. \n",
    "\n",
    "$\\text{False Acceptance Rate}=\\frac{\\text{False Acceptance의 수}}{\\text{타겟이 Reject인 수}}=\\frac{FA}{TR + FA}$\n",
    "\n",
    "※ $\\text{False Rejection Rate}=\\frac{\\text{False Rejection의 수}}{\\text{타겟이 Accept인 수}}=\\frac{FR}{TA + FR}$\n",
    "\n",
    "\n",
    "#### 다중 클래스 분류(Multi-class Classification)\n",
    "\n",
    "- 정밀도, 재현율, F1-score 같이 Positive 클래스를 기준으로 측정하는 지표는 다중 클래스에서는 Positive 클래스를 정하는 방법과, 여러 개의 Positive 클래스를 사용하여 점수를 집계하는 방법을 지정할 필요가 생깁니다.\n",
    "\n",
    "<div style=\"padding: 5px; margin-left: 25px;\">\n",
    "\n",
    "1. Positive / Negative 클래스를 지정하는 방법에 따른 구분\n",
    "\n",
    "- **OVR**(One-vs-Rest): Positive 클래스외에 나머지는 Negative 클래스로 지정합니다.\n",
    "\n",
    "    \n",
    "- **OVO**(One-vs-One): Positive 클래스와 Negative 클래스를 개별로 지정합니다.\n",
    "\n",
    "</div>\n",
    "\n",
    "<div style=\"padding: 5px; margin-left: 25px;\">\n",
    "\n",
    "2. Positive/Negative 클래스의 경우가 여러 가지 있다면, 각 클래스별 집계를 내는 방법에 따라구분됩니다.\n",
    "\n",
    "- **Micro**: 개별 클래스에 대한 TP, FP, FN를 산출하여 구합니다., Micro Recall, Micro Precision, ... \n",
    "\n",
    "> $\\text{Micro Recall} = \\frac{{\\text{TP}_1 + \\text{TP}_2 + \\ldots + \\text{TP}_n}}{{\\text{TP}_1 + \\text{TP}_2 + \\ldots + \\text{TP}_n + \\text{FN}_1 + \\text{FN}_2 + \\ldots + \\text{FN}_n}}$\n",
    ">   \n",
    "> $\\text{Micro Precision} = \\frac{{\\text{TP}_1 + \\text{TP}_2 + \\ldots + \\text{TP}_n}}{{\\text{TP}_1 + \\text{TP}_2 + \\ldots + \\text{TP}_n + \\text{FP}_1 + \\text{FP}_2 + \\ldots + \\text{FP}_n}}$\n",
    "    \n",
    "- **Macro**: 클래스의 비율과 관계없이, 각 클래스별 평균으로 계산: Macro Recall,  Macro Precision, ...\n",
    "\n",
    "> $\\text{Macro Recall} = \\frac{1}{n} \\sum_{i=1}^{n} \\frac{{\\text{TP}_i}}{{\\text{TP}_i + \\text{FN}_i}}$\n",
    ">\n",
    "> $\\text{Macro Precision} = \\frac{1}{n} \\sum_{i=1}^{n} \\frac{{\\text{TP}_i}}{{\\text{TP}_i + \\text{FP}_i}}$\n",
    "\n",
    "> $TP_1, TP_2, ..., TP_n$:은 n번 클래스의 True Positive\n",
    ">\n",
    "> $FN_1, FN_2, ..., FN_n$:은 n번 클래스의 False Negative\n",
    ">   \n",
    "> $FP_1, FP_2, ..., FP_n$:은 n번 클래스의 False Positive\n",
    "\n",
    "</div>\n",
    "\n",
    "### 회귀 지표\n",
    "\n",
    "|지표|설명|\n",
    "|----|:----|\n",
    "|평균제곱오차(MSE, Mean Squared Error)|$$\\frac{1}{n}\\sum_{i=1}^n\\left(y_i - \\hat{y_i}\\right)^2$$|\n",
    "|평균절대오차(MAE, Mean Absolute Error)|$$\\frac{1}{n}\\sum_{i=1}^n|y_i - \\hat{y_i}|$$|\n",
    "|평균절대비율오차(MAPE, Mean Absolute Percentage Error)|$$\\frac{100}{n}\\sum_{i=1}^n|\\frac{y_i - \\hat{y_i}}{y_i}|$$|\n",
    "|R2 점수(R squared score)|$$1 - \\frac{\\sum_{i=1}^n\\left(y_i - \\hat{y_i}\\right)^2}{\\sum_{i=1}^n\\left(y_i - \\bar{y}\\right)^2}$$|\n",
    "\n",
    "\n",
    "### 군집화 지표\n",
    "\n",
    "|지표|설명|\n",
    "|----|:----|\n",
    "|중심거리제곱합(Inertia, Sum of Squared error)|$$\\text{Inertia} = \\sum_{i=1}^{k} \\sum_{j=1}^{n_i} ||x_{ij} - c_i||^2$$<br/>$k$: 군집 수<br/>$n_i$: $C_i$의 데이터 포인트 수<br/>$x_{ij}$: $C_i$의 j번째 데이터 포인트<br/>$c_i$: $C_i$ 의 중심(평균)입니다<br/>|\n",
    "|실루엣 점수(Silhoutte score)|$$S(i) = \\frac{b(i) - a(i)}{\\max\\{a(i), b(i)\\}}$$<br/>S(i): 데이터 포인트i의 실루엣 계수<br/>a(i): 같은 군집 내의 모든 다른 포인트와의 평균 거리<br/>b(i): 가장 가까운 이웃 클러스터에 속한 모든 포인트와의 평균 거리<br/>$$\\text{Silhouette Score} = \\frac{1}{N} \\sum_{i=1}^{N} S(i)$$|\n",
    "|던 지표(Dunn index)|$$\\text{Dunn Index} = \\frac{\\min_{i \\neq j} \\left( \\min_{x \\in C_i, y \\in C_j} d(x, y) \\right)}{\\max_{k} \\left( \\max_{x, y \\in C_k} d(x, y) \\right)}$$<br/>$C_i,C_j,C_k$: 각각 클러스터를 나타냅니다.<br/>$d(x,y)$: x, y 의 거리\n",
    "|"
   ]
  },
  {
   "cell_type": "markdown",
   "id": "0ab31757",
   "metadata": {},
   "source": [
    "## 평가(Test)\n",
    "\n",
    "- 머신러닝의 과제의 목표를 효과적으로 나타낼 수 있는 지표를 선택합니다.\n",
    "\n",
    "\n",
    "- 데이터를 학습 데이터(Train data)와 평가 데이터(Test data)로 구성합니다.\n",
    "\n",
    "\n",
    "- 머신러닝 모델을 실제로 적용하는 상황을 고려하여 구성합니다.\n",
    "\n",
    "> 주식 가격 예측: 주식 가격은 과거의 데이터를 바탕으로 앞으로의 주식 가격을 예측합니다. → 특정 시점을 기준으로 이전은 학습 데이터로 이후는 평가 데이터로 구성합니다.\n",
    "\n",
    "> 신제품 수요 예측: 신제품은 데이터가 축적이 되지 않은 상태입니다. → 평가 데이터는 학습 데이터에 등장하지 않은 제품의 데이터로 구성합니다."
   ]
  },
  {
   "cell_type": "code",
   "execution_count": null,
   "id": "66b9165b",
   "metadata": {},
   "outputs": [],
   "source": []
  },
  {
   "cell_type": "markdown",
   "id": "8775bd98",
   "metadata": {},
   "source": [
    "## 검증(Validation)\n",
    "\n",
    "머신러닝을 평가했을 때의 예상 성능을 가늠해보는 과정입니다.\n",
    "→ 검증의 결과가 평가의 결과와 유사할 수록 좋은 검증입니다.\n",
    "\n",
    "검증의 전략: 평가 방법의 특성을 반영하여 검증 방법 을 구성합니다.\n",
    "\n",
    "검증법\n",
    "----\n",
    "\n",
    "학습 데이터를 **검증용 학습데이터**와 **검증용 평가데이터(검증 데이터)**를 선택 방법과 검증을 진행 방법하는 따라 구분됩니다.\n",
    "\n",
    "### 선택 방법\n",
    "\n",
    "#### 계층적 선택법(Stratified Selection)\n",
    "\n",
    "- 분류 데이터셋에서 검증용 학습데이터와 검증용 평가데이터를 구성할 때 대상 데이터(target)의 분포를 양쪽에 동일하게 구성합니다.\n",
    "\n",
    "#### 그룹화 선택법(Grouped Selection)\n",
    "\n",
    "- 범주형 데이터를 기준으로 검증용 학습 데이터에는 등장하지 않는 범주를 검증용 평가 데이터에 구성합니다.\n",
    "\n",
    "#### 시계열 선택법(Time Series Selection)\n",
    "\n",
    "- 데이터의 시점을 T 시점 기준으로 T 시점 이전을 검증용 학습 데이터에 T 시점 이후를 검증용 평가 데이터로 구성합니다.\n",
    "\n",
    "### 진행 방법\n",
    "\n",
    "#### 홀드아웃 검증(Holdout Validation)\n",
    "\n",
    "1. 검증용 학습데이터와 검증용 평가데이터로 나눕니다.\n",
    "\n",
    "\n",
    "2. 검증용 학습데이터로 모델을 학습시키고 검증용 평가 데이터로 성능을 측정합니다.\n",
    "\n",
    "#### 교차 검증(Cross Validation)\n",
    "\n",
    "- 데이터를 여러 개의 폴드(겹, fold)로 나누고 각 폴드를 한 번씩 검증 데이터로 나머지는 학습 데이터로 사용여 검증 결과를 생성합니다.\n",
    "\n",
    "\n",
    "- 폴드 수만큼 나온 검증 결과를 평균을 내어 성능을 측정합니다.\n",
    "\n",
    "\n",
    "- 교차 검증은 폴드의 수만큼 학습과 검증이 되기 때문에 데이터가 상대적으로 적거나 변인이 많아 정교한 검증이 요구가 될 경우 채택을 합니다.\n",
    "\n",
    "\n",
    "- 변인이 많은 상황에서 신뢰도 높은 검증을 하고자 할 경우에 교차검증을 여러 번 진행하기도 합니다.\n"
   ]
  },
  {
   "cell_type": "markdown",
   "id": "48bd21d9",
   "metadata": {},
   "source": [
    "![image.png](data:image/png;base64,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)\n",
    "\n",
    "※ 이미지 출처: https://medium.com/analytics-vidhya/cross-validation-techniques-a925782517e8"
   ]
  },
  {
   "cell_type": "markdown",
   "id": "e696777d",
   "metadata": {},
   "source": [
    "## 모델 선택\n",
    "\n",
    "### 모델의 선택 과정\n",
    "\n",
    "\n",
    "1. 과제에 대한 정확한 이해를 바탕으로 검증 방법 정의합니다.\n",
    "\n",
    "\n",
    "2. 데이터 이해하여 데이터의 특성, 분포, 이상치 결측치들을 고려하여 전처리 과정을 정의합니다.\n",
    "\n",
    "\n",
    "3. 모델 제작\n",
    "\n",
    "<div style=\"margin-top: 10px; margin-left: 25px\">\n",
    "\n",
    "데이터 전처리 → 속성 공학 → 모델 정의\n",
    "    \n",
    "</div>\n",
    "\n",
    "4. 검증 및 결과 분석하여 모델의 성능이 안 좋은 데이터의 유형을 분석하여 개선 방안을 도출합니다.\n",
    "\n",
    "\n",
    "5. 2~4 단계를 반복하면서 모델 선별\n",
    "\n",
    "\n",
    "6. 전체 학습 데이터로 재학습합니다."
   ]
  },
  {
   "cell_type": "markdown",
   "id": "8eeeffc6",
   "metadata": {},
   "source": [
    "**[Ex.2]**\n",
    "\n",
    "<div style=\"border: 1px solid #ddd; padding: 12px; margin-top: 10px;\">\n",
    "\n",
    "df_abalone으로 abalone(전복)의 성별(Sex)을 맞추는 머신러닝 모델과제를 위한 평가 데이터를 만듭니다.\n",
    "\n",
    "**평가 요건**\n",
    "\n",
    "평가 데이터는 성비를 맞추어 전체 데이터에서 20%를 무작위로 뽑습니다. \n",
    "\n",
    "학습데이터는 df_train, 테스트데이터는 df_test로 저장합니다. \n",
    "    \n",
    "</div>"
   ]
  },
  {
   "cell_type": "code",
   "execution_count": 7,
   "id": "658198a1",
   "metadata": {},
   "outputs": [],
   "source": [
    "from sklearn.model_selection import train_test_split\n",
    "df_train, df_test = train_test_split(\n",
    "    df_abalone, test_size=0.2, stratify=df_abalone['Sex'], random_state=123\n",
    ")"
   ]
  },
  {
   "cell_type": "markdown",
   "id": "673cbd5b",
   "metadata": {},
   "source": [
    "**[Ex.3]**\n",
    "\n",
    "df_abalone 데이터의 성별(Sex)을 예측하는 머신러닝 모델을 만들어봅니다.\n",
    "\n",
    "평가 지표는 정확도(Accuracy)입니다.\n",
    "\n",
    "검증과정을 정의하고 구현해보고,\n",
    "\n",
    "학습데이터 df_train으로 성별을 구분하는 여러 모델을 자유롭게 만들어 검증을 해봅니다.\n",
    "\n",
    "모델의 성능을 df_test로 평가합니다."
   ]
  },
  {
   "cell_type": "code",
   "execution_count": 8,
   "id": "10c3f376",
   "metadata": {},
   "outputs": [],
   "source": [
    "from sklearn.model_selection import StratifiedKFold, ShuffleSplit, cross_validate\n",
    "from sklearn.pipeline import make_pipeline\n",
    "from sklearn.preprocessing import StandardScaler\n",
    "from sklearn.metrics import accuracy_score\n",
    "\n",
    "y_target = 'Sex'\n",
    "# 입력 변수를 정의합니다.\n",
    "X_cols = [i for i in df_train.columns if i != y_target]\n",
    "# 5-fold 층화 교차 검증 Splitter를 설정합니다.\n",
    "cv = StratifiedKFold(n_splits=5, random_state=123, shuffle=True)\n",
    "\n",
    "def eval_model(clf):\n",
    "    \"\"\"\n",
    "    모델의 성능을 검증합니다. \n",
    "    Parameters:\n",
    "        clf: Classifier\n",
    "            분류기 인스턴스\n",
    "    Returns:\n",
    "        학습 평균, 학습 표준편차, 검증 평균, 검증 표준편차\n",
    "    \"\"\"\n",
    "    result = cross_validate(clf, df_train[X_cols], df_train[y_target], cv=cv, scoring='accuracy', return_train_score=True)\n",
    "    return np.mean(result['train_score']), np.std(result['train_score']), np.mean(result['test_score']), np.std(result['test_score'])\n",
    "\n",
    "def test_model(clf):\n",
    "    \"\"\"\n",
    "    모델을 평가합니다.\n",
    "    Parameters:\n",
    "        clf: Classifier\n",
    "            분류기 인스턴스\n",
    "    Returns:\n",
    "        평가 결과 (Accuracy)\n",
    "    \"\"\"\n",
    "    prd = clf.predict(df_test[X_cols])\n",
    "    return accuracy_score(df_test['Sex'], prd)"
   ]
  },
  {
   "cell_type": "code",
   "execution_count": 9,
   "id": "96a5cef2",
   "metadata": {},
   "outputs": [
    {
     "data": {
      "text/plain": [
       "(0.5706377489717693,\n",
       " 0.0025117044396221083,\n",
       " 0.5662886559707545,\n",
       " 0.01286315145162258)"
      ]
     },
     "execution_count": 9,
     "metadata": {},
     "output_type": "execute_result"
    }
   ],
   "source": [
    "from sklearn.linear_model import LogisticRegression\n",
    "from sklearn.metrics import mean_squared_error\n",
    "\n",
    "# 로지스틱 회귀 모델을 만들어 검증해봅니다.\n",
    "\n",
    "# StandardScaler → LogisticRegression\n",
    "clf_lr = make_pipeline(\n",
    "    StandardScaler(), \n",
    "    LogisticRegression(solver='lbfgs', multi_class='multinomial') # 다중 클래스 확률을 softmax로 계산토록합니다.\n",
    ")\n",
    "eval_model(clf_lr)"
   ]
  },
  {
   "cell_type": "code",
   "execution_count": 10,
   "id": "194d9348",
   "metadata": {},
   "outputs": [
    {
     "data": {
      "text/plain": [
       "0.5299043062200957"
      ]
     },
     "execution_count": 10,
     "metadata": {},
     "output_type": "execute_result"
    }
   ],
   "source": [
    "# 로지스틱 회귀 모델을 전체 학습 데이터로 학습하고, 평가해봅니다.\n",
    "clf_lr.fit(df_train[X_cols], df_train[y_target])\n",
    "test_model(clf_lr)"
   ]
  },
  {
   "cell_type": "code",
   "execution_count": 11,
   "id": "3cbf14ff",
   "metadata": {},
   "outputs": [
    {
     "data": {
      "text/plain": [
       "(0.7624965151051286,\n",
       " 0.005915177388537954,\n",
       " 0.5626882214319154,\n",
       " 0.017037374520945774)"
      ]
     },
     "execution_count": 11,
     "metadata": {},
     "output_type": "execute_result"
    }
   ],
   "source": [
    "from sklearn.ensemble import RandomForestClassifier\n",
    "\n",
    "# Random Forest 모델을 만들어 검증해봅니다.\n",
    "clf_rf = RandomForestClassifier(n_estimators=300, max_depth=7, random_state=123)\n",
    "eval_model(clf_rf)"
   ]
  },
  {
   "cell_type": "code",
   "execution_count": 12,
   "id": "ff9325fc",
   "metadata": {},
   "outputs": [
    {
     "data": {
      "text/plain": [
       "0.5430622009569378"
      ]
     },
     "execution_count": 12,
     "metadata": {},
     "output_type": "execute_result"
    }
   ],
   "source": [
    "# Random Forest 모델을 전체 학습 데이터로 학습하고, 평가해봅니다.\n",
    "clf_rf.fit(df_train[X_cols], df_train[y_target])\n",
    "test_model(clf_rf)"
   ]
  },
  {
   "cell_type": "code",
   "execution_count": 13,
   "id": "9e4a029f",
   "metadata": {},
   "outputs": [
    {
     "data": {
      "text/plain": [
       "(0.6765942879142044,\n",
       " 0.002459365555234087,\n",
       " 0.5653833011626678,\n",
       " 0.01151139827582167)"
      ]
     },
     "execution_count": 13,
     "metadata": {},
     "output_type": "execute_result"
    }
   ],
   "source": [
    "from sklearn.ensemble import VotingClassifier\n",
    "\n",
    "# Voting Classifier를 clf_lr(Logistic Regression)과 clf_rf(Random Forest)로 구성합니다.\n",
    "clf_vt = VotingClassifier([\n",
    "    ('lr', clf_lr),\n",
    "    ('rf', clf_rf)\n",
    "], voting='soft')\n",
    "eval_model(clf_vt)"
   ]
  },
  {
   "cell_type": "code",
   "execution_count": 14,
   "id": "b64384cf",
   "metadata": {},
   "outputs": [
    {
     "data": {
      "text/plain": [
       "0.5358851674641149"
      ]
     },
     "execution_count": 14,
     "metadata": {},
     "output_type": "execute_result"
    }
   ],
   "source": [
    "# Voting Classifier를 전체 학습 데이터로 학습하고, 평가합니다.\n",
    "clf_vt.fit(df_train[X_cols], df_train[y_target])\n",
    "test_model(clf_vt)"
   ]
  },
  {
   "cell_type": "markdown",
   "id": "8d02a18f",
   "metadata": {},
   "source": [
    "**[Ex.4]**\n",
    "\n",
    "<div style=\"border: 1px solid #ddd; padding: 12px; margin-top: 10px;\">\n",
    "\n",
    "df_abalone으로 abalone(전복)의 연령(Rings)을 맞추는 머신러닝 모델과제를 위한 평가 데이터를 만듭니다.\n",
    "    \n",
    "**평가 요건**\n",
    "\n",
    "평가 데이터는 성별(Sex)이 I(Infant)인 것으로만 구성하고, 학습 데이터는 성별이 I가 아닌 것으로 구성합니다.\n",
    "\n",
    "학습데이터는 df_train2, 테스트데이터는 df_test2로 저장합니다. \n",
    "\n",
    "</div>"
   ]
  },
  {
   "cell_type": "code",
   "execution_count": 15,
   "id": "b9319d18",
   "metadata": {},
   "outputs": [],
   "source": [
    "df_train2 = df_abalone.loc[df_abalone['Sex'] != 'I']\n",
    "df_test2 = df_abalone.loc[df_abalone['Sex'] == 'I']"
   ]
  },
  {
   "cell_type": "markdown",
   "id": "d7202727",
   "metadata": {},
   "source": [
    "**[Ex.5]**\n",
    "\n",
    "<div style=\"border: 1px solid #ddd; padding: 12px; margin-top: 10px;\">\n",
    "\n",
    "학습데이터 df_train2으로 연령(Rings)을 맞추는 모델을 자유롭게 만들어봅니다.\n",
    "\n",
    "평가 지표는 평균제곱오차(MSE, Mean Squared Error)입니다.\n",
    "\n",
    "검증과정을 정의하고 구현해보고,\n",
    "\n",
    "학습데이터 df_train으로 연령(Rings)을 구분하는 여러 모델을 자유롭게 만들어 검증을 해봅니다.\n",
    "\n",
    "모델의 성능을 df_test로 평가합니다.\n",
    "    \n",
    "</div>"
   ]
  },
  {
   "cell_type": "code",
   "execution_count": 16,
   "id": "c93d4cbb",
   "metadata": {},
   "outputs": [],
   "source": [
    "from sklearn.model_selection import GroupKFold\n",
    "y_target2 = 'Rings'\n",
    "grp = 'Sex'\n",
    "X_cols2 = [i for i in df_train2.columns if i != y_target2 and i != grp]\n",
    "# 등장하지 않는 성별이 Test에 나오므로, 검증시 성별을 달리하여 검증 train과 검증 test로 나뉘도록 하기 위해 GroupKFold를 씁니다.\n",
    "cv2 = GroupKFold(n_splits=2)\n",
    "\n",
    "def eval_model2(reg):\n",
    "    \"\"\"\n",
    "    그룹화 교차 검증을 통한 모델의 성능을 검증합니다. \n",
    "    Parameters:\n",
    "        clf: Classifier\n",
    "            분류기 인스턴스\n",
    "    Returns:\n",
    "        학습 평균, 학습 표준편차, 검증 평균, 검증 표준편차\n",
    "    \"\"\"\n",
    "    # groups=df_train2[grp] grp(성별)을 기준으로 나뉘도록 설정합니다.\n",
    "    result = cross_validate(\n",
    "        reg, df_train2[X_cols2], df_train2[y_target2], \n",
    "        cv=cv2, groups=df_train2[grp], scoring='neg_mean_squared_error', return_train_score=True\n",
    "    )\n",
    "    return np.mean(result['train_score']), np.std(result['train_score']), np.mean(result['test_score']), np.std(result['test_score'])\n",
    "\n",
    "def test_model2(reg):\n",
    "    \"\"\"\n",
    "    모델을 평가합니다.\n",
    "    Parameters:\n",
    "        clf: Classifier\n",
    "            분류기 인스턴스\n",
    "    Returns:\n",
    "        평가 결과 (Accuracy)\n",
    "    \"\"\"\n",
    "    prd = reg.predict(df_test2[X_cols2])\n",
    "    return mean_squared_error(df_test2['Rings'], prd)"
   ]
  },
  {
   "cell_type": "code",
   "execution_count": 17,
   "id": "b0ad49e7",
   "metadata": {},
   "outputs": [
    {
     "data": {
      "text/plain": [
       "(-5.658948736875659,\n",
       " 0.5301771902953769,\n",
       " -5.932594716298198,\n",
       " 0.5366537551139801)"
      ]
     },
     "execution_count": 17,
     "metadata": {},
     "output_type": "execute_result"
    }
   ],
   "source": [
    "from sklearn.linear_model import LinearRegression\n",
    "\n",
    "reg_lr = make_pipeline(\n",
    "    StandardScaler(),\n",
    "    LinearRegression()\n",
    ")\n",
    "eval_model2(reg_lr)"
   ]
  },
  {
   "cell_type": "code",
   "execution_count": 18,
   "id": "56e6f60d",
   "metadata": {},
   "outputs": [
    {
     "data": {
      "text/plain": [
       "4.609174708960943"
      ]
     },
     "execution_count": 18,
     "metadata": {},
     "output_type": "execute_result"
    }
   ],
   "source": [
    "reg_lr.fit(df_train2[X_cols2], df_train2[y_target2])\n",
    "test_model2(reg_lr)"
   ]
  },
  {
   "cell_type": "code",
   "execution_count": 19,
   "id": "3b225d13",
   "metadata": {},
   "outputs": [
    {
     "data": {
      "text/plain": [
       "(-3.0299508606178334,\n",
       " 0.43225112523057496,\n",
       " -5.746277817835207,\n",
       " 0.6302849459652262)"
      ]
     },
     "execution_count": 19,
     "metadata": {},
     "output_type": "execute_result"
    }
   ],
   "source": [
    "from sklearn.ensemble import RandomForestRegressor\n",
    "\n",
    "reg_rf = RandomForestRegressor(n_estimators=300, max_depth=7, random_state=123)\n",
    "eval_model2(reg_rf)"
   ]
  },
  {
   "cell_type": "code",
   "execution_count": 20,
   "id": "24299957",
   "metadata": {},
   "outputs": [
    {
     "data": {
      "text/plain": [
       "4.044116723974344"
      ]
     },
     "execution_count": 20,
     "metadata": {},
     "output_type": "execute_result"
    }
   ],
   "source": [
    "reg_rf.fit(df_train2[X_cols2], df_train2[y_target2])\n",
    "test_model2(reg_rf)"
   ]
  },
  {
   "cell_type": "code",
   "execution_count": 21,
   "id": "c436635b",
   "metadata": {},
   "outputs": [
    {
     "data": {
      "text/plain": [
       "(-4.030321012231051,\n",
       " 0.4859813965250255,\n",
       " -5.510750554251789,\n",
       " 0.5910460769415837)"
      ]
     },
     "execution_count": 21,
     "metadata": {},
     "output_type": "execute_result"
    }
   ],
   "source": [
    "from sklearn.ensemble import VotingRegressor\n",
    "\n",
    "reg_vt = VotingRegressor([\n",
    "    ('lr', reg_lr),\n",
    "    ('rf', reg_rf)\n",
    "])\n",
    "eval_model2(reg_vt)"
   ]
  },
  {
   "cell_type": "code",
   "execution_count": 22,
   "id": "b036c919",
   "metadata": {},
   "outputs": [
    {
     "data": {
      "text/plain": [
       "4.0508805826831145"
      ]
     },
     "execution_count": 22,
     "metadata": {},
     "output_type": "execute_result"
    }
   ],
   "source": [
    "reg_vt.fit(df_train2[X_cols2], df_train2[y_target2])\n",
    "test_model2(reg_vt)"
   ]
  },
  {
   "cell_type": "markdown",
   "id": "1077bf59",
   "metadata": {},
   "source": [
    "머신러닝의 과정\n",
    "-------------------\n",
    "\n",
    "**1. 문제 정의** \n",
    "\n",
    "**2. 데이터 수집**\n",
    "\n",
    "**3. 문제 분석** \n",
    "\n",
    "**4. 모델 선택**\n",
    "\n",
    "**5. 모델 평가** \n",
    "\n",
    "**6. 평가 결과 분석** \n",
    "\n",
    "**7. 개선점 도출 후 1~6 단계로 이동**"
   ]
  },
  {
   "cell_type": "code",
   "execution_count": null,
   "id": "3ec2fce1",
   "metadata": {},
   "outputs": [],
   "source": []
  }
 ],
 "metadata": {
  "kernelspec": {
   "display_name": "Python 3 (ipykernel)",
   "language": "python",
   "name": "python3"
  },
  "language_info": {
   "codemirror_mode": {
    "name": "ipython",
    "version": 3
   },
   "file_extension": ".py",
   "mimetype": "text/x-python",
   "name": "python",
   "nbconvert_exporter": "python",
   "pygments_lexer": "ipython3",
   "version": "3.7.4"
  }
 },
 "nbformat": 4,
 "nbformat_minor": 5
}
